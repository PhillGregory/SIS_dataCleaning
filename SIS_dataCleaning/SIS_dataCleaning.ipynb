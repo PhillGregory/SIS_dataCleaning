{
 "cells": [
  {
   "cell_type": "markdown",
   "id": "b570b2b5",
   "metadata": {},
   "source": [
    "# Data Quality Analysis as a Precursor to Machine Learning Activities\n",
    "\n",
    "* A student-information-system (SIS) intends to include additional ML-based insights into its management reporting suite. \n",
    "\n",
    "* My task is to review the provided data file and suggest methods to clean the data as part of quality assurance for the ML system."
   ]
  },
  {
   "cell_type": "markdown",
   "id": "08653e42",
   "metadata": {},
   "source": [
    "## Firstly, import the required packages and import the SIS data into a pandas dataframe"
   ]
  },
  {
   "cell_type": "code",
   "execution_count": 1,
   "id": "e1c08805",
   "metadata": {},
   "outputs": [],
   "source": [
    "# Package imports\n",
    "import numpy as np\n",
    "import pandas as pd\n",
    "import matplotlib.pyplot as plt"
   ]
  },
  {
   "cell_type": "code",
   "execution_count": 2,
   "id": "962000cf",
   "metadata": {},
   "outputs": [
    {
     "data": {
      "text/html": [
       "<div>\n",
       "<style scoped>\n",
       "    .dataframe tbody tr th:only-of-type {\n",
       "        vertical-align: middle;\n",
       "    }\n",
       "\n",
       "    .dataframe tbody tr th {\n",
       "        vertical-align: top;\n",
       "    }\n",
       "\n",
       "    .dataframe thead th {\n",
       "        text-align: right;\n",
       "    }\n",
       "</style>\n",
       "<table border=\"1\" class=\"dataframe\">\n",
       "  <thead>\n",
       "    <tr style=\"text-align: right;\">\n",
       "      <th></th>\n",
       "      <th>ID</th>\n",
       "      <th>Name</th>\n",
       "      <th>Location</th>\n",
       "      <th>Grade</th>\n",
       "      <th>Title</th>\n",
       "      <th>Join\\nDate</th>\n",
       "      <th>LWD</th>\n",
       "      <th>Type</th>\n",
       "      <th>Divison</th>\n",
       "      <th>Reports To</th>\n",
       "      <th>Highest\\nQualification\\nLevel</th>\n",
       "      <th>Highest Qualification</th>\n",
       "      <th>Major</th>\n",
       "      <th>University</th>\n",
       "      <th>All Qualifications from Profile</th>\n",
       "      <th>Courses Taught- Term 201510</th>\n",
       "      <th>MAJOR TEACHING FIELD</th>\n",
       "      <th>DOCUMENT OTHER PROFESSIONAL CERTIFICATION CRITIERA Five Years Work Experience Teaching Excellence Professional Certifications</th>\n",
       "      <th>Criteria</th>\n",
       "    </tr>\n",
       "  </thead>\n",
       "  <tbody>\n",
       "    <tr>\n",
       "      <th>0</th>\n",
       "      <td>LT9210743</td>\n",
       "      <td>Jim Hunter</td>\n",
       "      <td>London</td>\n",
       "      <td>FA</td>\n",
       "      <td>Faculty - Business</td>\n",
       "      <td>29-Aug-10</td>\n",
       "      <td>NaN</td>\n",
       "      <td>Full Time</td>\n",
       "      <td>Business</td>\n",
       "      <td>Abbas Houda</td>\n",
       "      <td>Masters</td>\n",
       "      <td>Master of Arts</td>\n",
       "      <td>International Affairs</td>\n",
       "      <td>American University of Beirut</td>\n",
       "      <td>Bachelor of Science (Communications), Master o...</td>\n",
       "      <td>BUS2403 - Innovation &amp; Entrepreneurship\\nBUS20...</td>\n",
       "      <td>Business Administration</td>\n",
       "      <td>10+ Years Small Business Ownership, 10+ Years ...</td>\n",
       "      <td>Industry &amp; Teaching experience</td>\n",
       "    </tr>\n",
       "    <tr>\n",
       "      <th>1</th>\n",
       "      <td>LT9001784</td>\n",
       "      <td>Jose Nadal</td>\n",
       "      <td>London</td>\n",
       "      <td>FA</td>\n",
       "      <td>Faculty - Business</td>\n",
       "      <td>19-Aug-99</td>\n",
       "      <td>NaN</td>\n",
       "      <td>Full Time</td>\n",
       "      <td>Business</td>\n",
       "      <td>Abbas Houda</td>\n",
       "      <td>Masters</td>\n",
       "      <td>Master of Science</td>\n",
       "      <td>Business Info. Technology</td>\n",
       "      <td>University of Northumbria</td>\n",
       "      <td>Bachelor of Arts (Finance), Certificate (Manag...</td>\n",
       "      <td>BUS4173 - Managerial Accounting II\\nBUS4916 - ...</td>\n",
       "      <td>Business</td>\n",
       "      <td>years of teaching experience: 17              ...</td>\n",
       "      <td>Certification</td>\n",
       "    </tr>\n",
       "    <tr>\n",
       "      <th>2</th>\n",
       "      <td>LT9062955</td>\n",
       "      <td>Pierre Cornet</td>\n",
       "      <td>London</td>\n",
       "      <td>FA</td>\n",
       "      <td>Faculty - Business</td>\n",
       "      <td>08-Apr-07</td>\n",
       "      <td>NaN</td>\n",
       "      <td>Full Time</td>\n",
       "      <td>Business</td>\n",
       "      <td>Abbas Houda</td>\n",
       "      <td>Masters</td>\n",
       "      <td>Master of Business Administrat</td>\n",
       "      <td>Marketing</td>\n",
       "      <td>Griffith University</td>\n",
       "      <td>Certificate (Educating/Teaching Adult), Associ...</td>\n",
       "      <td>BUS3903 - Contemporary Business\\nBUS1303 - Mar...</td>\n",
       "      <td>Marketing and Strategic Management</td>\n",
       "      <td>Years of teaching experience: 15\\nYears of pro...</td>\n",
       "      <td>Industry &amp; Teaching experience</td>\n",
       "    </tr>\n",
       "    <tr>\n",
       "      <th>3</th>\n",
       "      <td>0</td>\n",
       "      <td>Sally Smith</td>\n",
       "      <td>London</td>\n",
       "      <td>FA</td>\n",
       "      <td>Faculty - Business</td>\n",
       "      <td>14-Aug-16</td>\n",
       "      <td>NaN</td>\n",
       "      <td>Full Time</td>\n",
       "      <td>Business</td>\n",
       "      <td>Abbas Houda</td>\n",
       "      <td>Ph.D</td>\n",
       "      <td>Ph.D in HRM/ Organizational pyschology</td>\n",
       "      <td>HRM/ Organizational Psychology</td>\n",
       "      <td>The University of Swansea, UK</td>\n",
       "      <td>Bachelor(finance &amp; Mgt), Masters(MBA &amp; Masters...</td>\n",
       "      <td>HRM, Organizational behaviour, Strategic Mgt, ...</td>\n",
       "      <td>HRM</td>\n",
       "      <td>6 years professional experience + 6 years teac...</td>\n",
       "      <td>Researcher</td>\n",
       "    </tr>\n",
       "    <tr>\n",
       "      <th>4</th>\n",
       "      <td>0</td>\n",
       "      <td>Ned Shearer</td>\n",
       "      <td>London</td>\n",
       "      <td>Chair</td>\n",
       "      <td>Faculty - Business</td>\n",
       "      <td>14-Aug-16</td>\n",
       "      <td>NaN</td>\n",
       "      <td>Full Time</td>\n",
       "      <td>Business</td>\n",
       "      <td>Tony Emmanuel</td>\n",
       "      <td>Ph.D</td>\n",
       "      <td>Ph.D in Economics and International Business</td>\n",
       "      <td>Economics and International Business</td>\n",
       "      <td>New York University, USA</td>\n",
       "      <td>Bachelor( Economics), Masters( Economics and I...</td>\n",
       "      <td>Micro and Macroeconomics, Statistics,Introduct...</td>\n",
       "      <td>Economics and International Business</td>\n",
       "      <td>1 year professional experience + 24 years teac...</td>\n",
       "      <td>Researcher/Curriculum Development</td>\n",
       "    </tr>\n",
       "    <tr>\n",
       "      <th>...</th>\n",
       "      <td>...</td>\n",
       "      <td>...</td>\n",
       "      <td>...</td>\n",
       "      <td>...</td>\n",
       "      <td>...</td>\n",
       "      <td>...</td>\n",
       "      <td>...</td>\n",
       "      <td>...</td>\n",
       "      <td>...</td>\n",
       "      <td>...</td>\n",
       "      <td>...</td>\n",
       "      <td>...</td>\n",
       "      <td>...</td>\n",
       "      <td>...</td>\n",
       "      <td>...</td>\n",
       "      <td>...</td>\n",
       "      <td>...</td>\n",
       "      <td>...</td>\n",
       "      <td>...</td>\n",
       "    </tr>\n",
       "    <tr>\n",
       "      <th>279</th>\n",
       "      <td>0</td>\n",
       "      <td>Cami Wiegand</td>\n",
       "      <td>Cambridge</td>\n",
       "      <td>FA</td>\n",
       "      <td>Faculty - Business</td>\n",
       "      <td>14-Aug-16</td>\n",
       "      <td>NaN</td>\n",
       "      <td>Full Time</td>\n",
       "      <td>Business</td>\n",
       "      <td>Olu Ebenezer</td>\n",
       "      <td>Ph.D</td>\n",
       "      <td>Economics and Business</td>\n",
       "      <td>Economics</td>\n",
       "      <td>South East European University, Macedonia</td>\n",
       "      <td>Bachelor( Political Science), Masters( Europea...</td>\n",
       "      <td>intro to Economics, EU laws and Regulations, O...</td>\n",
       "      <td>Economics, policy and general business course</td>\n",
       "      <td>9 years professional experience+ 11 years teac...</td>\n",
       "      <td>Researcher</td>\n",
       "    </tr>\n",
       "    <tr>\n",
       "      <th>280</th>\n",
       "      <td>0</td>\n",
       "      <td>Alan Sheely</td>\n",
       "      <td>Cambridge</td>\n",
       "      <td>FA</td>\n",
       "      <td>Faculty - Business</td>\n",
       "      <td>14-Aug-16</td>\n",
       "      <td>NaN</td>\n",
       "      <td>Full Time</td>\n",
       "      <td>Business</td>\n",
       "      <td>Olu Ebenezer</td>\n",
       "      <td>Ph.D</td>\n",
       "      <td>Management Science</td>\n",
       "      <td>Marketing</td>\n",
       "      <td>University of Economics, Krakow, Poland</td>\n",
       "      <td>Bachelor( Foreign Languages), Masters( America...</td>\n",
       "      <td>Marketing Management, Marketing Research, Cons...</td>\n",
       "      <td>Marketing</td>\n",
       "      <td>16 years professional( consulting) experience ...</td>\n",
       "      <td>Researcher/Curriculum Development</td>\n",
       "    </tr>\n",
       "    <tr>\n",
       "      <th>281</th>\n",
       "      <td>0</td>\n",
       "      <td>Allison Gall</td>\n",
       "      <td>Cambridge</td>\n",
       "      <td>FA</td>\n",
       "      <td>Faculty - Business</td>\n",
       "      <td>14-Aug-16</td>\n",
       "      <td>NaN</td>\n",
       "      <td>Full Time</td>\n",
       "      <td>Business</td>\n",
       "      <td>Olu Ebenezer</td>\n",
       "      <td>Ph.D</td>\n",
       "      <td>Ph.D</td>\n",
       "      <td>HRM</td>\n",
       "      <td>University of Mauritus, Mauritus</td>\n",
       "      <td>Bachelor( Economics), Masters( Industrial Rela...</td>\n",
       "      <td>HRM, SHRM, Performance and Reward Mgt, Researc...</td>\n",
       "      <td>HRM</td>\n",
       "      <td>14 years professional experience + 9 years tea...</td>\n",
       "      <td>Certification/Researcher</td>\n",
       "    </tr>\n",
       "    <tr>\n",
       "      <th>282</th>\n",
       "      <td>0</td>\n",
       "      <td>Myles Tena</td>\n",
       "      <td>Cambridge</td>\n",
       "      <td>FA</td>\n",
       "      <td>Faculty - Business</td>\n",
       "      <td>14-Aug-16</td>\n",
       "      <td>NaN</td>\n",
       "      <td>Full Time</td>\n",
       "      <td>Business</td>\n",
       "      <td>Olu Ebenezer</td>\n",
       "      <td>Ph.D</td>\n",
       "      <td>Ph.D</td>\n",
       "      <td>Economic Sociology</td>\n",
       "      <td>University of San Paulo, Brazil</td>\n",
       "      <td>Bachelor(Economics), Masters( Industrial Engin...</td>\n",
       "      <td>Economics and Management</td>\n",
       "      <td>Financial Mgt, Project Mgt, Entrepreneurial Fi...</td>\n",
       "      <td>12 years professional experience + 11 years te...</td>\n",
       "      <td>Researcher</td>\n",
       "    </tr>\n",
       "    <tr>\n",
       "      <th>283</th>\n",
       "      <td>0</td>\n",
       "      <td>Dessie Burruss</td>\n",
       "      <td>Cambridge</td>\n",
       "      <td>FA</td>\n",
       "      <td>Faculty - Business</td>\n",
       "      <td>14-Aug-16</td>\n",
       "      <td>NaN</td>\n",
       "      <td>Full Time</td>\n",
       "      <td>Business</td>\n",
       "      <td>Olu Ebenezer</td>\n",
       "      <td>Ph.D</td>\n",
       "      <td>Ph.D in Public Policy and Administration</td>\n",
       "      <td>Management and Financial Mgt</td>\n",
       "      <td>Virginia Commonwealth University, USA</td>\n",
       "      <td>Bachelor( Civil Engineering), Masters(Civil En...</td>\n",
       "      <td>Leadership, Organizational Design and Behaviou...</td>\n",
       "      <td>Finance and Management</td>\n",
       "      <td>16 years professional experience +11 year teac...</td>\n",
       "      <td>Researcher</td>\n",
       "    </tr>\n",
       "  </tbody>\n",
       "</table>\n",
       "<p>284 rows × 19 columns</p>\n",
       "</div>"
      ],
      "text/plain": [
       "            ID              Name   Location  Grade               Title  \\\n",
       "0    LT9210743        Jim Hunter     London     FA  Faculty - Business   \n",
       "1    LT9001784        Jose Nadal     London     FA  Faculty - Business   \n",
       "2    LT9062955     Pierre Cornet     London     FA  Faculty - Business   \n",
       "3            0       Sally Smith     London     FA  Faculty - Business   \n",
       "4            0      Ned Shearer      London  Chair  Faculty - Business   \n",
       "..         ...               ...        ...    ...                 ...   \n",
       "279          0    Cami Wiegand    Cambridge     FA  Faculty - Business   \n",
       "280          0     Alan Sheely    Cambridge     FA  Faculty - Business   \n",
       "281          0    Allison Gall    Cambridge     FA  Faculty - Business   \n",
       "282          0      Myles Tena    Cambridge     FA  Faculty - Business   \n",
       "283          0  Dessie Burruss    Cambridge     FA  Faculty - Business   \n",
       "\n",
       "    Join\\nDate  LWD       Type   Divison     Reports To  \\\n",
       "0    29-Aug-10  NaN  Full Time  Business    Abbas Houda   \n",
       "1    19-Aug-99  NaN  Full Time  Business    Abbas Houda   \n",
       "2    08-Apr-07  NaN  Full Time  Business    Abbas Houda   \n",
       "3    14-Aug-16  NaN  Full Time  Business    Abbas Houda   \n",
       "4    14-Aug-16  NaN  Full Time  Business  Tony Emmanuel   \n",
       "..         ...  ...        ...       ...            ...   \n",
       "279  14-Aug-16  NaN  Full Time  Business   Olu Ebenezer   \n",
       "280  14-Aug-16  NaN  Full Time  Business   Olu Ebenezer   \n",
       "281  14-Aug-16  NaN  Full Time  Business   Olu Ebenezer   \n",
       "282  14-Aug-16  NaN  Full Time  Business   Olu Ebenezer   \n",
       "283  14-Aug-16  NaN  Full Time  Business   Olu Ebenezer   \n",
       "\n",
       "    Highest\\nQualification\\nLevel  \\\n",
       "0                         Masters   \n",
       "1                         Masters   \n",
       "2                         Masters   \n",
       "3                            Ph.D   \n",
       "4                            Ph.D   \n",
       "..                            ...   \n",
       "279                          Ph.D   \n",
       "280                          Ph.D   \n",
       "281                          Ph.D   \n",
       "282                          Ph.D   \n",
       "283                          Ph.D   \n",
       "\n",
       "                             Highest Qualification  \\\n",
       "0                                   Master of Arts   \n",
       "1                                Master of Science   \n",
       "2                   Master of Business Administrat   \n",
       "3           Ph.D in HRM/ Organizational pyschology   \n",
       "4    Ph.D in Economics and International Business    \n",
       "..                                             ...   \n",
       "279                         Economics and Business   \n",
       "280                             Management Science   \n",
       "281                                           Ph.D   \n",
       "282                                           Ph.D   \n",
       "283      Ph.D in Public Policy and Administration    \n",
       "\n",
       "                                     Major  \\\n",
       "0                    International Affairs   \n",
       "1                Business Info. Technology   \n",
       "2                                Marketing   \n",
       "3           HRM/ Organizational Psychology   \n",
       "4    Economics and International Business    \n",
       "..                                     ...   \n",
       "279                              Economics   \n",
       "280                              Marketing   \n",
       "281                                   HRM    \n",
       "282                     Economic Sociology   \n",
       "283           Management and Financial Mgt   \n",
       "\n",
       "                                    University  \\\n",
       "0                American University of Beirut   \n",
       "1                    University of Northumbria   \n",
       "2                          Griffith University   \n",
       "3                The University of Swansea, UK   \n",
       "4                     New York University, USA   \n",
       "..                                         ...   \n",
       "279  South East European University, Macedonia   \n",
       "280    University of Economics, Krakow, Poland   \n",
       "281           University of Mauritus, Mauritus   \n",
       "282            University of San Paulo, Brazil   \n",
       "283     Virginia Commonwealth University, USA    \n",
       "\n",
       "                       All Qualifications from Profile  \\\n",
       "0    Bachelor of Science (Communications), Master o...   \n",
       "1    Bachelor of Arts (Finance), Certificate (Manag...   \n",
       "2    Certificate (Educating/Teaching Adult), Associ...   \n",
       "3    Bachelor(finance & Mgt), Masters(MBA & Masters...   \n",
       "4    Bachelor( Economics), Masters( Economics and I...   \n",
       "..                                                 ...   \n",
       "279  Bachelor( Political Science), Masters( Europea...   \n",
       "280  Bachelor( Foreign Languages), Masters( America...   \n",
       "281  Bachelor( Economics), Masters( Industrial Rela...   \n",
       "282  Bachelor(Economics), Masters( Industrial Engin...   \n",
       "283  Bachelor( Civil Engineering), Masters(Civil En...   \n",
       "\n",
       "                           Courses Taught- Term 201510  \\\n",
       "0    BUS2403 - Innovation & Entrepreneurship\\nBUS20...   \n",
       "1    BUS4173 - Managerial Accounting II\\nBUS4916 - ...   \n",
       "2    BUS3903 - Contemporary Business\\nBUS1303 - Mar...   \n",
       "3    HRM, Organizational behaviour, Strategic Mgt, ...   \n",
       "4    Micro and Macroeconomics, Statistics,Introduct...   \n",
       "..                                                 ...   \n",
       "279  intro to Economics, EU laws and Regulations, O...   \n",
       "280  Marketing Management, Marketing Research, Cons...   \n",
       "281  HRM, SHRM, Performance and Reward Mgt, Researc...   \n",
       "282                          Economics and Management    \n",
       "283  Leadership, Organizational Design and Behaviou...   \n",
       "\n",
       "                                  MAJOR TEACHING FIELD  \\\n",
       "0                              Business Administration   \n",
       "1                                             Business   \n",
       "2                  Marketing and Strategic Management    \n",
       "3                                                  HRM   \n",
       "4                Economics and International Business    \n",
       "..                                                 ...   \n",
       "279      Economics, policy and general business course   \n",
       "280                                          Marketing   \n",
       "281                                                HRM   \n",
       "282  Financial Mgt, Project Mgt, Entrepreneurial Fi...   \n",
       "283                            Finance and Management    \n",
       "\n",
       "    DOCUMENT OTHER PROFESSIONAL CERTIFICATION CRITIERA Five Years Work Experience Teaching Excellence Professional Certifications  \\\n",
       "0    10+ Years Small Business Ownership, 10+ Years ...                                                                              \n",
       "1    years of teaching experience: 17              ...                                                                              \n",
       "2    Years of teaching experience: 15\\nYears of pro...                                                                              \n",
       "3    6 years professional experience + 6 years teac...                                                                              \n",
       "4    1 year professional experience + 24 years teac...                                                                              \n",
       "..                                                 ...                                                                              \n",
       "279  9 years professional experience+ 11 years teac...                                                                              \n",
       "280  16 years professional( consulting) experience ...                                                                              \n",
       "281  14 years professional experience + 9 years tea...                                                                              \n",
       "282  12 years professional experience + 11 years te...                                                                              \n",
       "283  16 years professional experience +11 year teac...                                                                              \n",
       "\n",
       "                              Criteria  \n",
       "0       Industry & Teaching experience  \n",
       "1                        Certification  \n",
       "2       Industry & Teaching experience  \n",
       "3                           Researcher  \n",
       "4    Researcher/Curriculum Development  \n",
       "..                                 ...  \n",
       "279                         Researcher  \n",
       "280  Researcher/Curriculum Development  \n",
       "281           Certification/Researcher  \n",
       "282                         Researcher  \n",
       "283                         Researcher  \n",
       "\n",
       "[284 rows x 19 columns]"
      ]
     },
     "execution_count": 2,
     "metadata": {},
     "output_type": "execute_result"
    }
   ],
   "source": [
    "# Import SIS data and display the dataframe\n",
    "address = '/Users/phillipgregory/Documents/Univeristy MSc/05. Machine Learning in Practice/Mid module assignment/SIS_Faculty-List.csv'\n",
    "sis = pd.read_csv(address)\n",
    "sis"
   ]
  },
  {
   "cell_type": "markdown",
   "id": "42958fe0",
   "metadata": {},
   "source": [
    "## Explore and clean data\n",
    "* Drop columns if they have no use for the ML model\n",
    "* Rename columns, if required\n",
    "* Check for and address missing values\n",
    "* Check for and address outliers\n",
    "* Check for data issues i.e accuracy, consistency, uniformity, completeness, and validity "
   ]
  },
  {
   "cell_type": "code",
   "execution_count": 3,
   "id": "06963e24",
   "metadata": {},
   "outputs": [
    {
     "data": {
      "text/plain": [
       "Index(['ID', 'Name', 'Location', 'Grade', 'Title', 'Join\\nDate', 'LWD', 'Type',\n",
       "       'Divison', 'Reports To', 'Highest\\nQualification\\nLevel',\n",
       "       'Highest Qualification', 'Major', 'University',\n",
       "       'All Qualifications from Profile', 'Courses Taught- Term 201510',\n",
       "       'MAJOR TEACHING FIELD',\n",
       "       'DOCUMENT OTHER PROFESSIONAL CERTIFICATION CRITIERA Five Years Work Experience Teaching Excellence Professional Certifications',\n",
       "       'Criteria'],\n",
       "      dtype='object')"
      ]
     },
     "execution_count": 3,
     "metadata": {},
     "output_type": "execute_result"
    }
   ],
   "source": [
    "sis.columns"
   ]
  },
  {
   "cell_type": "code",
   "execution_count": 4,
   "id": "6f846bb9",
   "metadata": {},
   "outputs": [
    {
     "data": {
      "text/plain": [
       "ID                                                                                                                                 2\n",
       "Name                                                                                                                               0\n",
       "Location                                                                                                                          14\n",
       "Grade                                                                                                                              0\n",
       "Title                                                                                                                              0\n",
       "Join\\nDate                                                                                                                         1\n",
       "LWD                                                                                                                              273\n",
       "Type                                                                                                                               0\n",
       "Divison                                                                                                                            0\n",
       "Reports To                                                                                                                         4\n",
       "Highest\\nQualification\\nLevel                                                                                                      6\n",
       "Highest Qualification                                                                                                              6\n",
       "Major                                                                                                                             22\n",
       "University                                                                                                                         6\n",
       "All Qualifications from Profile                                                                                                   10\n",
       "Courses Taught- Term 201510                                                                                                       11\n",
       "MAJOR TEACHING FIELD                                                                                                              59\n",
       "DOCUMENT OTHER PROFESSIONAL CERTIFICATION CRITIERA Five Years Work Experience Teaching Excellence Professional Certifications     62\n",
       "Criteria                                                                                                                           0\n",
       "dtype: int64"
      ]
     },
     "execution_count": 4,
     "metadata": {},
     "output_type": "execute_result"
    }
   ],
   "source": [
    "# Check for null values in columns\n",
    "sis.isnull().sum()"
   ]
  },
  {
   "cell_type": "code",
   "execution_count": 5,
   "id": "d9ebf486",
   "metadata": {},
   "outputs": [
    {
     "data": {
      "text/plain": [
       "<AxesSubplot:ylabel='Number of Missing Values'>"
      ]
     },
     "execution_count": 5,
     "metadata": {},
     "output_type": "execute_result"
    },
    {
     "data": {
      "image/png": "[encoded data removed]",
      "text/plain": [
       "<Figure size 1080x720 with 1 Axes>"
      ]
     },
     "metadata": {
      "needs_background": "light"
     },
     "output_type": "display_data"
    }
   ],
   "source": [
    "# Visualise null values in a bar chart\n",
    "sis.isnull().sum().plot(kind='bar', figsize = (15,10), ylabel=\"Number of Missing Values\")"
   ]
  },
  {
   "cell_type": "code",
   "execution_count": 6,
   "id": "7a1fd01d",
   "metadata": {},
   "outputs": [],
   "source": [
    "# Drop LWD column due to number of null values and unclear meaning.\n",
    "sis.drop('LWD', axis=1, inplace=True)"
   ]
  },
  {
   "cell_type": "code",
   "execution_count": 7,
   "id": "d3112124",
   "metadata": {},
   "outputs": [
    {
     "data": {
      "text/plain": [
       "Text(0.5, 1.0, 'Cardinality')"
      ]
     },
     "execution_count": 7,
     "metadata": {},
     "output_type": "execute_result"
    },
    {
     "data": {
      "image/png": "[encoded data removed]",
      "text/plain": [
       "<Figure size 864x432 with 1 Axes>"
      ]
     },
     "metadata": {
      "needs_background": "light"
     },
     "output_type": "display_data"
    }
   ],
   "source": [
    "# Visualise initial column cardinality in a bar chart\n",
    "sis.nunique().plot.bar(figsize=(12,6))\n",
    "plt.ylabel('Number of unique categories')\n",
    "plt.xlabel('Variables')\n",
    "plt.title('Cardinality')"
   ]
  },
  {
   "cell_type": "code",
   "execution_count": 8,
   "id": "55271f8b",
   "metadata": {},
   "outputs": [
    {
     "data": {
      "text/html": [
       "<div>\n",
       "<style scoped>\n",
       "    .dataframe tbody tr th:only-of-type {\n",
       "        vertical-align: middle;\n",
       "    }\n",
       "\n",
       "    .dataframe tbody tr th {\n",
       "        vertical-align: top;\n",
       "    }\n",
       "\n",
       "    .dataframe thead th {\n",
       "        text-align: right;\n",
       "    }\n",
       "</style>\n",
       "<table border=\"1\" class=\"dataframe\">\n",
       "  <thead>\n",
       "    <tr style=\"text-align: right;\">\n",
       "      <th></th>\n",
       "      <th>Location</th>\n",
       "      <th>Grade</th>\n",
       "      <th>Title</th>\n",
       "      <th>Join\\nDate</th>\n",
       "      <th>Type</th>\n",
       "      <th>Divison</th>\n",
       "      <th>Reports To</th>\n",
       "      <th>Highest\\nQualification\\nLevel</th>\n",
       "      <th>Highest Qualification</th>\n",
       "      <th>Major</th>\n",
       "      <th>University</th>\n",
       "      <th>All Qualifications from Profile</th>\n",
       "      <th>Courses Taught- Term 201510</th>\n",
       "      <th>MAJOR TEACHING FIELD</th>\n",
       "      <th>DOCUMENT OTHER PROFESSIONAL CERTIFICATION CRITIERA Five Years Work Experience Teaching Excellence Professional Certifications</th>\n",
       "      <th>Criteria</th>\n",
       "    </tr>\n",
       "  </thead>\n",
       "  <tbody>\n",
       "    <tr>\n",
       "      <th>0</th>\n",
       "      <td>London</td>\n",
       "      <td>FA</td>\n",
       "      <td>Faculty - Business</td>\n",
       "      <td>29-Aug-10</td>\n",
       "      <td>Full Time</td>\n",
       "      <td>Business</td>\n",
       "      <td>Abbas Houda</td>\n",
       "      <td>Masters</td>\n",
       "      <td>Master of Arts</td>\n",
       "      <td>International Affairs</td>\n",
       "      <td>American University of Beirut</td>\n",
       "      <td>Bachelor of Science (Communications), Master o...</td>\n",
       "      <td>BUS2403 - Innovation &amp; Entrepreneurship\\nBUS20...</td>\n",
       "      <td>Business Administration</td>\n",
       "      <td>10+ Years Small Business Ownership, 10+ Years ...</td>\n",
       "      <td>Industry &amp; Teaching experience</td>\n",
       "    </tr>\n",
       "    <tr>\n",
       "      <th>1</th>\n",
       "      <td>London</td>\n",
       "      <td>FA</td>\n",
       "      <td>Faculty - Business</td>\n",
       "      <td>19-Aug-99</td>\n",
       "      <td>Full Time</td>\n",
       "      <td>Business</td>\n",
       "      <td>Abbas Houda</td>\n",
       "      <td>Masters</td>\n",
       "      <td>Master of Science</td>\n",
       "      <td>Business Info. Technology</td>\n",
       "      <td>University of Northumbria</td>\n",
       "      <td>Bachelor of Arts (Finance), Certificate (Manag...</td>\n",
       "      <td>BUS4173 - Managerial Accounting II\\nBUS4916 - ...</td>\n",
       "      <td>Business</td>\n",
       "      <td>years of teaching experience: 17              ...</td>\n",
       "      <td>Certification</td>\n",
       "    </tr>\n",
       "    <tr>\n",
       "      <th>2</th>\n",
       "      <td>London</td>\n",
       "      <td>FA</td>\n",
       "      <td>Faculty - Business</td>\n",
       "      <td>08-Apr-07</td>\n",
       "      <td>Full Time</td>\n",
       "      <td>Business</td>\n",
       "      <td>Abbas Houda</td>\n",
       "      <td>Masters</td>\n",
       "      <td>Master of Business Administrat</td>\n",
       "      <td>Marketing</td>\n",
       "      <td>Griffith University</td>\n",
       "      <td>Certificate (Educating/Teaching Adult), Associ...</td>\n",
       "      <td>BUS3903 - Contemporary Business\\nBUS1303 - Mar...</td>\n",
       "      <td>Marketing and Strategic Management</td>\n",
       "      <td>Years of teaching experience: 15\\nYears of pro...</td>\n",
       "      <td>Industry &amp; Teaching experience</td>\n",
       "    </tr>\n",
       "    <tr>\n",
       "      <th>3</th>\n",
       "      <td>London</td>\n",
       "      <td>FA</td>\n",
       "      <td>Faculty - Business</td>\n",
       "      <td>14-Aug-16</td>\n",
       "      <td>Full Time</td>\n",
       "      <td>Business</td>\n",
       "      <td>Abbas Houda</td>\n",
       "      <td>Ph.D</td>\n",
       "      <td>Ph.D in HRM/ Organizational pyschology</td>\n",
       "      <td>HRM/ Organizational Psychology</td>\n",
       "      <td>The University of Swansea, UK</td>\n",
       "      <td>Bachelor(finance &amp; Mgt), Masters(MBA &amp; Masters...</td>\n",
       "      <td>HRM, Organizational behaviour, Strategic Mgt, ...</td>\n",
       "      <td>HRM</td>\n",
       "      <td>6 years professional experience + 6 years teac...</td>\n",
       "      <td>Researcher</td>\n",
       "    </tr>\n",
       "    <tr>\n",
       "      <th>4</th>\n",
       "      <td>London</td>\n",
       "      <td>Chair</td>\n",
       "      <td>Faculty - Business</td>\n",
       "      <td>14-Aug-16</td>\n",
       "      <td>Full Time</td>\n",
       "      <td>Business</td>\n",
       "      <td>Tony Emmanuel</td>\n",
       "      <td>Ph.D</td>\n",
       "      <td>Ph.D in Economics and International Business</td>\n",
       "      <td>Economics and International Business</td>\n",
       "      <td>New York University, USA</td>\n",
       "      <td>Bachelor( Economics), Masters( Economics and I...</td>\n",
       "      <td>Micro and Macroeconomics, Statistics,Introduct...</td>\n",
       "      <td>Economics and International Business</td>\n",
       "      <td>1 year professional experience + 24 years teac...</td>\n",
       "      <td>Researcher/Curriculum Development</td>\n",
       "    </tr>\n",
       "  </tbody>\n",
       "</table>\n",
       "</div>"
      ],
      "text/plain": [
       "  Location  Grade               Title Join\\nDate       Type   Divison  \\\n",
       "0   London     FA  Faculty - Business  29-Aug-10  Full Time  Business   \n",
       "1   London     FA  Faculty - Business  19-Aug-99  Full Time  Business   \n",
       "2   London     FA  Faculty - Business  08-Apr-07  Full Time  Business   \n",
       "3   London     FA  Faculty - Business  14-Aug-16  Full Time  Business   \n",
       "4   London  Chair  Faculty - Business  14-Aug-16  Full Time  Business   \n",
       "\n",
       "      Reports To Highest\\nQualification\\nLevel  \\\n",
       "0    Abbas Houda                       Masters   \n",
       "1    Abbas Houda                       Masters   \n",
       "2    Abbas Houda                       Masters   \n",
       "3    Abbas Houda                          Ph.D   \n",
       "4  Tony Emmanuel                          Ph.D   \n",
       "\n",
       "                           Highest Qualification  \\\n",
       "0                                 Master of Arts   \n",
       "1                              Master of Science   \n",
       "2                 Master of Business Administrat   \n",
       "3         Ph.D in HRM/ Organizational pyschology   \n",
       "4  Ph.D in Economics and International Business    \n",
       "\n",
       "                                   Major                     University  \\\n",
       "0                  International Affairs  American University of Beirut   \n",
       "1              Business Info. Technology      University of Northumbria   \n",
       "2                              Marketing            Griffith University   \n",
       "3         HRM/ Organizational Psychology  The University of Swansea, UK   \n",
       "4  Economics and International Business        New York University, USA   \n",
       "\n",
       "                     All Qualifications from Profile  \\\n",
       "0  Bachelor of Science (Communications), Master o...   \n",
       "1  Bachelor of Arts (Finance), Certificate (Manag...   \n",
       "2  Certificate (Educating/Teaching Adult), Associ...   \n",
       "3  Bachelor(finance & Mgt), Masters(MBA & Masters...   \n",
       "4  Bachelor( Economics), Masters( Economics and I...   \n",
       "\n",
       "                         Courses Taught- Term 201510  \\\n",
       "0  BUS2403 - Innovation & Entrepreneurship\\nBUS20...   \n",
       "1  BUS4173 - Managerial Accounting II\\nBUS4916 - ...   \n",
       "2  BUS3903 - Contemporary Business\\nBUS1303 - Mar...   \n",
       "3  HRM, Organizational behaviour, Strategic Mgt, ...   \n",
       "4  Micro and Macroeconomics, Statistics,Introduct...   \n",
       "\n",
       "                    MAJOR TEACHING FIELD  \\\n",
       "0                Business Administration   \n",
       "1                               Business   \n",
       "2    Marketing and Strategic Management    \n",
       "3                                    HRM   \n",
       "4  Economics and International Business    \n",
       "\n",
       "  DOCUMENT OTHER PROFESSIONAL CERTIFICATION CRITIERA Five Years Work Experience Teaching Excellence Professional Certifications  \\\n",
       "0  10+ Years Small Business Ownership, 10+ Years ...                                                                              \n",
       "1  years of teaching experience: 17              ...                                                                              \n",
       "2  Years of teaching experience: 15\\nYears of pro...                                                                              \n",
       "3  6 years professional experience + 6 years teac...                                                                              \n",
       "4  1 year professional experience + 24 years teac...                                                                              \n",
       "\n",
       "                            Criteria  \n",
       "0     Industry & Teaching experience  \n",
       "1                      Certification  \n",
       "2     Industry & Teaching experience  \n",
       "3                         Researcher  \n",
       "4  Researcher/Curriculum Development  "
      ]
     },
     "execution_count": 8,
     "metadata": {},
     "output_type": "execute_result"
    }
   ],
   "source": [
    "# ID and Name columns have no use for a ML model so drop these\n",
    "sis.drop(['ID', 'Name'], axis=1, inplace=True)\n",
    "sis.head()"
   ]
  },
  {
   "cell_type": "code",
   "execution_count": 9,
   "id": "0ff5ea9b",
   "metadata": {},
   "outputs": [
    {
     "data": {
      "text/plain": [
       "Bristol        49\n",
       "Belfast        46\n",
       "Cambridge      34\n",
       "Cardiff        22\n",
       "Liverpool      20\n",
       "Manchester     20\n",
       "Oxford         20\n",
       "Leeds          18\n",
       "Leicester      16\n",
       "Bolton          6\n",
       "London          5\n",
       "Glasgow         4\n",
       "Birmingham      3\n",
       "Southampton     3\n",
       "Brighton        2\n",
       "Cardiff         2\n",
       "Name: Location, dtype: int64"
      ]
     },
     "execution_count": 9,
     "metadata": {},
     "output_type": "execute_result"
    }
   ],
   "source": [
    "# Inspect Location column values\n",
    "sis['Location'].value_counts()"
   ]
  },
  {
   "cell_type": "code",
   "execution_count": 10,
   "id": "99378d5b",
   "metadata": {},
   "outputs": [
    {
     "data": {
      "text/html": [
       "<div>\n",
       "<style scoped>\n",
       "    .dataframe tbody tr th:only-of-type {\n",
       "        vertical-align: middle;\n",
       "    }\n",
       "\n",
       "    .dataframe tbody tr th {\n",
       "        vertical-align: top;\n",
       "    }\n",
       "\n",
       "    .dataframe thead th {\n",
       "        text-align: right;\n",
       "    }\n",
       "</style>\n",
       "<table border=\"1\" class=\"dataframe\">\n",
       "  <thead>\n",
       "    <tr style=\"text-align: right;\">\n",
       "      <th></th>\n",
       "      <th>Location</th>\n",
       "      <th>Grade</th>\n",
       "      <th>Title</th>\n",
       "      <th>Join\\nDate</th>\n",
       "      <th>Type</th>\n",
       "      <th>Divison</th>\n",
       "      <th>Reports To</th>\n",
       "      <th>Highest\\nQualification\\nLevel</th>\n",
       "      <th>Highest Qualification</th>\n",
       "      <th>Major</th>\n",
       "      <th>University</th>\n",
       "      <th>All Qualifications from Profile</th>\n",
       "      <th>Courses Taught- Term 201510</th>\n",
       "      <th>MAJOR TEACHING FIELD</th>\n",
       "      <th>DOCUMENT OTHER PROFESSIONAL CERTIFICATION CRITIERA Five Years Work Experience Teaching Excellence Professional Certifications</th>\n",
       "      <th>Criteria</th>\n",
       "    </tr>\n",
       "  </thead>\n",
       "  <tbody>\n",
       "    <tr>\n",
       "      <th>45</th>\n",
       "      <td>NaN</td>\n",
       "      <td>FA</td>\n",
       "      <td>Faculty - Business</td>\n",
       "      <td>16-Sep-02</td>\n",
       "      <td>Full Time</td>\n",
       "      <td>Business</td>\n",
       "      <td>Ian Varley</td>\n",
       "      <td>Doctorate</td>\n",
       "      <td>Doctorate in Marketing</td>\n",
       "      <td>Marketing</td>\n",
       "      <td>University of Westminster</td>\n",
       "      <td>Master of Business Administrat (Business Admin...</td>\n",
       "      <td>CSD1023 - The Crime of Smuggling\\nBUS4563 - St...</td>\n",
       "      <td>Business Administration/\\nMarketing</td>\n",
       "      <td>ICDL\\nIRB\\nInstructional Skills Workshops (ISW...</td>\n",
       "      <td>Industry &amp; Teaching experience</td>\n",
       "    </tr>\n",
       "    <tr>\n",
       "      <th>46</th>\n",
       "      <td>NaN</td>\n",
       "      <td>FA</td>\n",
       "      <td>Faculty - Business</td>\n",
       "      <td>31-Aug-14</td>\n",
       "      <td>Full Time</td>\n",
       "      <td>Business</td>\n",
       "      <td>Ian Varley</td>\n",
       "      <td>Masters</td>\n",
       "      <td>Master of Commerce</td>\n",
       "      <td>Financial Management</td>\n",
       "      <td>University Of Johannesburg</td>\n",
       "      <td>Master of Commerce (Financial Management), Bac...</td>\n",
       "      <td>BUS4183 - Corporate Finance\\nLSM1003 - Applied...</td>\n",
       "      <td>Business Adminstration/Finance and Investment ...</td>\n",
       "      <td>6 years teaching experience</td>\n",
       "      <td>Industry &amp; Teaching experience</td>\n",
       "    </tr>\n",
       "    <tr>\n",
       "      <th>47</th>\n",
       "      <td>NaN</td>\n",
       "      <td>FA</td>\n",
       "      <td>Faculty - Business</td>\n",
       "      <td>14-Aug-95</td>\n",
       "      <td>Full Time</td>\n",
       "      <td>Business</td>\n",
       "      <td>Ian Varley</td>\n",
       "      <td>Masters</td>\n",
       "      <td>Masters in Engineering</td>\n",
       "      <td>Oper. Resch. &amp; Mgt. Info. Sys.</td>\n",
       "      <td>University of Toronto</td>\n",
       "      <td>Bachelor of Science (Industrial Engineering), ...</td>\n",
       "      <td>NaN</td>\n",
       "      <td>Management Science</td>\n",
       "      <td>29 years teaching experience, ISO 9001: 2008 I...</td>\n",
       "      <td>Certification</td>\n",
       "    </tr>\n",
       "    <tr>\n",
       "      <th>48</th>\n",
       "      <td>NaN</td>\n",
       "      <td>FA</td>\n",
       "      <td>Faculty - Business</td>\n",
       "      <td>18-Feb-15</td>\n",
       "      <td>Full Time</td>\n",
       "      <td>Business</td>\n",
       "      <td>Ian Varley</td>\n",
       "      <td>Masters</td>\n",
       "      <td>Master of Business Administrat</td>\n",
       "      <td>Financial Management</td>\n",
       "      <td>The University of Hull</td>\n",
       "      <td>Certificate (), Master of Business Administrat...</td>\n",
       "      <td>LSS2533 - Research Methods\\nBUS3903 - Contempo...</td>\n",
       "      <td>NaN</td>\n",
       "      <td>NaN</td>\n",
       "      <td>Industry &amp; Teaching experience</td>\n",
       "    </tr>\n",
       "    <tr>\n",
       "      <th>49</th>\n",
       "      <td>NaN</td>\n",
       "      <td>FA</td>\n",
       "      <td>Faculty - Business</td>\n",
       "      <td>14-Aug-16</td>\n",
       "      <td>Full Time</td>\n",
       "      <td>Business</td>\n",
       "      <td>Abbas Houda</td>\n",
       "      <td>Ph.D</td>\n",
       "      <td>Ph.D in Economics</td>\n",
       "      <td>Economics</td>\n",
       "      <td>Michigan State University, USA</td>\n",
       "      <td>Bachelor(Economics), Masters( Economics)</td>\n",
       "      <td>Micro and Macro Economics, Monetary Theory, An...</td>\n",
       "      <td>Economics</td>\n",
       "      <td>28 years professional experience + 3 years tea...</td>\n",
       "      <td>Industry &amp; Teaching experience</td>\n",
       "    </tr>\n",
       "    <tr>\n",
       "      <th>50</th>\n",
       "      <td>NaN</td>\n",
       "      <td>FA</td>\n",
       "      <td>Faculty - Business</td>\n",
       "      <td>14-Aug-16</td>\n",
       "      <td>Full Time</td>\n",
       "      <td>Business</td>\n",
       "      <td>Ian Varley</td>\n",
       "      <td>Ph.D</td>\n",
       "      <td>Ph.D in Economics</td>\n",
       "      <td>Economics</td>\n",
       "      <td>University of Nebraska,USA</td>\n",
       "      <td>Bachelor(Economics), Masters( Economics)</td>\n",
       "      <td>Micro and Macro Economics, Business Stastics, ...</td>\n",
       "      <td>Economics</td>\n",
       "      <td>5 years professional experience + 9 years teac...</td>\n",
       "      <td>Industry &amp; Teaching experience</td>\n",
       "    </tr>\n",
       "    <tr>\n",
       "      <th>51</th>\n",
       "      <td>NaN</td>\n",
       "      <td>FA</td>\n",
       "      <td>Faculty - Business</td>\n",
       "      <td>14-Aug-16</td>\n",
       "      <td>Full Time</td>\n",
       "      <td>Business</td>\n",
       "      <td>Ian Varley</td>\n",
       "      <td>Ph.D</td>\n",
       "      <td>PhD in Business Administration</td>\n",
       "      <td>HRM and tourism</td>\n",
       "      <td>Girne American University, Cyprus</td>\n",
       "      <td>Bachelor (international Relations), Masters( I...</td>\n",
       "      <td>HRM, International Business, TQM, Service Qual...</td>\n",
       "      <td>HRM, Quality and Tourism</td>\n",
       "      <td>5 years professional experience +15 years teac...</td>\n",
       "      <td>Researcher</td>\n",
       "    </tr>\n",
       "    <tr>\n",
       "      <th>52</th>\n",
       "      <td>NaN</td>\n",
       "      <td>FA</td>\n",
       "      <td>Faculty - Business</td>\n",
       "      <td>14-Aug-16</td>\n",
       "      <td>Full Time</td>\n",
       "      <td>Business</td>\n",
       "      <td>Ian Varley</td>\n",
       "      <td>Ph.D</td>\n",
       "      <td>Ph.D</td>\n",
       "      <td>Managerial Economics/ Business Strategy</td>\n",
       "      <td>National University of Singapore</td>\n",
       "      <td>Bachelor( International Business and Asian Stu...</td>\n",
       "      <td>International Business, Innovation, strategic ...</td>\n",
       "      <td>Strategic Mgt, Supply chain, Innovation, Marke...</td>\n",
       "      <td>5 years professional experience + 8 years teac...</td>\n",
       "      <td>Researcher</td>\n",
       "    </tr>\n",
       "    <tr>\n",
       "      <th>53</th>\n",
       "      <td>NaN</td>\n",
       "      <td>FA</td>\n",
       "      <td>Faculty - Business</td>\n",
       "      <td>14-Aug-16</td>\n",
       "      <td>Full Time</td>\n",
       "      <td>Business</td>\n",
       "      <td>Ian Varley</td>\n",
       "      <td>Ph.D</td>\n",
       "      <td>Ph.D in Business Administration</td>\n",
       "      <td>Management</td>\n",
       "      <td>Nova Southeastern University, USA</td>\n",
       "      <td>Bachelor( Economics), Masters(Finance)</td>\n",
       "      <td>Finance and Mgt courses</td>\n",
       "      <td>Finance and Management</td>\n",
       "      <td>12 years Professional experience+ 9 years teac...</td>\n",
       "      <td>Industry &amp; Teaching experience</td>\n",
       "    </tr>\n",
       "    <tr>\n",
       "      <th>54</th>\n",
       "      <td>NaN</td>\n",
       "      <td>FA</td>\n",
       "      <td>Faculty - Business</td>\n",
       "      <td>14-Aug-16</td>\n",
       "      <td>Full Time</td>\n",
       "      <td>Business</td>\n",
       "      <td>Ian Varley</td>\n",
       "      <td>Ph.D</td>\n",
       "      <td>Ph.D</td>\n",
       "      <td>Finance and Islamic Banking &amp; Finance</td>\n",
       "      <td>International Islamic University&lt; Malaysia</td>\n",
       "      <td>Bachelor(insurance), Masters( Islamic Law/ Jur...</td>\n",
       "      <td>Islamic Risk Mgt, Islamic Insurance, Islamic F...</td>\n",
       "      <td>Islamic Finance and Islamic law</td>\n",
       "      <td>7 years Teaching Experience + active researcher</td>\n",
       "      <td>Researcher</td>\n",
       "    </tr>\n",
       "    <tr>\n",
       "      <th>55</th>\n",
       "      <td>NaN</td>\n",
       "      <td>FA</td>\n",
       "      <td>Faculty - Business</td>\n",
       "      <td>14-Aug-16</td>\n",
       "      <td>Full Time</td>\n",
       "      <td>Business</td>\n",
       "      <td>Ian Varley</td>\n",
       "      <td>Ph.D</td>\n",
       "      <td>Ph.D</td>\n",
       "      <td>E-Business</td>\n",
       "      <td>University of Salento, Italy</td>\n",
       "      <td>Bachelor( Accounting), Masters( Accounting)</td>\n",
       "      <td>E-Business, International Business, Strategic Mgt</td>\n",
       "      <td>E-Business/ Management</td>\n",
       "      <td>8 years Professional experience+ 5 years teaching</td>\n",
       "      <td>Industry &amp; Teaching experience</td>\n",
       "    </tr>\n",
       "    <tr>\n",
       "      <th>56</th>\n",
       "      <td>NaN</td>\n",
       "      <td>FA</td>\n",
       "      <td>Faculty - Business</td>\n",
       "      <td>14-Aug-16</td>\n",
       "      <td>Full Time</td>\n",
       "      <td>Business</td>\n",
       "      <td>Ian Varley</td>\n",
       "      <td>Ph.D</td>\n",
       "      <td>PhD In Economic Sciences</td>\n",
       "      <td>Economics Sciences</td>\n",
       "      <td>PaulCezannel University, France</td>\n",
       "      <td>Bachelor( Business Administration and Marketin...</td>\n",
       "      <td>Managerial Economics, Economics</td>\n",
       "      <td>Economics</td>\n",
       "      <td>10 years professional experience + 5 years tea...</td>\n",
       "      <td>Industry &amp; Teaching experience</td>\n",
       "    </tr>\n",
       "    <tr>\n",
       "      <th>57</th>\n",
       "      <td>NaN</td>\n",
       "      <td>FA</td>\n",
       "      <td>Faculty - Business</td>\n",
       "      <td>14-Aug-16</td>\n",
       "      <td>Full Time</td>\n",
       "      <td>Business</td>\n",
       "      <td>Ian Varley</td>\n",
       "      <td>Ph.D</td>\n",
       "      <td>Ph.D</td>\n",
       "      <td>Financial Economics</td>\n",
       "      <td>University of Paris 1 Pantheon-Sorbonne France</td>\n",
       "      <td>Bachelor( Finance) Masters( Industrial Strateg...</td>\n",
       "      <td>Financial Derivatives, Financial Mgt, Corporat...</td>\n",
       "      <td>Finance and Islamic Finance</td>\n",
       "      <td>14 years professional experience + 20 years te...</td>\n",
       "      <td>Certification/Curriculum Development</td>\n",
       "    </tr>\n",
       "    <tr>\n",
       "      <th>58</th>\n",
       "      <td>NaN</td>\n",
       "      <td>FA</td>\n",
       "      <td>Faculty - Business</td>\n",
       "      <td>14-Aug-16</td>\n",
       "      <td>Full Time</td>\n",
       "      <td>Business</td>\n",
       "      <td>Ian Varley</td>\n",
       "      <td>Ph.D</td>\n",
       "      <td>Ph.D In education and Human Resources Studies</td>\n",
       "      <td>HRM and Strategic Mgt</td>\n",
       "      <td>Colorada State University, USA</td>\n",
       "      <td>Bachelor( Electrical Engineering), Masters( El...</td>\n",
       "      <td>Quality Mgt, HRM Innovation Strategies, Organi...</td>\n",
       "      <td>HRM, Quality and Innovation and Entrepreneurship</td>\n",
       "      <td>8 years Professional experience + 10 years tea...</td>\n",
       "      <td>Researcher</td>\n",
       "    </tr>\n",
       "  </tbody>\n",
       "</table>\n",
       "</div>"
      ],
      "text/plain": [
       "   Location Grade               Title Join\\nDate       Type   Divison  \\\n",
       "45      NaN    FA  Faculty - Business  16-Sep-02  Full Time  Business   \n",
       "46      NaN    FA  Faculty - Business  31-Aug-14  Full Time  Business   \n",
       "47      NaN    FA  Faculty - Business  14-Aug-95  Full Time  Business   \n",
       "48      NaN    FA  Faculty - Business  18-Feb-15  Full Time  Business   \n",
       "49      NaN    FA  Faculty - Business  14-Aug-16  Full Time  Business   \n",
       "50      NaN    FA  Faculty - Business  14-Aug-16  Full Time  Business   \n",
       "51      NaN    FA  Faculty - Business  14-Aug-16  Full Time  Business   \n",
       "52      NaN    FA  Faculty - Business  14-Aug-16  Full Time  Business   \n",
       "53      NaN    FA  Faculty - Business  14-Aug-16  Full Time  Business   \n",
       "54      NaN    FA  Faculty - Business  14-Aug-16  Full Time  Business   \n",
       "55      NaN    FA  Faculty - Business  14-Aug-16  Full Time  Business   \n",
       "56      NaN    FA  Faculty - Business  14-Aug-16  Full Time  Business   \n",
       "57      NaN    FA  Faculty - Business  14-Aug-16  Full Time  Business   \n",
       "58      NaN    FA  Faculty - Business  14-Aug-16  Full Time  Business   \n",
       "\n",
       "     Reports To Highest\\nQualification\\nLevel  \\\n",
       "45   Ian Varley                     Doctorate   \n",
       "46   Ian Varley                       Masters   \n",
       "47   Ian Varley                       Masters   \n",
       "48   Ian Varley                       Masters   \n",
       "49  Abbas Houda                          Ph.D   \n",
       "50   Ian Varley                          Ph.D   \n",
       "51   Ian Varley                          Ph.D   \n",
       "52   Ian Varley                          Ph.D   \n",
       "53   Ian Varley                          Ph.D   \n",
       "54   Ian Varley                          Ph.D   \n",
       "55   Ian Varley                          Ph.D   \n",
       "56   Ian Varley                          Ph.D   \n",
       "57   Ian Varley                          Ph.D   \n",
       "58   Ian Varley                          Ph.D   \n",
       "\n",
       "                            Highest Qualification  \\\n",
       "45                         Doctorate in Marketing   \n",
       "46                             Master of Commerce   \n",
       "47                         Masters in Engineering   \n",
       "48                 Master of Business Administrat   \n",
       "49                              Ph.D in Economics   \n",
       "50                              Ph.D in Economics   \n",
       "51                 PhD in Business Administration   \n",
       "52                                           Ph.D   \n",
       "53                Ph.D in Business Administration   \n",
       "54                                           Ph.D   \n",
       "55                                           Ph.D   \n",
       "56                       PhD In Economic Sciences   \n",
       "57                                           Ph.D   \n",
       "58  Ph.D In education and Human Resources Studies   \n",
       "\n",
       "                                      Major  \\\n",
       "45                                Marketing   \n",
       "46                     Financial Management   \n",
       "47           Oper. Resch. & Mgt. Info. Sys.   \n",
       "48                     Financial Management   \n",
       "49                                Economics   \n",
       "50                               Economics    \n",
       "51                          HRM and tourism   \n",
       "52  Managerial Economics/ Business Strategy   \n",
       "53                               Management   \n",
       "54    Finance and Islamic Banking & Finance   \n",
       "55                               E-Business   \n",
       "56                       Economics Sciences   \n",
       "57                     Financial Economics    \n",
       "58                    HRM and Strategic Mgt   \n",
       "\n",
       "                                        University  \\\n",
       "45                       University of Westminster   \n",
       "46                      University Of Johannesburg   \n",
       "47                           University of Toronto   \n",
       "48                          The University of Hull   \n",
       "49                  Michigan State University, USA   \n",
       "50                      University of Nebraska,USA   \n",
       "51              Girne American University, Cyprus    \n",
       "52                National University of Singapore   \n",
       "53               Nova Southeastern University, USA   \n",
       "54      International Islamic University< Malaysia   \n",
       "55                    University of Salento, Italy   \n",
       "56                 PaulCezannel University, France   \n",
       "57  University of Paris 1 Pantheon-Sorbonne France   \n",
       "58                  Colorada State University, USA   \n",
       "\n",
       "                      All Qualifications from Profile  \\\n",
       "45  Master of Business Administrat (Business Admin...   \n",
       "46  Master of Commerce (Financial Management), Bac...   \n",
       "47  Bachelor of Science (Industrial Engineering), ...   \n",
       "48  Certificate (), Master of Business Administrat...   \n",
       "49           Bachelor(Economics), Masters( Economics)   \n",
       "50           Bachelor(Economics), Masters( Economics)   \n",
       "51  Bachelor (international Relations), Masters( I...   \n",
       "52  Bachelor( International Business and Asian Stu...   \n",
       "53             Bachelor( Economics), Masters(Finance)   \n",
       "54  Bachelor(insurance), Masters( Islamic Law/ Jur...   \n",
       "55        Bachelor( Accounting), Masters( Accounting)   \n",
       "56  Bachelor( Business Administration and Marketin...   \n",
       "57  Bachelor( Finance) Masters( Industrial Strateg...   \n",
       "58  Bachelor( Electrical Engineering), Masters( El...   \n",
       "\n",
       "                          Courses Taught- Term 201510  \\\n",
       "45  CSD1023 - The Crime of Smuggling\\nBUS4563 - St...   \n",
       "46  BUS4183 - Corporate Finance\\nLSM1003 - Applied...   \n",
       "47                                                NaN   \n",
       "48  LSS2533 - Research Methods\\nBUS3903 - Contempo...   \n",
       "49  Micro and Macro Economics, Monetary Theory, An...   \n",
       "50  Micro and Macro Economics, Business Stastics, ...   \n",
       "51  HRM, International Business, TQM, Service Qual...   \n",
       "52  International Business, Innovation, strategic ...   \n",
       "53                            Finance and Mgt courses   \n",
       "54  Islamic Risk Mgt, Islamic Insurance, Islamic F...   \n",
       "55  E-Business, International Business, Strategic Mgt   \n",
       "56                    Managerial Economics, Economics   \n",
       "57  Financial Derivatives, Financial Mgt, Corporat...   \n",
       "58  Quality Mgt, HRM Innovation Strategies, Organi...   \n",
       "\n",
       "                                 MAJOR TEACHING FIELD  \\\n",
       "45                Business Administration/\\nMarketing   \n",
       "46  Business Adminstration/Finance and Investment ...   \n",
       "47                                 Management Science   \n",
       "48                                                NaN   \n",
       "49                                          Economics   \n",
       "50                                          Economics   \n",
       "51                           HRM, Quality and Tourism   \n",
       "52  Strategic Mgt, Supply chain, Innovation, Marke...   \n",
       "53                            Finance and Management    \n",
       "54                    Islamic Finance and Islamic law   \n",
       "55                             E-Business/ Management   \n",
       "56                                          Economics   \n",
       "57                       Finance and Islamic Finance    \n",
       "58  HRM, Quality and Innovation and Entrepreneurship    \n",
       "\n",
       "   DOCUMENT OTHER PROFESSIONAL CERTIFICATION CRITIERA Five Years Work Experience Teaching Excellence Professional Certifications  \\\n",
       "45  ICDL\\nIRB\\nInstructional Skills Workshops (ISW...                                                                              \n",
       "46                        6 years teaching experience                                                                              \n",
       "47  29 years teaching experience, ISO 9001: 2008 I...                                                                              \n",
       "48                                                NaN                                                                              \n",
       "49  28 years professional experience + 3 years tea...                                                                              \n",
       "50  5 years professional experience + 9 years teac...                                                                              \n",
       "51  5 years professional experience +15 years teac...                                                                              \n",
       "52  5 years professional experience + 8 years teac...                                                                              \n",
       "53  12 years Professional experience+ 9 years teac...                                                                              \n",
       "54    7 years Teaching Experience + active researcher                                                                              \n",
       "55  8 years Professional experience+ 5 years teaching                                                                              \n",
       "56  10 years professional experience + 5 years tea...                                                                              \n",
       "57  14 years professional experience + 20 years te...                                                                              \n",
       "58  8 years Professional experience + 10 years tea...                                                                              \n",
       "\n",
       "                                Criteria  \n",
       "45        Industry & Teaching experience  \n",
       "46        Industry & Teaching experience  \n",
       "47                         Certification  \n",
       "48        Industry & Teaching experience  \n",
       "49        Industry & Teaching experience  \n",
       "50        Industry & Teaching experience  \n",
       "51                            Researcher  \n",
       "52                            Researcher  \n",
       "53        Industry & Teaching experience  \n",
       "54                            Researcher  \n",
       "55        Industry & Teaching experience  \n",
       "56        Industry & Teaching experience  \n",
       "57  Certification/Curriculum Development  \n",
       "58                            Researcher  "
      ]
     },
     "execution_count": 10,
     "metadata": {},
     "output_type": "execute_result"
    }
   ],
   "source": [
    "# Inspect records where location is null. Already know there is 14 null values from earlier check.\n",
    "sis[sis['Location'].isnull()]"
   ]
  },
  {
   "cell_type": "code",
   "execution_count": 11,
   "id": "a71ef01c",
   "metadata": {},
   "outputs": [
    {
     "data": {
      "text/plain": [
       "Location\n",
       "Manchester    20\n",
       "dtype: int64"
      ]
     },
     "execution_count": 11,
     "metadata": {},
     "output_type": "execute_result"
    }
   ],
   "source": [
    "# Most of the missing location records report to Ian Varley. Investigate this further.\n",
    "sis[sis['Reports To']=='Ian Varley'].value_counts('Location')"
   ]
  },
  {
   "cell_type": "markdown",
   "id": "c4125ad5",
   "metadata": {},
   "source": [
    "Above shows that everyone who reports to Ian Varley is located in Manchester"
   ]
  },
  {
   "cell_type": "code",
   "execution_count": 12,
   "id": "f0e5cc1e",
   "metadata": {},
   "outputs": [
    {
     "data": {
      "text/plain": [
       "Location\n",
       "Liverpool    18\n",
       "London        4\n",
       "dtype: int64"
      ]
     },
     "execution_count": 12,
     "metadata": {},
     "output_type": "execute_result"
    }
   ],
   "source": [
    "# Check locations for those who report to Abbas Houda\n",
    "sis[sis['Reports To']=='Abbas Houda'].value_counts('Location')"
   ]
  },
  {
   "cell_type": "markdown",
   "id": "c8b5763e",
   "metadata": {},
   "source": [
    "Above cells show Ian Varley reports are located in Manchester. Update Ian Varley missing locations to Manchester.\n",
    "\n",
    "For Abbas Houda reports, the mode location is Liverpool, so replace missing values with Liverpool"
   ]
  },
  {
   "cell_type": "code",
   "execution_count": 13,
   "id": "420ac9a0",
   "metadata": {},
   "outputs": [],
   "source": [
    "sis['Location'].mask(sis['Reports To'] == 'Ian Varley', 'Manchester', inplace=True)\n",
    "sis['Location'].mask(sis['Reports To'] == 'Abbas Houda', 'Liverpool', inplace=True)"
   ]
  },
  {
   "cell_type": "code",
   "execution_count": 14,
   "id": "fc10a2ca",
   "metadata": {},
   "outputs": [
    {
     "data": {
      "text/plain": [
       "0"
      ]
     },
     "execution_count": 14,
     "metadata": {},
     "output_type": "execute_result"
    }
   ],
   "source": [
    "# Recheck null values\n",
    "sis['Location'].isnull().sum()"
   ]
  },
  {
   "cell_type": "code",
   "execution_count": 15,
   "id": "fdd19d1e",
   "metadata": {},
   "outputs": [
    {
     "data": {
      "text/plain": [
       "FA       282\n",
       "Chair      2\n",
       "Name: Grade, dtype: int64"
      ]
     },
     "execution_count": 15,
     "metadata": {},
     "output_type": "execute_result"
    }
   ],
   "source": [
    "# Inspect Grade column\n",
    "sis['Grade'].value_counts()"
   ]
  },
  {
   "cell_type": "markdown",
   "id": "b9f2227c",
   "metadata": {},
   "source": [
    "* 282 out of 284 values are FA\n",
    "* It is unclear what FA actually means. Due to almost all values being FA, drop this column"
   ]
  },
  {
   "cell_type": "code",
   "execution_count": 16,
   "id": "ed22a33a",
   "metadata": {},
   "outputs": [],
   "source": [
    "sis.drop('Grade',axis=1, inplace=True)"
   ]
  },
  {
   "cell_type": "code",
   "execution_count": 17,
   "id": "7114fad3",
   "metadata": {},
   "outputs": [
    {
     "data": {
      "text/plain": [
       "Faculty - Business                       252\n",
       "Faculty - Trainee                         13\n",
       "Adjunct Faculty - Business                 9\n",
       "Faculty- Business                          2\n",
       "Faculty - Business (Admin)                 1\n",
       "Faculty-Business (HR & Admin.)             1\n",
       "Faculty - Business                         1\n",
       "Faculty - Business & Comp Lit Faculty      1\n",
       "Faculty-Business                           1\n",
       "Business, Comp & Math Faculty              1\n",
       "Graduate Trainee                           1\n",
       "Faculty - Business & Comp Lit.             1\n",
       "Name: Title, dtype: int64"
      ]
     },
     "execution_count": 17,
     "metadata": {},
     "output_type": "execute_result"
    }
   ],
   "source": [
    "# Inspect Title column\n",
    "sis['Title'].value_counts()"
   ]
  },
  {
   "cell_type": "markdown",
   "id": "c656c3b7",
   "metadata": {},
   "source": [
    "* It is clear that Title is mostly split between 'Business' and 'Trainee'.\n",
    "* I will update values based on this using string conditions"
   ]
  },
  {
   "cell_type": "code",
   "execution_count": 18,
   "id": "9c9dd124",
   "metadata": {},
   "outputs": [],
   "source": [
    "sis['Title'].mask(sis['Title'].str.contains('Business') == True, 'Business', inplace=True)\n",
    "sis['Title'].mask(sis['Title'].str.contains('Trainee') == True, 'Trainee', inplace=True)"
   ]
  },
  {
   "cell_type": "code",
   "execution_count": 19,
   "id": "eaac89f7",
   "metadata": {},
   "outputs": [
    {
     "data": {
      "text/plain": [
       "Business    270\n",
       "Trainee      14\n",
       "Name: Title, dtype: int64"
      ]
     },
     "execution_count": 19,
     "metadata": {},
     "output_type": "execute_result"
    }
   ],
   "source": [
    "sis['Title'].value_counts()"
   ]
  },
  {
   "cell_type": "code",
   "execution_count": 20,
   "id": "b60274da",
   "metadata": {},
   "outputs": [
    {
     "data": {
      "text/html": [
       "<div>\n",
       "<style scoped>\n",
       "    .dataframe tbody tr th:only-of-type {\n",
       "        vertical-align: middle;\n",
       "    }\n",
       "\n",
       "    .dataframe tbody tr th {\n",
       "        vertical-align: top;\n",
       "    }\n",
       "\n",
       "    .dataframe thead th {\n",
       "        text-align: right;\n",
       "    }\n",
       "</style>\n",
       "<table border=\"1\" class=\"dataframe\">\n",
       "  <thead>\n",
       "    <tr style=\"text-align: right;\">\n",
       "      <th></th>\n",
       "      <th>Location</th>\n",
       "      <th>Title</th>\n",
       "      <th>Join\\nDate</th>\n",
       "      <th>Type</th>\n",
       "      <th>Divison</th>\n",
       "      <th>Reports To</th>\n",
       "      <th>Highest\\nQualification\\nLevel</th>\n",
       "      <th>Highest Qualification</th>\n",
       "      <th>Major</th>\n",
       "      <th>University</th>\n",
       "      <th>All Qualifications from Profile</th>\n",
       "      <th>Courses Taught- Term 201510</th>\n",
       "      <th>MAJOR TEACHING FIELD</th>\n",
       "      <th>DOCUMENT OTHER PROFESSIONAL CERTIFICATION CRITIERA Five Years Work Experience Teaching Excellence Professional Certifications</th>\n",
       "      <th>Criteria</th>\n",
       "    </tr>\n",
       "  </thead>\n",
       "  <tbody>\n",
       "    <tr>\n",
       "      <th>0</th>\n",
       "      <td>Liverpool</td>\n",
       "      <td>Business</td>\n",
       "      <td>29-Aug-10</td>\n",
       "      <td>Full Time</td>\n",
       "      <td>Business</td>\n",
       "      <td>Abbas Houda</td>\n",
       "      <td>Masters</td>\n",
       "      <td>Master of Arts</td>\n",
       "      <td>International Affairs</td>\n",
       "      <td>American University of Beirut</td>\n",
       "      <td>Bachelor of Science (Communications), Master o...</td>\n",
       "      <td>BUS2403 - Innovation &amp; Entrepreneurship\\nBUS20...</td>\n",
       "      <td>Business Administration</td>\n",
       "      <td>10+ Years Small Business Ownership, 10+ Years ...</td>\n",
       "      <td>Industry &amp; Teaching experience</td>\n",
       "    </tr>\n",
       "    <tr>\n",
       "      <th>1</th>\n",
       "      <td>Liverpool</td>\n",
       "      <td>Business</td>\n",
       "      <td>19-Aug-99</td>\n",
       "      <td>Full Time</td>\n",
       "      <td>Business</td>\n",
       "      <td>Abbas Houda</td>\n",
       "      <td>Masters</td>\n",
       "      <td>Master of Science</td>\n",
       "      <td>Business Info. Technology</td>\n",
       "      <td>University of Northumbria</td>\n",
       "      <td>Bachelor of Arts (Finance), Certificate (Manag...</td>\n",
       "      <td>BUS4173 - Managerial Accounting II\\nBUS4916 - ...</td>\n",
       "      <td>Business</td>\n",
       "      <td>years of teaching experience: 17              ...</td>\n",
       "      <td>Certification</td>\n",
       "    </tr>\n",
       "    <tr>\n",
       "      <th>2</th>\n",
       "      <td>Liverpool</td>\n",
       "      <td>Business</td>\n",
       "      <td>08-Apr-07</td>\n",
       "      <td>Full Time</td>\n",
       "      <td>Business</td>\n",
       "      <td>Abbas Houda</td>\n",
       "      <td>Masters</td>\n",
       "      <td>Master of Business Administrat</td>\n",
       "      <td>Marketing</td>\n",
       "      <td>Griffith University</td>\n",
       "      <td>Certificate (Educating/Teaching Adult), Associ...</td>\n",
       "      <td>BUS3903 - Contemporary Business\\nBUS1303 - Mar...</td>\n",
       "      <td>Marketing and Strategic Management</td>\n",
       "      <td>Years of teaching experience: 15\\nYears of pro...</td>\n",
       "      <td>Industry &amp; Teaching experience</td>\n",
       "    </tr>\n",
       "    <tr>\n",
       "      <th>3</th>\n",
       "      <td>Liverpool</td>\n",
       "      <td>Business</td>\n",
       "      <td>14-Aug-16</td>\n",
       "      <td>Full Time</td>\n",
       "      <td>Business</td>\n",
       "      <td>Abbas Houda</td>\n",
       "      <td>Ph.D</td>\n",
       "      <td>Ph.D in HRM/ Organizational pyschology</td>\n",
       "      <td>HRM/ Organizational Psychology</td>\n",
       "      <td>The University of Swansea, UK</td>\n",
       "      <td>Bachelor(finance &amp; Mgt), Masters(MBA &amp; Masters...</td>\n",
       "      <td>HRM, Organizational behaviour, Strategic Mgt, ...</td>\n",
       "      <td>HRM</td>\n",
       "      <td>6 years professional experience + 6 years teac...</td>\n",
       "      <td>Researcher</td>\n",
       "    </tr>\n",
       "    <tr>\n",
       "      <th>4</th>\n",
       "      <td>London</td>\n",
       "      <td>Business</td>\n",
       "      <td>14-Aug-16</td>\n",
       "      <td>Full Time</td>\n",
       "      <td>Business</td>\n",
       "      <td>Tony Emmanuel</td>\n",
       "      <td>Ph.D</td>\n",
       "      <td>Ph.D in Economics and International Business</td>\n",
       "      <td>Economics and International Business</td>\n",
       "      <td>New York University, USA</td>\n",
       "      <td>Bachelor( Economics), Masters( Economics and I...</td>\n",
       "      <td>Micro and Macroeconomics, Statistics,Introduct...</td>\n",
       "      <td>Economics and International Business</td>\n",
       "      <td>1 year professional experience + 24 years teac...</td>\n",
       "      <td>Researcher/Curriculum Development</td>\n",
       "    </tr>\n",
       "  </tbody>\n",
       "</table>\n",
       "</div>"
      ],
      "text/plain": [
       "    Location     Title Join\\nDate       Type   Divison     Reports To  \\\n",
       "0  Liverpool  Business  29-Aug-10  Full Time  Business    Abbas Houda   \n",
       "1  Liverpool  Business  19-Aug-99  Full Time  Business    Abbas Houda   \n",
       "2  Liverpool  Business  08-Apr-07  Full Time  Business    Abbas Houda   \n",
       "3  Liverpool  Business  14-Aug-16  Full Time  Business    Abbas Houda   \n",
       "4     London  Business  14-Aug-16  Full Time  Business  Tony Emmanuel   \n",
       "\n",
       "  Highest\\nQualification\\nLevel  \\\n",
       "0                       Masters   \n",
       "1                       Masters   \n",
       "2                       Masters   \n",
       "3                          Ph.D   \n",
       "4                          Ph.D   \n",
       "\n",
       "                           Highest Qualification  \\\n",
       "0                                 Master of Arts   \n",
       "1                              Master of Science   \n",
       "2                 Master of Business Administrat   \n",
       "3         Ph.D in HRM/ Organizational pyschology   \n",
       "4  Ph.D in Economics and International Business    \n",
       "\n",
       "                                   Major                     University  \\\n",
       "0                  International Affairs  American University of Beirut   \n",
       "1              Business Info. Technology      University of Northumbria   \n",
       "2                              Marketing            Griffith University   \n",
       "3         HRM/ Organizational Psychology  The University of Swansea, UK   \n",
       "4  Economics and International Business        New York University, USA   \n",
       "\n",
       "                     All Qualifications from Profile  \\\n",
       "0  Bachelor of Science (Communications), Master o...   \n",
       "1  Bachelor of Arts (Finance), Certificate (Manag...   \n",
       "2  Certificate (Educating/Teaching Adult), Associ...   \n",
       "3  Bachelor(finance & Mgt), Masters(MBA & Masters...   \n",
       "4  Bachelor( Economics), Masters( Economics and I...   \n",
       "\n",
       "                         Courses Taught- Term 201510  \\\n",
       "0  BUS2403 - Innovation & Entrepreneurship\\nBUS20...   \n",
       "1  BUS4173 - Managerial Accounting II\\nBUS4916 - ...   \n",
       "2  BUS3903 - Contemporary Business\\nBUS1303 - Mar...   \n",
       "3  HRM, Organizational behaviour, Strategic Mgt, ...   \n",
       "4  Micro and Macroeconomics, Statistics,Introduct...   \n",
       "\n",
       "                    MAJOR TEACHING FIELD  \\\n",
       "0                Business Administration   \n",
       "1                               Business   \n",
       "2    Marketing and Strategic Management    \n",
       "3                                    HRM   \n",
       "4  Economics and International Business    \n",
       "\n",
       "  DOCUMENT OTHER PROFESSIONAL CERTIFICATION CRITIERA Five Years Work Experience Teaching Excellence Professional Certifications  \\\n",
       "0  10+ Years Small Business Ownership, 10+ Years ...                                                                              \n",
       "1  years of teaching experience: 17              ...                                                                              \n",
       "2  Years of teaching experience: 15\\nYears of pro...                                                                              \n",
       "3  6 years professional experience + 6 years teac...                                                                              \n",
       "4  1 year professional experience + 24 years teac...                                                                              \n",
       "\n",
       "                            Criteria  \n",
       "0     Industry & Teaching experience  \n",
       "1                      Certification  \n",
       "2     Industry & Teaching experience  \n",
       "3                         Researcher  \n",
       "4  Researcher/Curriculum Development  "
      ]
     },
     "execution_count": 20,
     "metadata": {},
     "output_type": "execute_result"
    }
   ],
   "source": [
    "sis.head()"
   ]
  },
  {
   "cell_type": "code",
   "execution_count": 21,
   "id": "a41d13e4",
   "metadata": {},
   "outputs": [
    {
     "data": {
      "text/html": [
       "<div>\n",
       "<style scoped>\n",
       "    .dataframe tbody tr th:only-of-type {\n",
       "        vertical-align: middle;\n",
       "    }\n",
       "\n",
       "    .dataframe tbody tr th {\n",
       "        vertical-align: top;\n",
       "    }\n",
       "\n",
       "    .dataframe thead th {\n",
       "        text-align: right;\n",
       "    }\n",
       "</style>\n",
       "<table border=\"1\" class=\"dataframe\">\n",
       "  <thead>\n",
       "    <tr style=\"text-align: right;\">\n",
       "      <th></th>\n",
       "      <th>Location</th>\n",
       "      <th>Title</th>\n",
       "      <th>Join Date</th>\n",
       "      <th>Type</th>\n",
       "      <th>Divison</th>\n",
       "      <th>Reports To</th>\n",
       "      <th>Highest\\nQualification\\nLevel</th>\n",
       "      <th>Highest Qualification</th>\n",
       "      <th>Major</th>\n",
       "      <th>University</th>\n",
       "      <th>All Qualifications from Profile</th>\n",
       "      <th>Courses Taught- Term 201510</th>\n",
       "      <th>MAJOR TEACHING FIELD</th>\n",
       "      <th>DOCUMENT OTHER PROFESSIONAL CERTIFICATION CRITIERA Five Years Work Experience Teaching Excellence Professional Certifications</th>\n",
       "      <th>Criteria</th>\n",
       "    </tr>\n",
       "  </thead>\n",
       "  <tbody>\n",
       "    <tr>\n",
       "      <th>0</th>\n",
       "      <td>Liverpool</td>\n",
       "      <td>Business</td>\n",
       "      <td>29-Aug-10</td>\n",
       "      <td>Full Time</td>\n",
       "      <td>Business</td>\n",
       "      <td>Abbas Houda</td>\n",
       "      <td>Masters</td>\n",
       "      <td>Master of Arts</td>\n",
       "      <td>International Affairs</td>\n",
       "      <td>American University of Beirut</td>\n",
       "      <td>Bachelor of Science (Communications), Master o...</td>\n",
       "      <td>BUS2403 - Innovation &amp; Entrepreneurship\\nBUS20...</td>\n",
       "      <td>Business Administration</td>\n",
       "      <td>10+ Years Small Business Ownership, 10+ Years ...</td>\n",
       "      <td>Industry &amp; Teaching experience</td>\n",
       "    </tr>\n",
       "  </tbody>\n",
       "</table>\n",
       "</div>"
      ],
      "text/plain": [
       "    Location     Title  Join Date       Type   Divison   Reports To  \\\n",
       "0  Liverpool  Business  29-Aug-10  Full Time  Business  Abbas Houda   \n",
       "\n",
       "  Highest\\nQualification\\nLevel Highest Qualification                  Major  \\\n",
       "0                       Masters        Master of Arts  International Affairs   \n",
       "\n",
       "                      University  \\\n",
       "0  American University of Beirut   \n",
       "\n",
       "                     All Qualifications from Profile  \\\n",
       "0  Bachelor of Science (Communications), Master o...   \n",
       "\n",
       "                         Courses Taught- Term 201510     MAJOR TEACHING FIELD  \\\n",
       "0  BUS2403 - Innovation & Entrepreneurship\\nBUS20...  Business Administration   \n",
       "\n",
       "  DOCUMENT OTHER PROFESSIONAL CERTIFICATION CRITIERA Five Years Work Experience Teaching Excellence Professional Certifications  \\\n",
       "0  10+ Years Small Business Ownership, 10+ Years ...                                                                              \n",
       "\n",
       "                         Criteria  \n",
       "0  Industry & Teaching experience  "
      ]
     },
     "execution_count": 21,
     "metadata": {},
     "output_type": "execute_result"
    }
   ],
   "source": [
    "# Inspect Join Date column. First rename.\n",
    "sis = sis.rename(columns={'Join\\nDate':'Join Date'})\n",
    "sis.head(1)"
   ]
  },
  {
   "cell_type": "code",
   "execution_count": 22,
   "id": "5317c04a",
   "metadata": {},
   "outputs": [
    {
     "data": {
      "text/plain": [
       "14-Aug-16    41\n",
       "26-Aug-12    16\n",
       "09-Aug-15    15\n",
       "17-Aug-14    11\n",
       "23-Aug-15     8\n",
       "             ..\n",
       "16-Sep-12     1\n",
       "01-Oct-12     1\n",
       "31-Aug-10     1\n",
       "06-Sep-15     1\n",
       "02-Aug-09     1\n",
       "Name: Join Date, Length: 143, dtype: int64"
      ]
     },
     "execution_count": 22,
     "metadata": {},
     "output_type": "execute_result"
    }
   ],
   "source": [
    "# Inspect Join Date values\n",
    "sis['Join Date'].value_counts()"
   ]
  },
  {
   "cell_type": "markdown",
   "id": "6982bf96",
   "metadata": {},
   "source": [
    "* Cardinality is an issue in this column as there are 143 unique dates\n",
    "* Earlier inspection revealed there was 1 missing value. As this is categorical data, I will fill this with the mode value"
   ]
  },
  {
   "cell_type": "code",
   "execution_count": 23,
   "id": "b82b58eb",
   "metadata": {},
   "outputs": [],
   "source": [
    "sis['Join Date'].fillna('14-Aug-16', inplace=True)"
   ]
  },
  {
   "cell_type": "code",
   "execution_count": 24,
   "id": "ce6b81db",
   "metadata": {},
   "outputs": [
    {
     "data": {
      "text/plain": [
       "0"
      ]
     },
     "execution_count": 24,
     "metadata": {},
     "output_type": "execute_result"
    }
   ],
   "source": [
    "sis['Join Date'].isnull().sum()"
   ]
  },
  {
   "cell_type": "code",
   "execution_count": 25,
   "id": "0c7b33fa",
   "metadata": {},
   "outputs": [],
   "source": [
    "# To reduce unique values, I will group dates into years\n",
    "sis['Join Date'] = pd.to_datetime(sis['Join Date'])"
   ]
  },
  {
   "cell_type": "code",
   "execution_count": 26,
   "id": "13d287b0",
   "metadata": {},
   "outputs": [],
   "source": [
    "sis['Join Date'] = sis['Join Date'].dt.year"
   ]
  },
  {
   "cell_type": "code",
   "execution_count": 27,
   "id": "22d0de11",
   "metadata": {},
   "outputs": [
    {
     "data": {
      "text/plain": [
       "2014    52\n",
       "2015    50\n",
       "2016    42\n",
       "2012    27\n",
       "2013    23\n",
       "2011    17\n",
       "2010    11\n",
       "2008    10\n",
       "2007     9\n",
       "2009     9\n",
       "1997     6\n",
       "2004     4\n",
       "1999     4\n",
       "2000     3\n",
       "2005     3\n",
       "1995     3\n",
       "1996     2\n",
       "2002     2\n",
       "1993     1\n",
       "2003     1\n",
       "2006     1\n",
       "1992     1\n",
       "1989     1\n",
       "1998     1\n",
       "1990     1\n",
       "Name: Join Date, dtype: int64"
      ]
     },
     "execution_count": 27,
     "metadata": {},
     "output_type": "execute_result"
    }
   ],
   "source": [
    "sis['Join Date'].value_counts()"
   ]
  },
  {
   "cell_type": "markdown",
   "id": "d9f270af",
   "metadata": {},
   "source": [
    "There are still too many values so I will set use a value frequency threshold, and group all dates together that fall below the threshold."
   ]
  },
  {
   "cell_type": "code",
   "execution_count": 28,
   "id": "35793b17",
   "metadata": {},
   "outputs": [
    {
     "data": {
      "text/plain": [
       "2014    0.183099\n",
       "2015    0.176056\n",
       "2016    0.147887\n",
       "2012    0.095070\n",
       "2013    0.080986\n",
       "2011    0.059859\n",
       "2010    0.038732\n",
       "2008    0.035211\n",
       "2007    0.031690\n",
       "2009    0.031690\n",
       "1997    0.021127\n",
       "2004    0.014085\n",
       "1999    0.014085\n",
       "2000    0.010563\n",
       "2005    0.010563\n",
       "1995    0.010563\n",
       "1996    0.007042\n",
       "2002    0.007042\n",
       "1993    0.003521\n",
       "2003    0.003521\n",
       "2006    0.003521\n",
       "1992    0.003521\n",
       "1989    0.003521\n",
       "1998    0.003521\n",
       "1990    0.003521\n",
       "Name: Join Date, dtype: float64"
      ]
     },
     "execution_count": 28,
     "metadata": {},
     "output_type": "execute_result"
    }
   ],
   "source": [
    "date_freq = sis['Join Date'].value_counts()/len(sis)\n",
    "date_freq"
   ]
  },
  {
   "cell_type": "code",
   "execution_count": 29,
   "id": "b43db9b8",
   "metadata": {},
   "outputs": [
    {
     "data": {
      "image/png": "[encoded data removed]",
      "text/plain": [
       "<Figure size 1080x720 with 1 Axes>"
      ]
     },
     "metadata": {
      "needs_background": "light"
     },
     "output_type": "display_data"
    }
   ],
   "source": [
    "# I will use 5% as the threshold\n",
    "fig = date_freq.sort_values(ascending=False).plot.barh(figsize=(15,10))\n",
    "fig.axvline(x=0.05, color='red')\n",
    "fig.set_xlabel('% Frequency of Dates')\n",
    "fig.set_ylabel('Join Date')\n",
    "fig.set_title('Low Frequency Date Identification')\n",
    "plt.show()"
   ]
  },
  {
   "cell_type": "markdown",
   "id": "7a462eb7",
   "metadata": {},
   "source": [
    "Anything earlier than 2011 has less than 5% frequency. I will group rare values in a category called '<2011'"
   ]
  },
  {
   "cell_type": "code",
   "execution_count": 30,
   "id": "b4bfce5c",
   "metadata": {},
   "outputs": [],
   "source": [
    "sis['Join Date'].mask(sis['Join Date']<2011, '<2011', inplace=True)"
   ]
  },
  {
   "cell_type": "code",
   "execution_count": 31,
   "id": "5d83bac4",
   "metadata": {},
   "outputs": [
    {
     "data": {
      "text/plain": [
       "<2011    73\n",
       "2014     52\n",
       "2015     50\n",
       "2016     42\n",
       "2012     27\n",
       "2013     23\n",
       "2011     17\n",
       "Name: Join Date, dtype: int64"
      ]
     },
     "execution_count": 31,
     "metadata": {},
     "output_type": "execute_result"
    }
   ],
   "source": [
    "sis['Join Date'].value_counts()"
   ]
  },
  {
   "cell_type": "code",
   "execution_count": 32,
   "id": "f044deeb",
   "metadata": {},
   "outputs": [
    {
     "data": {
      "text/plain": [
       "Full Time    284\n",
       "Name: Type, dtype: int64"
      ]
     },
     "execution_count": 32,
     "metadata": {},
     "output_type": "execute_result"
    }
   ],
   "source": [
    "# Inspect Type column\n",
    "sis['Type'].value_counts()"
   ]
  },
  {
   "cell_type": "code",
   "execution_count": 33,
   "id": "1a89d834",
   "metadata": {},
   "outputs": [
    {
     "data": {
      "text/plain": [
       "Business    284\n",
       "Name: Divison, dtype: int64"
      ]
     },
     "execution_count": 33,
     "metadata": {},
     "output_type": "execute_result"
    }
   ],
   "source": [
    "# Inspect Division column\n",
    "sis['Divison'].value_counts()"
   ]
  },
  {
   "cell_type": "code",
   "execution_count": 34,
   "id": "196a1d33",
   "metadata": {},
   "outputs": [],
   "source": [
    "# Drop both Type and Division as they only contain single values so are not useful\n",
    "sis.drop(['Type','Divison'], axis=1, inplace=True)"
   ]
  },
  {
   "cell_type": "code",
   "execution_count": 35,
   "id": "3d028d3a",
   "metadata": {},
   "outputs": [
    {
     "data": {
      "text/html": [
       "<div>\n",
       "<style scoped>\n",
       "    .dataframe tbody tr th:only-of-type {\n",
       "        vertical-align: middle;\n",
       "    }\n",
       "\n",
       "    .dataframe tbody tr th {\n",
       "        vertical-align: top;\n",
       "    }\n",
       "\n",
       "    .dataframe thead th {\n",
       "        text-align: right;\n",
       "    }\n",
       "</style>\n",
       "<table border=\"1\" class=\"dataframe\">\n",
       "  <thead>\n",
       "    <tr style=\"text-align: right;\">\n",
       "      <th></th>\n",
       "      <th>Location</th>\n",
       "      <th>Title</th>\n",
       "      <th>Join Date</th>\n",
       "      <th>Reports To</th>\n",
       "      <th>Highest\\nQualification\\nLevel</th>\n",
       "      <th>Highest Qualification</th>\n",
       "      <th>Major</th>\n",
       "      <th>University</th>\n",
       "      <th>All Qualifications from Profile</th>\n",
       "      <th>Courses Taught- Term 201510</th>\n",
       "      <th>MAJOR TEACHING FIELD</th>\n",
       "      <th>DOCUMENT OTHER PROFESSIONAL CERTIFICATION CRITIERA Five Years Work Experience Teaching Excellence Professional Certifications</th>\n",
       "      <th>Criteria</th>\n",
       "    </tr>\n",
       "  </thead>\n",
       "  <tbody>\n",
       "    <tr>\n",
       "      <th>21</th>\n",
       "      <td>Liverpool</td>\n",
       "      <td>Business</td>\n",
       "      <td>2015</td>\n",
       "      <td>NaN</td>\n",
       "      <td>Masters</td>\n",
       "      <td>Master of Business Administrat</td>\n",
       "      <td>Human Resource Management</td>\n",
       "      <td>Charles Sturt University</td>\n",
       "      <td>Bachelor of Business Info. Systems (Business),...</td>\n",
       "      <td>NaN</td>\n",
       "      <td>NaN</td>\n",
       "      <td>NaN</td>\n",
       "      <td>Industry &amp; Teaching experience</td>\n",
       "    </tr>\n",
       "    <tr>\n",
       "      <th>22</th>\n",
       "      <td>Liverpool</td>\n",
       "      <td>Business</td>\n",
       "      <td>2015</td>\n",
       "      <td>NaN</td>\n",
       "      <td>Masters</td>\n",
       "      <td>Masters</td>\n",
       "      <td>Human Resource Management</td>\n",
       "      <td>The University of Bolton</td>\n",
       "      <td>Bachelor (Commerce), Masters (Human Resource M...</td>\n",
       "      <td>NaN</td>\n",
       "      <td>NaN</td>\n",
       "      <td>NaN</td>\n",
       "      <td>Industry &amp; Teaching experience</td>\n",
       "    </tr>\n",
       "    <tr>\n",
       "      <th>100</th>\n",
       "      <td>Bristol</td>\n",
       "      <td>Business</td>\n",
       "      <td>&lt;2011</td>\n",
       "      <td>NaN</td>\n",
       "      <td>Masters</td>\n",
       "      <td>MA in Accounting</td>\n",
       "      <td>Accounting</td>\n",
       "      <td>Bowling Green State University</td>\n",
       "      <td>Bachelor in Business Administration (General B...</td>\n",
       "      <td>NaN</td>\n",
       "      <td>NaN</td>\n",
       "      <td>NaN</td>\n",
       "      <td>Industry &amp; Teaching experience</td>\n",
       "    </tr>\n",
       "    <tr>\n",
       "      <th>101</th>\n",
       "      <td>Bristol</td>\n",
       "      <td>Business</td>\n",
       "      <td>2015</td>\n",
       "      <td>NaN</td>\n",
       "      <td>NaN</td>\n",
       "      <td>NaN</td>\n",
       "      <td>NaN</td>\n",
       "      <td>NaN</td>\n",
       "      <td>Masters (Finance), Bachelor (Economics)</td>\n",
       "      <td>NaN</td>\n",
       "      <td>NaN</td>\n",
       "      <td>NaN</td>\n",
       "      <td>Industry &amp; Teaching experience</td>\n",
       "    </tr>\n",
       "  </tbody>\n",
       "</table>\n",
       "</div>"
      ],
      "text/plain": [
       "      Location     Title Join Date Reports To Highest\\nQualification\\nLevel  \\\n",
       "21   Liverpool  Business      2015        NaN                       Masters   \n",
       "22   Liverpool  Business      2015        NaN                       Masters   \n",
       "100    Bristol  Business     <2011        NaN                       Masters   \n",
       "101    Bristol  Business      2015        NaN                           NaN   \n",
       "\n",
       "              Highest Qualification                      Major  \\\n",
       "21   Master of Business Administrat  Human Resource Management   \n",
       "22                          Masters  Human Resource Management   \n",
       "100                MA in Accounting                 Accounting   \n",
       "101                             NaN                        NaN   \n",
       "\n",
       "                         University  \\\n",
       "21         Charles Sturt University   \n",
       "22         The University of Bolton   \n",
       "100  Bowling Green State University   \n",
       "101                             NaN   \n",
       "\n",
       "                       All Qualifications from Profile  \\\n",
       "21   Bachelor of Business Info. Systems (Business),...   \n",
       "22   Bachelor (Commerce), Masters (Human Resource M...   \n",
       "100  Bachelor in Business Administration (General B...   \n",
       "101            Masters (Finance), Bachelor (Economics)   \n",
       "\n",
       "    Courses Taught- Term 201510 MAJOR TEACHING FIELD  \\\n",
       "21                          NaN                  NaN   \n",
       "22                          NaN                  NaN   \n",
       "100                         NaN                  NaN   \n",
       "101                         NaN                  NaN   \n",
       "\n",
       "    DOCUMENT OTHER PROFESSIONAL CERTIFICATION CRITIERA Five Years Work Experience Teaching Excellence Professional Certifications  \\\n",
       "21                                                 NaN                                                                              \n",
       "22                                                 NaN                                                                              \n",
       "100                                                NaN                                                                              \n",
       "101                                                NaN                                                                              \n",
       "\n",
       "                           Criteria  \n",
       "21   Industry & Teaching experience  \n",
       "22   Industry & Teaching experience  \n",
       "100  Industry & Teaching experience  \n",
       "101  Industry & Teaching experience  "
      ]
     },
     "execution_count": 35,
     "metadata": {},
     "output_type": "execute_result"
    }
   ],
   "source": [
    "# Inspect null values in Reports To column\n",
    "sis[sis['Reports To'].isnull()]"
   ]
  },
  {
   "cell_type": "markdown",
   "id": "cda50821",
   "metadata": {},
   "source": [
    "* As previously seen, 'Reports To' and 'Location' appear to be linked\n",
    "* I will find out who Liverpool and Bristol located people most commonly report to and use this to impute the missing values"
   ]
  },
  {
   "cell_type": "code",
   "execution_count": 36,
   "id": "55f5111a",
   "metadata": {},
   "outputs": [
    {
     "data": {
      "text/plain": [
       "Location   Reports To \n",
       "Liverpool  Abbas Houda    23\n",
       "dtype: int64"
      ]
     },
     "execution_count": 36,
     "metadata": {},
     "output_type": "execute_result"
    }
   ],
   "source": [
    "sis[['Location', 'Reports To']][sis['Location']=='Liverpool'].value_counts()"
   ]
  },
  {
   "cell_type": "code",
   "execution_count": 37,
   "id": "99b7aaf8",
   "metadata": {},
   "outputs": [
    {
     "data": {
      "text/plain": [
       "Location  Reports To   \n",
       "Bristol   Daphne Keaton    22\n",
       "          Kim Hughes       18\n",
       "          Nick Omotayo      7\n",
       "dtype: int64"
      ]
     },
     "execution_count": 37,
     "metadata": {},
     "output_type": "execute_result"
    }
   ],
   "source": [
    "sis[['Location', 'Reports To']][sis['Location']=='Bristol'].value_counts()"
   ]
  },
  {
   "cell_type": "code",
   "execution_count": 38,
   "id": "edbe25e2",
   "metadata": {},
   "outputs": [],
   "source": [
    "sis.at[21, 'Reports To'] = 'Abbas Houda'\n",
    "sis.at[22, 'Reports To'] = 'Abbas Houda'\n",
    "sis.at[100, 'Reports To'] = 'Daphne Keaton'\n",
    "sis.at[101, 'Reports To'] = 'Daphne Keaton'"
   ]
  },
  {
   "cell_type": "code",
   "execution_count": 39,
   "id": "f8dce9da",
   "metadata": {},
   "outputs": [
    {
     "data": {
      "text/plain": [
       "0"
      ]
     },
     "execution_count": 39,
     "metadata": {},
     "output_type": "execute_result"
    }
   ],
   "source": [
    "sis['Reports To'].isnull().sum()"
   ]
  },
  {
   "cell_type": "code",
   "execution_count": 40,
   "id": "fe8df99b",
   "metadata": {},
   "outputs": [
    {
     "data": {
      "text/plain": [
       "Ian Varley          33\n",
       "Olu Ebenezer        31\n",
       "Abbas Houda         25\n",
       "Rob Jenkins         25\n",
       "Daphne Keaton       24\n",
       "Harriet Mensah      23\n",
       "Jayne Radford       23\n",
       "Orlamei Princess    21\n",
       "Kim Hughes          20\n",
       "Sean Woods          20\n",
       "Betty Adewuyi       19\n",
       "Ian Westwood         9\n",
       "Nick Omotayo         7\n",
       "Tony Emmanuel        3\n",
       "Chris Peters         1\n",
       "Name: Reports To, dtype: int64"
      ]
     },
     "execution_count": 40,
     "metadata": {},
     "output_type": "execute_result"
    }
   ],
   "source": [
    "sis['Reports To'].value_counts()"
   ]
  },
  {
   "cell_type": "code",
   "execution_count": 41,
   "id": "9a3696e3",
   "metadata": {},
   "outputs": [
    {
     "data": {
      "text/html": [
       "<div>\n",
       "<style scoped>\n",
       "    .dataframe tbody tr th:only-of-type {\n",
       "        vertical-align: middle;\n",
       "    }\n",
       "\n",
       "    .dataframe tbody tr th {\n",
       "        vertical-align: top;\n",
       "    }\n",
       "\n",
       "    .dataframe thead th {\n",
       "        text-align: right;\n",
       "    }\n",
       "</style>\n",
       "<table border=\"1\" class=\"dataframe\">\n",
       "  <thead>\n",
       "    <tr style=\"text-align: right;\">\n",
       "      <th></th>\n",
       "      <th>Location</th>\n",
       "      <th>Title</th>\n",
       "      <th>Join Date</th>\n",
       "      <th>Reports To</th>\n",
       "      <th>Highest\\nQualification\\nLevel</th>\n",
       "      <th>Highest Qualification</th>\n",
       "      <th>Major</th>\n",
       "      <th>University</th>\n",
       "      <th>All Qualifications from Profile</th>\n",
       "      <th>Courses Taught- Term 201510</th>\n",
       "      <th>MAJOR TEACHING FIELD</th>\n",
       "      <th>DOCUMENT OTHER PROFESSIONAL CERTIFICATION CRITIERA Five Years Work Experience Teaching Excellence Professional Certifications</th>\n",
       "      <th>Criteria</th>\n",
       "    </tr>\n",
       "  </thead>\n",
       "  <tbody>\n",
       "    <tr>\n",
       "      <th>0</th>\n",
       "      <td>Liverpool</td>\n",
       "      <td>Business</td>\n",
       "      <td>&lt;2011</td>\n",
       "      <td>Abbas Houda</td>\n",
       "      <td>Masters</td>\n",
       "      <td>Master of Arts</td>\n",
       "      <td>International Affairs</td>\n",
       "      <td>American University of Beirut</td>\n",
       "      <td>Bachelor of Science (Communications), Master o...</td>\n",
       "      <td>BUS2403 - Innovation &amp; Entrepreneurship\\nBUS20...</td>\n",
       "      <td>Business Administration</td>\n",
       "      <td>10+ Years Small Business Ownership, 10+ Years ...</td>\n",
       "      <td>Industry &amp; Teaching experience</td>\n",
       "    </tr>\n",
       "  </tbody>\n",
       "</table>\n",
       "</div>"
      ],
      "text/plain": [
       "    Location     Title Join Date   Reports To Highest\\nQualification\\nLevel  \\\n",
       "0  Liverpool  Business     <2011  Abbas Houda                       Masters   \n",
       "\n",
       "  Highest Qualification                  Major                     University  \\\n",
       "0        Master of Arts  International Affairs  American University of Beirut   \n",
       "\n",
       "                     All Qualifications from Profile  \\\n",
       "0  Bachelor of Science (Communications), Master o...   \n",
       "\n",
       "                         Courses Taught- Term 201510     MAJOR TEACHING FIELD  \\\n",
       "0  BUS2403 - Innovation & Entrepreneurship\\nBUS20...  Business Administration   \n",
       "\n",
       "  DOCUMENT OTHER PROFESSIONAL CERTIFICATION CRITIERA Five Years Work Experience Teaching Excellence Professional Certifications  \\\n",
       "0  10+ Years Small Business Ownership, 10+ Years ...                                                                              \n",
       "\n",
       "                         Criteria  \n",
       "0  Industry & Teaching experience  "
      ]
     },
     "execution_count": 41,
     "metadata": {},
     "output_type": "execute_result"
    }
   ],
   "source": [
    "sis.head(1)"
   ]
  },
  {
   "cell_type": "code",
   "execution_count": 42,
   "id": "10600aac",
   "metadata": {},
   "outputs": [],
   "source": [
    "# Rename Highest\\nQualification\\nLevel column\n",
    "sis.rename(columns={'Highest\\nQualification\\nLevel':'Highest Qualification Level'}, inplace=True)"
   ]
  },
  {
   "cell_type": "code",
   "execution_count": 43,
   "id": "35824297",
   "metadata": {},
   "outputs": [
    {
     "data": {
      "text/plain": [
       "Masters                                                                     157\n",
       "Doctorate                                                                    52\n",
       "Ph.D                                                                         43\n",
       "Bachelor                                                                     12\n",
       "Masters (Business Administration), Master of Philosophy (Business)            1\n",
       " Doctorate of Business Administration                                         1\n",
       " Ph. D. (Business Administration)                                             1\n",
       "Maters of Philosophy (Economics)                                              1\n",
       "Master's Degree in Public Relations and Press Office Management               1\n",
       "PhD Corporate Governance and Accounting                                       1\n",
       "Master of Business Administration (MBA) and MA (Economics)                    1\n",
       "Bachelor (Applied Science) in Business administration( Human Resources )      1\n",
       "Ph.D in Organization and Management                                           1\n",
       "Master of International Business                                              1\n",
       "MBA                                                                           1\n",
       "Doctor of Jurisprudence Degree                                                1\n",
       "MBA in Banking & Finance                                                      1\n",
       "Ph.D (Economics)                                                              1\n",
       "Name: Highest Qualification Level, dtype: int64"
      ]
     },
     "execution_count": 43,
     "metadata": {},
     "output_type": "execute_result"
    }
   ],
   "source": [
    "# Check values for Highest Qualification Level\n",
    "sis['Highest Qualification Level'].value_counts()"
   ]
  },
  {
   "cell_type": "markdown",
   "id": "5c5c700f",
   "metadata": {},
   "source": [
    "* Highest Qualification Level has too many inconsistent data categories\n",
    "* This column should only represent the qualification level, not the area of study\n",
    "* Simplify this into 3 groups: Bachelor, Masters, Doctorate"
   ]
  },
  {
   "cell_type": "code",
   "execution_count": 44,
   "id": "094b20c4",
   "metadata": {},
   "outputs": [],
   "source": [
    "hql = sis['Highest Qualification Level']\n",
    "\n",
    "hql.mask(hql.str.contains('Doctor', case=False) == True, 'Doctorate', inplace=True)\n",
    "hql.mask(hql.str.contains('Ph.D', case=False) == True, 'Doctorate', inplace=True)\n",
    "hql.mask(hql.str.contains('Ph. D', case=False) == True, 'Doctorate', inplace=True)\n",
    "hql.mask(hql.str.contains('PhD', case=False) == True, 'Doctorate', inplace=True)\n",
    "hql.mask(hql.str.contains('Master', case=False) == True, 'Masters', inplace=True)\n",
    "hql.mask(hql.str.contains('Mater', case=False) == True, 'Masters', inplace=True)\n",
    "hql.mask(hql.str.contains('MBA', case=False) == True, 'Masters', inplace=True)\n",
    "hql.mask(hql.str.contains('Bach', case=False) == True, 'Bachelor', inplace=True)"
   ]
  },
  {
   "cell_type": "code",
   "execution_count": 45,
   "id": "6e70fe5e",
   "metadata": {},
   "outputs": [
    {
     "data": {
      "text/plain": [
       "Masters      164\n",
       "Doctorate    101\n",
       "Bachelor      13\n",
       "Name: Highest Qualification Level, dtype: int64"
      ]
     },
     "execution_count": 45,
     "metadata": {},
     "output_type": "execute_result"
    }
   ],
   "source": [
    "hql.value_counts()"
   ]
  },
  {
   "cell_type": "code",
   "execution_count": 46,
   "id": "f9d7ec88",
   "metadata": {},
   "outputs": [],
   "source": [
    "sis['Highest Qualification Level'] = hql"
   ]
  },
  {
   "cell_type": "code",
   "execution_count": 47,
   "id": "ad3bc048",
   "metadata": {},
   "outputs": [
    {
     "data": {
      "text/plain": [
       "Master of Business Administrat                                              73\n",
       "Ph.D                                                                        63\n",
       "Master of Science                                                           18\n",
       "Masters                                                                     17\n",
       "Master of Commerce                                                           9\n",
       "Bachelor of Applied Science                                                  9\n",
       "Master of Arts                                                               7\n",
       "Doctorate                                                                    7\n",
       "Ph.D in Business Administration                                              7\n",
       "Executive MBA                                                                5\n",
       "Doctorate in Philosophy                                                      4\n",
       "Master of Philosophy                                                         4\n",
       "Master of Management                                                         3\n",
       "Master of Law                                                                2\n",
       "Master of Business                                                           2\n",
       "MBA                                                                          2\n",
       "MA in International Business                                                 2\n",
       "Master of Education                                                          2\n",
       "Ph.D in Economics                                                            2\n",
       "Masters of Distance Education                                                1\n",
       "International Business &Market                                               1\n",
       "Management Science                                                           1\n",
       "Master of Business Administration (MBA) and MA (Economics)                   1\n",
       "Master of Professional Studies                                               1\n",
       "Mast of Applied Finance                                                      1\n",
       "Ph.D in Education                                                            1\n",
       "Bachelor (Applied Science) in Business administration( Human Resources )     1\n",
       "Ph.D In Middle eastern and Islamic Studies                                   1\n",
       "Economics and Business                                                       1\n",
       "Bachelor                                                                     1\n",
       "Bachelor of Business Admin.                                                  1\n",
       "Master of Education Technology                                               1\n",
       "Masters (Business Administration), Master of Philosophy (Business)           1\n",
       "MA in Teaching                                                               1\n",
       "Ph.D in Business Management                                                  1\n",
       "Master's Degree in Public Relations and Press Office Management              1\n",
       "Maters of Philosophy (Economics)                                             1\n",
       "Master of Strategic HR mgmt.                                                 1\n",
       "Ph.D In Economics                                                            1\n",
       "Bachelor of Science                                                          1\n",
       "Master of International Business                                             1\n",
       "Ph.D in HRM/ Organizational pyschology                                       1\n",
       "Ph.D in Economics and International Business                                 1\n",
       "Doctorate in Business Admin                                                  1\n",
       "Masters in Quality Management                                                1\n",
       "Doctorate in Marketing                                                       1\n",
       "Masters in Engineering                                                       1\n",
       "PhD in Business Administration                                               1\n",
       "PhD In Economic Sciences                                                     1\n",
       "Ph.D In education and Human Resources Studies                                1\n",
       "Master of Marketing                                                          1\n",
       "MA in Accounting                                                             1\n",
       "Ph.D in Accounting                                                           1\n",
       "Ph.D in Management Sciences                                                  1\n",
       "Ph.D in Management                                                           1\n",
       "Master of                                                                    1\n",
       "MA International Business                                                    1\n",
       "Ph.D In Accounting                                                           1\n",
       "Ph.D in Public Policy and Administration                                     1\n",
       "Name: Highest Qualification, dtype: int64"
      ]
     },
     "execution_count": 47,
     "metadata": {},
     "output_type": "execute_result"
    }
   ],
   "source": [
    "# Inspect Highest Qualification Column\n",
    "sis['Highest Qualification'].value_counts()"
   ]
  },
  {
   "cell_type": "markdown",
   "id": "2a1c411f",
   "metadata": {},
   "source": [
    "* Highest Qualification is a lower level of detail to Highest Qualification Level\n",
    "* Keep this column but update records to associated UK qualification codes for consistency"
   ]
  },
  {
   "cell_type": "code",
   "execution_count": 48,
   "id": "223862c9",
   "metadata": {},
   "outputs": [],
   "source": [
    "# First update any Doctorate level records to Ph.D\n",
    "hq = sis['Highest Qualification']\n",
    "\n",
    "hq.mask(hq.str.contains('Ph', case=False) == True, 'Ph.D', inplace=True)\n",
    "hq.mask(hq.str.contains('Doctorate', case=False) == True, 'Ph.D', inplace=True)"
   ]
  },
  {
   "cell_type": "markdown",
   "id": "7f88dcb5",
   "metadata": {},
   "source": [
    "### Qualification abbreviations can easily be sourced online. I will use these abbreviations to populate the Highest Qualification column\n",
    "\n",
    "### Bachelor's Degree\n",
    "* Bachelor of Arts (BA)\n",
    "* Bachelor of Science (BSc)\n",
    "* Bachelor of Education (BEd)\n",
    "* Bachelor of Engineering (BEng)\n",
    "* Bachelor of Laws (LLB)\n",
    "* Bachelor of Medicine, Bachelor of Surgery (MB ChB)\n",
    "* Bachelor of Business Administration (BBA)\n",
    "\n",
    "### Master's Degree\n",
    "* Master of Arts (MA)\n",
    "* Master of Science (MSc)\n",
    "* Master of Education (MEd)\n",
    "* Master of Research (MRes)\n",
    "* Master of Philosophy (MPhil)\n",
    "* Master of Business Administration (MBA)\n",
    "* Master's Degree in Law (LLM)\n",
    "* Master's of Commerce (MCom)\n",
    "* Master's in Public Relations (MPR)\n",
    "* Master's in Finance (MFin)\n",
    "* Marketing related (MMkt)\n",
    "* Master of Professional Studies (MPS)"
   ]
  },
  {
   "cell_type": "code",
   "execution_count": 49,
   "id": "47ea5366",
   "metadata": {},
   "outputs": [],
   "source": [
    "hq.mask(hq.str.contains('Master of Business') == True, 'MBA', inplace=True)\n",
    "hq.mask(hq.str.contains('Master of International Business') == True, 'MBA', inplace=True)\n",
    "hq.mask(hq.str.contains('Master of Science') == True, 'MSc', inplace=True)\n",
    "hq.mask(hq.str.contains('Engineering') == True, 'MSc', inplace=True)\n",
    "hq.mask(hq.str.contains('Management Science') == True, 'MSc', inplace=True)\n",
    "hq.mask(hq.str.contains('Strategic HR') == True, 'MSc', inplace=True)\n",
    "hq.mask(hq.str.contains('Quality Management') == True, 'MSc', inplace=True)\n",
    "hq.mask(hq.str.contains('Master of Commerce') == True, 'MCom', inplace=True)\n",
    "hq.mask(hq.str.contains('Master of Arts') == True, 'MA', inplace=True)\n",
    "hq.mask(hq.str.contains('MBA') == True, 'MBA', inplace=True)\n",
    "hq.mask(hq.str.contains('MA') == True, 'MA', inplace=True)\n",
    "hq.mask(hq.str.contains('Philosophy') == True, 'MPhil', inplace=True)\n",
    "hq.mask(hq.str.contains('Master of Management') == True, 'MMgt', inplace=True)\n",
    "hq.mask(hq.str.contains('Education') == True, 'MEd', inplace=True)\n",
    "hq.mask(hq.str.contains('Master of Law') == True, 'LLM', inplace=True)\n",
    "hq.mask(hq.str.contains('Public Relations') == True, 'MPR', inplace=True)\n",
    "hq.mask(hq.str.contains('Finance') == True, 'MFin', inplace=True)\n",
    "hq.mask(hq.str.contains('Market') == True, 'MMkt', inplace=True)\n",
    "hq.mask(hq.str.contains('Professional') == True, 'MPS', inplace=True)"
   ]
  },
  {
   "cell_type": "code",
   "execution_count": 50,
   "id": "b8616622",
   "metadata": {},
   "outputs": [],
   "source": [
    "hq.mask(hq.str.contains('Applied Science') == True, 'BSc', inplace=True)\n",
    "hq.mask(hq.str.contains('Bachelor of Science') == True, 'BSc', inplace=True)\n",
    "hq.mask(hq.str.contains('Bachelor of Business Admin') == True, 'BSc', inplace=True)"
   ]
  },
  {
   "cell_type": "code",
   "execution_count": 51,
   "id": "f74a26dc",
   "metadata": {},
   "outputs": [
    {
     "data": {
      "text/plain": [
       "Ph.D                      105\n",
       "MBA                        84\n",
       "MSc                        22\n",
       "Masters                    17\n",
       "MA                         12\n",
       "BSc                        12\n",
       "MCom                        9\n",
       "MEd                         4\n",
       "MMgt                        3\n",
       "LLM                         2\n",
       "MMkt                        2\n",
       "Master of                   1\n",
       "MPS                         1\n",
       "MFin                        1\n",
       "Bachelor                    1\n",
       "MPR                         1\n",
       "Economics and Business      1\n",
       "Name: Highest Qualification, dtype: int64"
      ]
     },
     "execution_count": 51,
     "metadata": {},
     "output_type": "execute_result"
    }
   ],
   "source": [
    "hq.value_counts()"
   ]
  },
  {
   "cell_type": "markdown",
   "id": "1b8937e9",
   "metadata": {},
   "source": [
    "* 'Masters', 'Master of' do not have subject info. Use 'All Qualifications From Profile' to update these values\n",
    "* Replace 'Bachelor' with 'BSc'\n",
    "* Economics and Business' is best replaced with 'MSc'. This is the most common similar value.\n"
   ]
  },
  {
   "cell_type": "code",
   "execution_count": 52,
   "id": "4cbb9204",
   "metadata": {},
   "outputs": [],
   "source": [
    "hq.mask(hq.str.contains('Economics') == True, 'MSc', inplace=True)\n",
    "hq.mask(hq.str.contains('Bach') == True, 'BSc', inplace=True)"
   ]
  },
  {
   "cell_type": "code",
   "execution_count": 53,
   "id": "078dbe19",
   "metadata": {},
   "outputs": [],
   "source": [
    "sis['Highest Qualification'] = hq"
   ]
  },
  {
   "cell_type": "code",
   "execution_count": 54,
   "id": "81f25121",
   "metadata": {},
   "outputs": [
    {
     "data": {
      "text/html": [
       "<div>\n",
       "<style scoped>\n",
       "    .dataframe tbody tr th:only-of-type {\n",
       "        vertical-align: middle;\n",
       "    }\n",
       "\n",
       "    .dataframe tbody tr th {\n",
       "        vertical-align: top;\n",
       "    }\n",
       "\n",
       "    .dataframe thead th {\n",
       "        text-align: right;\n",
       "    }\n",
       "</style>\n",
       "<table border=\"1\" class=\"dataframe\">\n",
       "  <thead>\n",
       "    <tr style=\"text-align: right;\">\n",
       "      <th></th>\n",
       "      <th>Highest Qualification</th>\n",
       "      <th>All Qualifications from Profile</th>\n",
       "    </tr>\n",
       "  </thead>\n",
       "  <tbody>\n",
       "    <tr>\n",
       "      <th>6</th>\n",
       "      <td>Masters</td>\n",
       "      <td>Bachelor (Accounting &amp; Finance), Masters (Health Administration), Post Degree Certificate (Finance), Post Graduate Certificate (Accounting &amp; Finance), Post Degree Certificate (Training &amp; HR Management)</td>\n",
       "    </tr>\n",
       "    <tr>\n",
       "      <th>8</th>\n",
       "      <td>Masters</td>\n",
       "      <td>Masters (Business), Bachelor (Hotel Management), Certificate (Training &amp; Assessment Systems)</td>\n",
       "    </tr>\n",
       "    <tr>\n",
       "      <th>18</th>\n",
       "      <td>Masters</td>\n",
       "      <td>Masters (Business Education)</td>\n",
       "    </tr>\n",
       "    <tr>\n",
       "      <th>22</th>\n",
       "      <td>Masters</td>\n",
       "      <td>Bachelor (Commerce), Masters (Human Resource Management), Masters (Marketing)</td>\n",
       "    </tr>\n",
       "    <tr>\n",
       "      <th>30</th>\n",
       "      <td>Masters</td>\n",
       "      <td>Bachelor (Educational Studies), Certificate (Educational Studies), Masters (International Business), Post Graduate Diploma (Executive Human Resources Mgt)</td>\n",
       "    </tr>\n",
       "    <tr>\n",
       "      <th>36</th>\n",
       "      <td>Masters</td>\n",
       "      <td>Masters (International Marketing), Bachelor (Business)</td>\n",
       "    </tr>\n",
       "    <tr>\n",
       "      <th>65</th>\n",
       "      <td>Masters</td>\n",
       "      <td>Graduate Diploma (Education), Certificate (Training &amp; Assessment Systems), Bachelor of Business (Marketing), Masters (Intl Law and Intl Relations)</td>\n",
       "    </tr>\n",
       "    <tr>\n",
       "      <th>84</th>\n",
       "      <td>Masters</td>\n",
       "      <td>Bachelor (Economics), Post Graduate Diploma (Transportation Management), Masters (Finance), Masters (Logistics Engineering)</td>\n",
       "    </tr>\n",
       "    <tr>\n",
       "      <th>95</th>\n",
       "      <td>Masters</td>\n",
       "      <td>Masters (Accounting &amp; Finance), Bachelor (Business Administration), Certificate (Educational Studies)</td>\n",
       "    </tr>\n",
       "    <tr>\n",
       "      <th>125</th>\n",
       "      <td>Masters</td>\n",
       "      <td>Masters (), Bachelor (Business Administration)</td>\n",
       "    </tr>\n",
       "    <tr>\n",
       "      <th>131</th>\n",
       "      <td>Masters</td>\n",
       "      <td>Bachelor (Hotel Restaurant Tourism Admin), Masters (Hospitality Management)</td>\n",
       "    </tr>\n",
       "    <tr>\n",
       "      <th>146</th>\n",
       "      <td>Masters</td>\n",
       "      <td>Diploma (Early Childhood Education), Graduate Diploma (Second Language Teaching), Masters (Applied  Linguistics), Master of Science (Training &amp; Performance Mgt.), Bachelor of Education (Asian Studies)</td>\n",
       "    </tr>\n",
       "    <tr>\n",
       "      <th>158</th>\n",
       "      <td>Masters</td>\n",
       "      <td>Bachelor of Arts (Politics and Government), Juris Doctor (Law), Masters (International Management)</td>\n",
       "    </tr>\n",
       "    <tr>\n",
       "      <th>162</th>\n",
       "      <td>Masters</td>\n",
       "      <td>Bachelor of Applied Science (Business Information Tech), Masters (Quality Management), Higher Diploma (Business Information Tech)</td>\n",
       "    </tr>\n",
       "    <tr>\n",
       "      <th>167</th>\n",
       "      <td>Masters</td>\n",
       "      <td>Masters (Business Administration), Bachelor (Management Information System)</td>\n",
       "    </tr>\n",
       "    <tr>\n",
       "      <th>207</th>\n",
       "      <td>Masters</td>\n",
       "      <td>Masters (Global Human Resource Mngt), Masters (Commerce)</td>\n",
       "    </tr>\n",
       "    <tr>\n",
       "      <th>244</th>\n",
       "      <td>Masters</td>\n",
       "      <td>Post Graduate Diploma (Legal Studies), Masters (Law)</td>\n",
       "    </tr>\n",
       "  </tbody>\n",
       "</table>\n",
       "</div>"
      ],
      "text/plain": [
       "    Highest Qualification  \\\n",
       "6                 Masters   \n",
       "8                 Masters   \n",
       "18                Masters   \n",
       "22                Masters   \n",
       "30                Masters   \n",
       "36                Masters   \n",
       "65                Masters   \n",
       "84                Masters   \n",
       "95                Masters   \n",
       "125               Masters   \n",
       "131               Masters   \n",
       "146               Masters   \n",
       "158               Masters   \n",
       "162               Masters   \n",
       "167               Masters   \n",
       "207               Masters   \n",
       "244               Masters   \n",
       "\n",
       "                                                                                                                                                                               All Qualifications from Profile  \n",
       "6    Bachelor (Accounting & Finance), Masters (Health Administration), Post Degree Certificate (Finance), Post Graduate Certificate (Accounting & Finance), Post Degree Certificate (Training & HR Management)  \n",
       "8                                                                                                                 Masters (Business), Bachelor (Hotel Management), Certificate (Training & Assessment Systems)  \n",
       "18                                                                                                                                                                                Masters (Business Education)  \n",
       "22                                                                                                                               Bachelor (Commerce), Masters (Human Resource Management), Masters (Marketing)  \n",
       "30                                                  Bachelor (Educational Studies), Certificate (Educational Studies), Masters (International Business), Post Graduate Diploma (Executive Human Resources Mgt)  \n",
       "36                                                                                                                                                      Masters (International Marketing), Bachelor (Business)  \n",
       "65                                                          Graduate Diploma (Education), Certificate (Training & Assessment Systems), Bachelor of Business (Marketing), Masters (Intl Law and Intl Relations)  \n",
       "84                                                                                 Bachelor (Economics), Post Graduate Diploma (Transportation Management), Masters (Finance), Masters (Logistics Engineering)  \n",
       "95                                                                                                       Masters (Accounting & Finance), Bachelor (Business Administration), Certificate (Educational Studies)  \n",
       "125                                                                                                                                                             Masters (), Bachelor (Business Administration)  \n",
       "131                                                                                                                                Bachelor (Hotel Restaurant Tourism Admin), Masters (Hospitality Management)  \n",
       "146   Diploma (Early Childhood Education), Graduate Diploma (Second Language Teaching), Masters (Applied  Linguistics), Master of Science (Training & Performance Mgt.), Bachelor of Education (Asian Studies)  \n",
       "158                                                                                                         Bachelor of Arts (Politics and Government), Juris Doctor (Law), Masters (International Management)  \n",
       "162                                                                          Bachelor of Applied Science (Business Information Tech), Masters (Quality Management), Higher Diploma (Business Information Tech)  \n",
       "167                                                                                                                                Masters (Business Administration), Bachelor (Management Information System)  \n",
       "207                                                                                                                                                   Masters (Global Human Resource Mngt), Masters (Commerce)  \n",
       "244                                                                                                                                                       Post Graduate Diploma (Legal Studies), Masters (Law)  "
      ]
     },
     "execution_count": 54,
     "metadata": {},
     "output_type": "execute_result"
    }
   ],
   "source": [
    "pd.set_option('display.max_colwidth', None)\n",
    "qualifications = sis[['Highest Qualification', 'All Qualifications from Profile']]\n",
    "qualifications[qualifications['Highest Qualification']=='Masters']"
   ]
  },
  {
   "cell_type": "markdown",
   "id": "b6250326",
   "metadata": {},
   "source": [
    "The required info is in the 'All Qualifications From Profile' column. Use this to impute conistent value into the 'Highest Qualification' column"
   ]
  },
  {
   "cell_type": "code",
   "execution_count": 55,
   "id": "04f3537b",
   "metadata": {},
   "outputs": [],
   "source": [
    "sis.at[6,'Highest Qualification']= 'MSc'\n",
    "sis.at[8,'Highest Qualification']= 'MBA'\n",
    "sis.at[18,'Highest Qualification']= 'MBA'\n",
    "sis.at[22,'Highest Qualification']= 'MBA'\n",
    "sis.at[30,'Highest Qualification']= 'MSc'\n",
    "sis.at[36,'Highest Qualification']= 'MMkt'\n",
    "sis.at[65,'Highest Qualification']= 'LLM'\n",
    "sis.at[84,'Highest Qualification']= 'MFin'\n",
    "sis.at[95,'Highest Qualification']= 'MFin'\n",
    "sis.at[125,'Highest Qualification']= 'MBA' # Decision based on Bachelor's being in Business Administration\n",
    "sis.at[131,'Highest Qualification']= 'MSc'\n",
    "sis.at[146,'Highest Qualification']= 'MSc'\n",
    "sis.at[158,'Highest Qualification']= 'MSc'\n",
    "sis.at[162,'Highest Qualification']= 'MSc'\n",
    "sis.at[167,'Highest Qualification']= 'MBA'\n",
    "sis.at[207,'Highest Qualification']= 'MSc'\n",
    "sis.at[244,'Highest Qualification']= 'LLM'"
   ]
  },
  {
   "cell_type": "markdown",
   "id": "f3e3b683",
   "metadata": {},
   "source": [
    "Now analyse low frequency values and categorise these as 'Other'."
   ]
  },
  {
   "cell_type": "code",
   "execution_count": 56,
   "id": "0826ae67",
   "metadata": {},
   "outputs": [],
   "source": [
    "hq_freq = sis['Highest Qualification'].value_counts()/len(sis)"
   ]
  },
  {
   "cell_type": "code",
   "execution_count": 57,
   "id": "9409bcfb",
   "metadata": {},
   "outputs": [
    {
     "data": {
      "image/png": "[encoded data removed]",
      "text/plain": [
       "<Figure size 1080x720 with 1 Axes>"
      ]
     },
     "metadata": {
      "needs_background": "light"
     },
     "output_type": "display_data"
    }
   ],
   "source": [
    "# I will use 5% as the threshold\n",
    "fig = hq_freq.sort_values(ascending=False).plot.barh(figsize=(15,10))\n",
    "fig.axvline(x=0.05, color='red')\n",
    "fig.set_xlabel('% Frequency of Qualifications')\n",
    "fig.set_ylabel('Highest Qualification')\n",
    "fig.set_title('Low hq_freq Identification')\n",
    "plt.show()"
   ]
  },
  {
   "cell_type": "markdown",
   "id": "de21f26d",
   "metadata": {},
   "source": [
    "5% threshold may be too high in this instance as Bachelors has been excluded. Amend threshold to 3%."
   ]
  },
  {
   "cell_type": "code",
   "execution_count": 58,
   "id": "2c112251",
   "metadata": {},
   "outputs": [
    {
     "data": {
      "image/png": "[encoded data removed]",
      "text/plain": [
       "<Figure size 1080x720 with 1 Axes>"
      ]
     },
     "metadata": {
      "needs_background": "light"
     },
     "output_type": "display_data"
    }
   ],
   "source": [
    "fig = hq_freq.sort_values(ascending=False).plot.barh(figsize=(15,10))\n",
    "fig.axvline(x=0.04, color='red')\n",
    "fig.set_xlabel('% Frequency of Qualifications')\n",
    "fig.set_ylabel('Highest Qualification')\n",
    "fig.set_title('Low hq_freq Identification')\n",
    "plt.show()"
   ]
  },
  {
   "cell_type": "code",
   "execution_count": 59,
   "id": "da3c92fd",
   "metadata": {},
   "outputs": [
    {
     "data": {
      "text/plain": [
       "Ph.D         105\n",
       "MBA           89\n",
       "MSc           30\n",
       "BSc           13\n",
       "MA            12\n",
       "MCom           9\n",
       "LLM            4\n",
       "MEd            4\n",
       "MMkt           3\n",
       "MMgt           3\n",
       "MFin           3\n",
       "Master of      1\n",
       "MPS            1\n",
       "MPR            1\n",
       "Name: Highest Qualification, dtype: int64"
      ]
     },
     "execution_count": 59,
     "metadata": {},
     "output_type": "execute_result"
    }
   ],
   "source": [
    "# Group any values below 3% threshold as 'Other'\n",
    "sis['Highest Qualification'].value_counts()"
   ]
  },
  {
   "cell_type": "code",
   "execution_count": 60,
   "id": "39ec3321",
   "metadata": {},
   "outputs": [],
   "source": [
    "low_freq_hq = sis['Highest Qualification'].value_counts()[sis['Highest Qualification'].value_counts() <= 10].index\n",
    "sis['Highest Qualification'].replace(low_freq_hq, 'Other', inplace=True)"
   ]
  },
  {
   "cell_type": "code",
   "execution_count": 61,
   "id": "a9dd1775",
   "metadata": {},
   "outputs": [
    {
     "data": {
      "text/plain": [
       "Ph.D     105\n",
       "MBA       89\n",
       "MSc       30\n",
       "Other     29\n",
       "BSc       13\n",
       "MA        12\n",
       "Name: Highest Qualification, dtype: int64"
      ]
     },
     "execution_count": 61,
     "metadata": {},
     "output_type": "execute_result"
    }
   ],
   "source": [
    "sis['Highest Qualification'].value_counts()"
   ]
  },
  {
   "cell_type": "code",
   "execution_count": 62,
   "id": "e2d7d347",
   "metadata": {},
   "outputs": [
    {
     "data": {
      "text/plain": [
       "Business Administration         45\n",
       "Management                      22\n",
       "Economics                        9\n",
       "Marketing                        8\n",
       "Business                         8\n",
       "                                ..\n",
       "Intl Law and Intl Relations      1\n",
       "European Business Studies        1\n",
       "Taxation                         1\n",
       "HRM and Strategic Mgt            1\n",
       "Management and Financial Mgt     1\n",
       "Name: Major, Length: 115, dtype: int64"
      ]
     },
     "execution_count": 62,
     "metadata": {},
     "output_type": "execute_result"
    }
   ],
   "source": [
    "# Inspect 'Major' column\n",
    "sis['Major'].value_counts()"
   ]
  },
  {
   "cell_type": "markdown",
   "id": "819a520d",
   "metadata": {},
   "source": [
    "* There are too many unique values. To be useful, 'Major' needs to have fewer unique values. \n",
    "* Many of these values are single occurences. I will visualise values based on their frequecy until I find some consistency"
   ]
  },
  {
   "cell_type": "code",
   "execution_count": 63,
   "id": "457b8ebf",
   "metadata": {},
   "outputs": [
    {
     "data": {
      "text/plain": [
       "<AxesSubplot:>"
      ]
     },
     "execution_count": 63,
     "metadata": {},
     "output_type": "execute_result"
    },
    {
     "data": {
      "image/png": "[encoded data removed]",
      "text/plain": [
       "<Figure size 720x576 with 1 Axes>"
      ]
     },
     "metadata": {
      "needs_background": "light"
     },
     "output_type": "display_data"
    }
   ],
   "source": [
    "sis['Major'][sis.groupby('Major')['Major'].transform('size') > 6].value_counts().plot(kind='barh', figsize=(10,8))"
   ]
  },
  {
   "cell_type": "markdown",
   "id": "a345dfa1",
   "metadata": {},
   "source": [
    "Values with a frequency greater than 6 is visualised above. I will use this to group 'Major' into much fewer categories."
   ]
  },
  {
   "cell_type": "code",
   "execution_count": 64,
   "id": "58414e18",
   "metadata": {},
   "outputs": [],
   "source": [
    "# Use the 'string contains' method to group similar majors into the above categories\n",
    "ma = sis['Major']\n",
    "\n",
    "ma.mask(ma.str.contains('Business') == True, 'Business Administration', inplace=True)\n",
    "ma.mask(ma.str.contains('Management') == True, 'Management', inplace=True)\n",
    "ma.mask(ma.str.contains('HRM') == True, 'Management', inplace=True)\n",
    "ma.mask(ma.str.contains('Mgt') == True, 'Management', inplace=True)\n",
    "ma.mask(ma.str.contains('Mgmt') == True, 'Management', inplace=True)\n",
    "ma.mask(ma.str.contains('Mngt') == True, 'Management', inplace=True)\n",
    "ma.mask(ma.str.contains('Economics') == True, 'Economics', inplace=True)\n",
    "ma.mask(ma.str.contains('Market') == True, 'Marketing', inplace=True)\n",
    "ma.mask(ma.str.contains('Comm') == True, 'Marketing', inplace=True)\n",
    "ma.mask(ma.str.contains('Financ') == True, 'Finance', inplace=True)\n",
    "ma.mask(ma.str.contains('Bank') == True, 'Finance', inplace=True)\n",
    "ma.mask(ma.str.contains('Account') == True, 'Finance', inplace=True)\n",
    "ma.mask(ma.str.contains('Edu') == True, 'Education', inplace=True)\n",
    "ma.mask(ma.str.contains('eaching') == True, 'Education', inplace=True)"
   ]
  },
  {
   "cell_type": "code",
   "execution_count": 65,
   "id": "5bde242b",
   "metadata": {},
   "outputs": [
    {
     "data": {
      "text/plain": [
       "Business Administration           85\n",
       "Management                        75\n",
       "Finance                           26\n",
       "Marketing                         20\n",
       "Economics                         15\n",
       "Education                          9\n",
       "Executive MBA                      2\n",
       "Law                                2\n",
       "International Affairs              1\n",
       "International Administration       1\n",
       "Interdisciplinary Studies          1\n",
       "Applied  Linguistics               1\n",
       "Organization And Leadership        1\n",
       "Engineering                        1\n",
       "Information Technology             1\n",
       "Organizational Excellence          1\n",
       "Integrtd Textile & Apparel Sci     1\n",
       "Statistics                         1\n",
       "Social Science                     1\n",
       "Occupational Psychology            1\n",
       "HRD                                1\n",
       "Instructional Technology           1\n",
       "Operational Research               1\n",
       "TESOL                              1\n",
       "Criminology & Criminal Justice     1\n",
       "Human Resource Development         1\n",
       "Internal Auditing                  1\n",
       "Logistics Engineering              1\n",
       "Intl Law and Intl Relations        1\n",
       "Taxation                           1\n",
       "Professional Studies               1\n",
       "Psychology                         1\n",
       "Public Administration              1\n",
       "Public Admin & Public Policy       1\n",
       "Health Administration              1\n",
       "Economic Sociology                 1\n",
       "Name: Major, dtype: int64"
      ]
     },
     "execution_count": 65,
     "metadata": {},
     "output_type": "execute_result"
    }
   ],
   "source": [
    "ma.value_counts()"
   ]
  },
  {
   "cell_type": "markdown",
   "id": "c48f66d3",
   "metadata": {},
   "source": [
    "Anything with a count below 9, I will categorise as 'Other'"
   ]
  },
  {
   "cell_type": "code",
   "execution_count": 66,
   "id": "418b4d05",
   "metadata": {},
   "outputs": [],
   "source": [
    "sis['Major'] = ma\n",
    "\n",
    "# List top 6 categories\n",
    "ma_top6 = sis.groupby('Major').Major.count().nlargest(6).index\n",
    "\n",
    "# Categorise anything outside the top 5 as 'Other'\n",
    "sis['Major'] = sis.Major.where(sis.Major.isin(ma_top6), other='Other')"
   ]
  },
  {
   "cell_type": "code",
   "execution_count": 67,
   "id": "630cb4b4",
   "metadata": {},
   "outputs": [
    {
     "data": {
      "text/plain": [
       "Business Administration    85\n",
       "Management                 75\n",
       "Other                      54\n",
       "Finance                    26\n",
       "Marketing                  20\n",
       "Economics                  15\n",
       "Education                   9\n",
       "Name: Major, dtype: int64"
      ]
     },
     "execution_count": 67,
     "metadata": {},
     "output_type": "execute_result"
    }
   ],
   "source": [
    "sis['Major'].value_counts()"
   ]
  },
  {
   "cell_type": "markdown",
   "id": "4f571abe",
   "metadata": {},
   "source": [
    "I will also group together 'Finance' and 'Economics' as these are close enough to be a single category"
   ]
  },
  {
   "cell_type": "code",
   "execution_count": 68,
   "id": "27a3318d",
   "metadata": {},
   "outputs": [],
   "source": [
    "sis['Major'].mask(sis['Major'].str.contains('Economics') == True, 'Finance', inplace=True)"
   ]
  },
  {
   "cell_type": "code",
   "execution_count": 69,
   "id": "3b8e4c9b",
   "metadata": {},
   "outputs": [
    {
     "data": {
      "text/plain": [
       "Business Administration    85\n",
       "Management                 75\n",
       "Other                      54\n",
       "Finance                    41\n",
       "Marketing                  20\n",
       "Education                   9\n",
       "Name: Major, dtype: int64"
      ]
     },
     "execution_count": 69,
     "metadata": {},
     "output_type": "execute_result"
    }
   ],
   "source": [
    "sis['Major'].value_counts()"
   ]
  },
  {
   "cell_type": "code",
   "execution_count": 70,
   "id": "5ee98f62",
   "metadata": {},
   "outputs": [
    {
     "data": {
      "text/plain": [
       "0"
      ]
     },
     "execution_count": 70,
     "metadata": {},
     "output_type": "execute_result"
    }
   ],
   "source": [
    "sis['Major'].isnull().sum()"
   ]
  },
  {
   "cell_type": "code",
   "execution_count": 71,
   "id": "71027644",
   "metadata": {},
   "outputs": [
    {
     "data": {
      "text/plain": [
       "University of Wollongong                  8\n",
       "University of Madras                      5\n",
       "Swiss Management Center                   5\n",
       "University of Leicester                   5\n",
       "Harvard University                        4\n",
       "                                         ..\n",
       "Glasgow Caledonian University             1\n",
       "Vilnius University                        1\n",
       "St. Joseph's University                   1\n",
       "Milano Graduate School of Mang            1\n",
       "Virginia Commonwealth University, USA     1\n",
       "Name: University, Length: 214, dtype: int64"
      ]
     },
     "execution_count": 71,
     "metadata": {},
     "output_type": "execute_result"
    }
   ],
   "source": [
    "# Inspect 'University' column\n",
    "sis['University'].value_counts()"
   ]
  },
  {
   "cell_type": "markdown",
   "id": "822ca6f4",
   "metadata": {},
   "source": [
    "Cardinality is far too high in this column for a ML model. As there are so many unique Universities, I believe this feature cannot be used as a predictor variable. Therefore, drop this column."
   ]
  },
  {
   "cell_type": "code",
   "execution_count": 72,
   "id": "8d8f9728",
   "metadata": {},
   "outputs": [],
   "source": [
    "sis.drop('University', axis=1, inplace=True)"
   ]
  },
  {
   "cell_type": "code",
   "execution_count": 73,
   "id": "ae4913f1",
   "metadata": {},
   "outputs": [
    {
     "data": {
      "text/html": [
       "<div>\n",
       "<style scoped>\n",
       "    .dataframe tbody tr th:only-of-type {\n",
       "        vertical-align: middle;\n",
       "    }\n",
       "\n",
       "    .dataframe tbody tr th {\n",
       "        vertical-align: top;\n",
       "    }\n",
       "\n",
       "    .dataframe thead th {\n",
       "        text-align: right;\n",
       "    }\n",
       "</style>\n",
       "<table border=\"1\" class=\"dataframe\">\n",
       "  <thead>\n",
       "    <tr style=\"text-align: right;\">\n",
       "      <th></th>\n",
       "      <th>Location</th>\n",
       "      <th>Title</th>\n",
       "      <th>Join Date</th>\n",
       "      <th>Reports To</th>\n",
       "      <th>Highest Qualification Level</th>\n",
       "      <th>Highest Qualification</th>\n",
       "      <th>Major</th>\n",
       "      <th>All Qualifications from Profile</th>\n",
       "      <th>Courses Taught- Term 201510</th>\n",
       "      <th>MAJOR TEACHING FIELD</th>\n",
       "      <th>DOCUMENT OTHER PROFESSIONAL CERTIFICATION CRITIERA Five Years Work Experience Teaching Excellence Professional Certifications</th>\n",
       "      <th>Criteria</th>\n",
       "    </tr>\n",
       "  </thead>\n",
       "  <tbody>\n",
       "    <tr>\n",
       "      <th>0</th>\n",
       "      <td>Liverpool</td>\n",
       "      <td>Business</td>\n",
       "      <td>&lt;2011</td>\n",
       "      <td>Abbas Houda</td>\n",
       "      <td>Masters</td>\n",
       "      <td>MA</td>\n",
       "      <td>Other</td>\n",
       "      <td>Bachelor of Science (Communications), Master of Arts (International Affairs), Master of Business Administrat (Business Administration)</td>\n",
       "      <td>BUS2403 - Innovation &amp; Entrepreneurship\\nBUS2003 - Business and Commercial Law\\nLSG2013 - Globalization, Media &amp; Soc\\nBUS1003 - Management and Leadership</td>\n",
       "      <td>Business Administration</td>\n",
       "      <td>10+ Years Small Business Ownership, 10+ Years SME Consulting, 10+ Years Corporate/Vocational Business Training, 8 Years Teaching Experience</td>\n",
       "      <td>Industry &amp; Teaching experience</td>\n",
       "    </tr>\n",
       "  </tbody>\n",
       "</table>\n",
       "</div>"
      ],
      "text/plain": [
       "    Location     Title Join Date   Reports To Highest Qualification Level  \\\n",
       "0  Liverpool  Business     <2011  Abbas Houda                     Masters   \n",
       "\n",
       "  Highest Qualification  Major  \\\n",
       "0                    MA  Other   \n",
       "\n",
       "                                                                                                          All Qualifications from Profile  \\\n",
       "0  Bachelor of Science (Communications), Master of Arts (International Affairs), Master of Business Administrat (Business Administration)   \n",
       "\n",
       "                                                                                                                                 Courses Taught- Term 201510  \\\n",
       "0  BUS2403 - Innovation & Entrepreneurship\\nBUS2003 - Business and Commercial Law\\nLSG2013 - Globalization, Media & Soc\\nBUS1003 - Management and Leadership   \n",
       "\n",
       "      MAJOR TEACHING FIELD  \\\n",
       "0  Business Administration   \n",
       "\n",
       "                 DOCUMENT OTHER PROFESSIONAL CERTIFICATION CRITIERA Five Years Work Experience Teaching Excellence Professional Certifications  \\\n",
       "0  10+ Years Small Business Ownership, 10+ Years SME Consulting, 10+ Years Corporate/Vocational Business Training, 8 Years Teaching Experience   \n",
       "\n",
       "                         Criteria  \n",
       "0  Industry & Teaching experience  "
      ]
     },
     "execution_count": 73,
     "metadata": {},
     "output_type": "execute_result"
    }
   ],
   "source": [
    "sis.head(1)"
   ]
  },
  {
   "cell_type": "code",
   "execution_count": 74,
   "id": "00b5d445",
   "metadata": {},
   "outputs": [
    {
     "data": {
      "text/plain": [
       "Master of Business Administrat (Business Administration)                                                     7\n",
       "Bachelor of Applied Science (Business Adm (Hum Resources)), Higher Diploma (Business Adm (Hum Resources))    2\n",
       "Bachelor of Commerce (Commerce), Master of Business Administrat (Business Administration)                    2\n",
       "Bachelor(Economics), Masters( Economics)                                                                     2\n",
       "Bachelor of Applied Science (Information Management), Higher Diploma (Info. Admin. Concentration)            2\n",
       "                                                                                                            ..\n",
       "Masters (Finance), Bachelor (Economics)                                                                      1\n",
       "Bachelor(Banking and Monetary Economics), Masters( Banking and Monetary Economics)                           1\n",
       "Bachelor(Accounting), Masters(Accounting & Finance)                                                          1\n",
       "Bachelor(Finance), Masters( MBA)                                                                             1\n",
       "Bachelor( Civil Engineering), Masters(Civil Engineering and MBA)                                             1\n",
       "Name: All Qualifications from Profile, Length: 262, dtype: int64"
      ]
     },
     "execution_count": 74,
     "metadata": {},
     "output_type": "execute_result"
    }
   ],
   "source": [
    "# Inspect 'All Qualifications from Profile'\n",
    "sis['All Qualifications from Profile'].value_counts()"
   ]
  },
  {
   "cell_type": "markdown",
   "id": "c49986f3",
   "metadata": {},
   "source": [
    "## Replace this column with something more useful\n",
    "\n",
    "* 'All Qualifications from Profile' has a large cardinality due to the variance that arises from a list of 'All Qualifications from Profile'. In reality, there will be limited data where people who have studied the exact same qualifications which will make it very difficult for a ML model to identify patterns.\n",
    "* As the previous three columns provide categorical details on highest qualifications and majors studied, this column contains a lot of repeated non-uniform data\n",
    "* To be of any use, I propose changing this column to 'No. of Qualifications'\n",
    "* Commas are typically used to seperate individual qualifications in a list so I will assume the below:\n",
    "* (No. of Qualifications) = (No. of commas in a value) + 1"
   ]
  },
  {
   "cell_type": "code",
   "execution_count": 75,
   "id": "fa2bcd60",
   "metadata": {},
   "outputs": [
    {
     "data": {
      "text/plain": [
       "array([ 2.,  4.,  1.,  3.,  0., nan,  7.,  5., 10.,  6.])"
      ]
     },
     "execution_count": 75,
     "metadata": {},
     "output_type": "execute_result"
    }
   ],
   "source": [
    "sis['All Qualifications from Profile'].str.count(',').unique()"
   ]
  },
  {
   "cell_type": "code",
   "execution_count": 76,
   "id": "80d2faf3",
   "metadata": {},
   "outputs": [
    {
     "data": {
      "text/html": [
       "<div>\n",
       "<style scoped>\n",
       "    .dataframe tbody tr th:only-of-type {\n",
       "        vertical-align: middle;\n",
       "    }\n",
       "\n",
       "    .dataframe tbody tr th {\n",
       "        vertical-align: top;\n",
       "    }\n",
       "\n",
       "    .dataframe thead th {\n",
       "        text-align: right;\n",
       "    }\n",
       "</style>\n",
       "<table border=\"1\" class=\"dataframe\">\n",
       "  <thead>\n",
       "    <tr style=\"text-align: right;\">\n",
       "      <th></th>\n",
       "      <th>Location</th>\n",
       "      <th>Title</th>\n",
       "      <th>Join Date</th>\n",
       "      <th>Reports To</th>\n",
       "      <th>Highest Qualification Level</th>\n",
       "      <th>Highest Qualification</th>\n",
       "      <th>Major</th>\n",
       "      <th>All Qualifications from Profile</th>\n",
       "      <th>Courses Taught- Term 201510</th>\n",
       "      <th>MAJOR TEACHING FIELD</th>\n",
       "      <th>DOCUMENT OTHER PROFESSIONAL CERTIFICATION CRITIERA Five Years Work Experience Teaching Excellence Professional Certifications</th>\n",
       "      <th>Criteria</th>\n",
       "    </tr>\n",
       "  </thead>\n",
       "  <tbody>\n",
       "    <tr>\n",
       "      <th>11</th>\n",
       "      <td>Liverpool</td>\n",
       "      <td>Business</td>\n",
       "      <td>2015</td>\n",
       "      <td>Abbas Houda</td>\n",
       "      <td>Doctorate</td>\n",
       "      <td>Ph.D</td>\n",
       "      <td>Other</td>\n",
       "      <td>NaN</td>\n",
       "      <td>BUS4373 - Strategic HRM\\nBUS3203 - Strat Mgt Busi Simulation</td>\n",
       "      <td>NaN</td>\n",
       "      <td>NaN</td>\n",
       "      <td>Industry &amp; Teaching experience</td>\n",
       "    </tr>\n",
       "    <tr>\n",
       "      <th>75</th>\n",
       "      <td>Bristol</td>\n",
       "      <td>Business</td>\n",
       "      <td>2015</td>\n",
       "      <td>Daphne Keaton</td>\n",
       "      <td>Doctorate</td>\n",
       "      <td>Ph.D</td>\n",
       "      <td>Other</td>\n",
       "      <td>NaN</td>\n",
       "      <td>BUS2003 - Business and Commercial Law\\nBUS4233 - Financial Assets and Markets</td>\n",
       "      <td>NaN</td>\n",
       "      <td>NaN</td>\n",
       "      <td>Industry &amp; Teaching experience</td>\n",
       "    </tr>\n",
       "    <tr>\n",
       "      <th>108</th>\n",
       "      <td>Brighton</td>\n",
       "      <td>Business</td>\n",
       "      <td>2015</td>\n",
       "      <td>Kim Hughes</td>\n",
       "      <td>Masters</td>\n",
       "      <td>MBA</td>\n",
       "      <td>Other</td>\n",
       "      <td>NaN</td>\n",
       "      <td>NaN</td>\n",
       "      <td>NaN</td>\n",
       "      <td>NaN</td>\n",
       "      <td>Industry &amp; Teaching experience</td>\n",
       "    </tr>\n",
       "    <tr>\n",
       "      <th>134</th>\n",
       "      <td>Belfast</td>\n",
       "      <td>Trainee</td>\n",
       "      <td>2015</td>\n",
       "      <td>Orlamei Princess</td>\n",
       "      <td>Masters</td>\n",
       "      <td>MBA</td>\n",
       "      <td>Other</td>\n",
       "      <td>NaN</td>\n",
       "      <td>BUS2403 - Innovation &amp; Entrepreneurship\\nBUS1403 - Business Ethics and Corporate</td>\n",
       "      <td>NaN</td>\n",
       "      <td>NaN</td>\n",
       "      <td>Industry &amp; Teaching experience</td>\n",
       "    </tr>\n",
       "    <tr>\n",
       "      <th>154</th>\n",
       "      <td>Belfast</td>\n",
       "      <td>Business</td>\n",
       "      <td>2015</td>\n",
       "      <td>Orlamei Princess</td>\n",
       "      <td>Doctorate</td>\n",
       "      <td>Ph.D</td>\n",
       "      <td>Other</td>\n",
       "      <td>NaN</td>\n",
       "      <td>BUS3903 - Contemporary Business\\nBUS1203 - Software Apps for Business\\nBSD2067 - Business Work Placement\\nBUS1303 - Marketing</td>\n",
       "      <td>NaN</td>\n",
       "      <td>NaN</td>\n",
       "      <td>Industry &amp; Teaching experience</td>\n",
       "    </tr>\n",
       "    <tr>\n",
       "      <th>160</th>\n",
       "      <td>Belfast</td>\n",
       "      <td>Business</td>\n",
       "      <td>2015</td>\n",
       "      <td>Rob Jenkins</td>\n",
       "      <td>Masters</td>\n",
       "      <td>MBA</td>\n",
       "      <td>Other</td>\n",
       "      <td>NaN</td>\n",
       "      <td>BUS2203 - Business Stats for Managers\\nBUS4553 - Strategic Supply Chain Managem\\nBUS3406 - Work Related Learning\\nBUS4513 - Strat Decisions with Mgt Sc</td>\n",
       "      <td>NaN</td>\n",
       "      <td>NaN</td>\n",
       "      <td>Industry &amp; Teaching experience</td>\n",
       "    </tr>\n",
       "    <tr>\n",
       "      <th>243</th>\n",
       "      <td>Leicester</td>\n",
       "      <td>Business</td>\n",
       "      <td>2015</td>\n",
       "      <td>Betty Adewuyi</td>\n",
       "      <td>Doctorate</td>\n",
       "      <td>Ph.D</td>\n",
       "      <td>Other</td>\n",
       "      <td>NaN</td>\n",
       "      <td>BUS2303 - Financial Management\\nBUS4123 - Auditing</td>\n",
       "      <td>NaN</td>\n",
       "      <td>NaN</td>\n",
       "      <td>Industry &amp; Teaching experience</td>\n",
       "    </tr>\n",
       "    <tr>\n",
       "      <th>253</th>\n",
       "      <td>Cambridge</td>\n",
       "      <td>Business</td>\n",
       "      <td>2015</td>\n",
       "      <td>Betty Adewuyi</td>\n",
       "      <td>Masters</td>\n",
       "      <td>Other</td>\n",
       "      <td>Other</td>\n",
       "      <td>NaN</td>\n",
       "      <td>BSD2263 - Socially Responsible Retailing\\nBUS1303 - Marketing</td>\n",
       "      <td>NaN</td>\n",
       "      <td>NaN</td>\n",
       "      <td>Industry &amp; Teaching experience</td>\n",
       "    </tr>\n",
       "    <tr>\n",
       "      <th>263</th>\n",
       "      <td>Cambridge</td>\n",
       "      <td>Business</td>\n",
       "      <td>2015</td>\n",
       "      <td>Olu Ebenezer</td>\n",
       "      <td>Doctorate</td>\n",
       "      <td>Ph.D</td>\n",
       "      <td>Other</td>\n",
       "      <td>NaN</td>\n",
       "      <td>BUS4683 - Middle East Devt. &amp; Logistics\\nBUS2203 - Business Stats for Managers</td>\n",
       "      <td>NaN</td>\n",
       "      <td>NaN</td>\n",
       "      <td>Industry &amp; Teaching experience</td>\n",
       "    </tr>\n",
       "    <tr>\n",
       "      <th>274</th>\n",
       "      <td>Cambridge</td>\n",
       "      <td>Business</td>\n",
       "      <td>2015</td>\n",
       "      <td>Olu Ebenezer</td>\n",
       "      <td>Doctorate</td>\n",
       "      <td>Ph.D</td>\n",
       "      <td>Other</td>\n",
       "      <td>NaN</td>\n",
       "      <td>BUS3003 - Managing People &amp;Organisations\\nBUS1303 - Marketing</td>\n",
       "      <td>NaN</td>\n",
       "      <td>NaN</td>\n",
       "      <td>Industry &amp; Teaching experience</td>\n",
       "    </tr>\n",
       "  </tbody>\n",
       "</table>\n",
       "</div>"
      ],
      "text/plain": [
       "      Location     Title Join Date        Reports To  \\\n",
       "11   Liverpool  Business      2015       Abbas Houda   \n",
       "75     Bristol  Business      2015     Daphne Keaton   \n",
       "108   Brighton  Business      2015        Kim Hughes   \n",
       "134    Belfast   Trainee      2015  Orlamei Princess   \n",
       "154    Belfast  Business      2015  Orlamei Princess   \n",
       "160    Belfast  Business      2015       Rob Jenkins   \n",
       "243  Leicester  Business      2015     Betty Adewuyi   \n",
       "253  Cambridge  Business      2015     Betty Adewuyi   \n",
       "263  Cambridge  Business      2015      Olu Ebenezer   \n",
       "274  Cambridge  Business      2015      Olu Ebenezer   \n",
       "\n",
       "    Highest Qualification Level Highest Qualification  Major  \\\n",
       "11                    Doctorate                  Ph.D  Other   \n",
       "75                    Doctorate                  Ph.D  Other   \n",
       "108                     Masters                   MBA  Other   \n",
       "134                     Masters                   MBA  Other   \n",
       "154                   Doctorate                  Ph.D  Other   \n",
       "160                     Masters                   MBA  Other   \n",
       "243                   Doctorate                  Ph.D  Other   \n",
       "253                     Masters                 Other  Other   \n",
       "263                   Doctorate                  Ph.D  Other   \n",
       "274                   Doctorate                  Ph.D  Other   \n",
       "\n",
       "    All Qualifications from Profile  \\\n",
       "11                              NaN   \n",
       "75                              NaN   \n",
       "108                             NaN   \n",
       "134                             NaN   \n",
       "154                             NaN   \n",
       "160                             NaN   \n",
       "243                             NaN   \n",
       "253                             NaN   \n",
       "263                             NaN   \n",
       "274                             NaN   \n",
       "\n",
       "                                                                                                                                 Courses Taught- Term 201510  \\\n",
       "11                                                                                              BUS4373 - Strategic HRM\\nBUS3203 - Strat Mgt Busi Simulation   \n",
       "75                                                                             BUS2003 - Business and Commercial Law\\nBUS4233 - Financial Assets and Markets   \n",
       "108                                                                                                                                                      NaN   \n",
       "134                                                                         BUS2403 - Innovation & Entrepreneurship\\nBUS1403 - Business Ethics and Corporate   \n",
       "154                            BUS3903 - Contemporary Business\\nBUS1203 - Software Apps for Business\\nBSD2067 - Business Work Placement\\nBUS1303 - Marketing   \n",
       "160  BUS2203 - Business Stats for Managers\\nBUS4553 - Strategic Supply Chain Managem\\nBUS3406 - Work Related Learning\\nBUS4513 - Strat Decisions with Mgt Sc   \n",
       "243                                                                                                       BUS2303 - Financial Management\\nBUS4123 - Auditing   \n",
       "253                                                                                            BSD2263 - Socially Responsible Retailing\\nBUS1303 - Marketing   \n",
       "263                                                                           BUS4683 - Middle East Devt. & Logistics\\nBUS2203 - Business Stats for Managers   \n",
       "274                                                                                            BUS3003 - Managing People &Organisations\\nBUS1303 - Marketing   \n",
       "\n",
       "    MAJOR TEACHING FIELD  \\\n",
       "11                   NaN   \n",
       "75                   NaN   \n",
       "108                  NaN   \n",
       "134                  NaN   \n",
       "154                  NaN   \n",
       "160                  NaN   \n",
       "243                  NaN   \n",
       "253                  NaN   \n",
       "263                  NaN   \n",
       "274                  NaN   \n",
       "\n",
       "    DOCUMENT OTHER PROFESSIONAL CERTIFICATION CRITIERA Five Years Work Experience Teaching Excellence Professional Certifications  \\\n",
       "11                                                                                                                            NaN   \n",
       "75                                                                                                                            NaN   \n",
       "108                                                                                                                           NaN   \n",
       "134                                                                                                                           NaN   \n",
       "154                                                                                                                           NaN   \n",
       "160                                                                                                                           NaN   \n",
       "243                                                                                                                           NaN   \n",
       "253                                                                                                                           NaN   \n",
       "263                                                                                                                           NaN   \n",
       "274                                                                                                                           NaN   \n",
       "\n",
       "                           Criteria  \n",
       "11   Industry & Teaching experience  \n",
       "75   Industry & Teaching experience  \n",
       "108  Industry & Teaching experience  \n",
       "134  Industry & Teaching experience  \n",
       "154  Industry & Teaching experience  \n",
       "160  Industry & Teaching experience  \n",
       "243  Industry & Teaching experience  \n",
       "253  Industry & Teaching experience  \n",
       "263  Industry & Teaching experience  \n",
       "274  Industry & Teaching experience  "
      ]
     },
     "execution_count": 76,
     "metadata": {},
     "output_type": "execute_result"
    }
   ],
   "source": [
    "# Inspect null values in this column to see if they can be imputed\n",
    "sis[sis['All Qualifications from Profile'].isnull()]"
   ]
  },
  {
   "cell_type": "markdown",
   "id": "73323c65",
   "metadata": {},
   "source": [
    "* All the null values for this field have 'Other' as their 'Major'\n",
    "* They also have null values for 'Major Teaching Field' and 'DOCUMENT OTHER...'\n",
    "* These records are missing a substantial amount of data so I will drop these records from the data"
   ]
  },
  {
   "cell_type": "code",
   "execution_count": 77,
   "id": "578196d2",
   "metadata": {},
   "outputs": [],
   "source": [
    "sis = sis[sis['All Qualifications from Profile'].notna()]"
   ]
  },
  {
   "cell_type": "code",
   "execution_count": 78,
   "id": "999133e9",
   "metadata": {},
   "outputs": [],
   "source": [
    "# Create 'No. of Qualifications' column\n",
    "sis['No. of Qualifications'] = ((sis['All Qualifications from Profile'].str.count(','))+1)"
   ]
  },
  {
   "cell_type": "code",
   "execution_count": 79,
   "id": "399bf46c",
   "metadata": {},
   "outputs": [
    {
     "data": {
      "text/plain": [
       "2     124\n",
       "3      71\n",
       "4      32\n",
       "1      24\n",
       "5      17\n",
       "6       3\n",
       "8       1\n",
       "11      1\n",
       "7       1\n",
       "Name: No. of Qualifications, dtype: int64"
      ]
     },
     "execution_count": 79,
     "metadata": {},
     "output_type": "execute_result"
    }
   ],
   "source": [
    "# Inspect new column\n",
    "sis['No. of Qualifications'].value_counts()"
   ]
  },
  {
   "cell_type": "markdown",
   "id": "cf5dfc0a",
   "metadata": {},
   "source": [
    "Values above 5 appear to be outliers. Check these records and if they are valid."
   ]
  },
  {
   "cell_type": "code",
   "execution_count": 80,
   "id": "7b0e5727",
   "metadata": {},
   "outputs": [
    {
     "data": {
      "text/html": [
       "<div>\n",
       "<style scoped>\n",
       "    .dataframe tbody tr th:only-of-type {\n",
       "        vertical-align: middle;\n",
       "    }\n",
       "\n",
       "    .dataframe tbody tr th {\n",
       "        vertical-align: top;\n",
       "    }\n",
       "\n",
       "    .dataframe thead th {\n",
       "        text-align: right;\n",
       "    }\n",
       "</style>\n",
       "<table border=\"1\" class=\"dataframe\">\n",
       "  <thead>\n",
       "    <tr style=\"text-align: right;\">\n",
       "      <th></th>\n",
       "      <th>Location</th>\n",
       "      <th>Title</th>\n",
       "      <th>Join Date</th>\n",
       "      <th>Reports To</th>\n",
       "      <th>Highest Qualification Level</th>\n",
       "      <th>Highest Qualification</th>\n",
       "      <th>Major</th>\n",
       "      <th>All Qualifications from Profile</th>\n",
       "      <th>Courses Taught- Term 201510</th>\n",
       "      <th>MAJOR TEACHING FIELD</th>\n",
       "      <th>DOCUMENT OTHER PROFESSIONAL CERTIFICATION CRITIERA Five Years Work Experience Teaching Excellence Professional Certifications</th>\n",
       "      <th>Criteria</th>\n",
       "      <th>No. of Qualifications</th>\n",
       "    </tr>\n",
       "  </thead>\n",
       "  <tbody>\n",
       "    <tr>\n",
       "      <th>78</th>\n",
       "      <td>Bristol</td>\n",
       "      <td>Business</td>\n",
       "      <td>&lt;2011</td>\n",
       "      <td>Daphne Keaton</td>\n",
       "      <td>Masters</td>\n",
       "      <td>MBA</td>\n",
       "      <td>Management</td>\n",
       "      <td>Diploma (Bsn Adm-Transport &amp; Logistics), Certificate (Occupational Health &amp; Safety), Graduate Diploma (Vocational Education &amp;Training), Master of Business (Operation Management), Certificate (Training &amp; Assessment Systems), Bachelor of Commerce (Operation Management), Diploma (Marketing Management), Diploma (Assessment &amp; Workplace Train.)</td>\n",
       "      <td>BSD2013 - Introduction to Human Resource\\nBUS2103 - Operations Management\\nBUS3203 - Strat Mgt Busi Simulation</td>\n",
       "      <td>Operations Management</td>\n",
       "      <td>years of teaching experience: 7 years of professional/management experience: 9</td>\n",
       "      <td>Industry &amp; Teaching experience</td>\n",
       "      <td>8</td>\n",
       "    </tr>\n",
       "    <tr>\n",
       "      <th>98</th>\n",
       "      <td>Bristol</td>\n",
       "      <td>Business</td>\n",
       "      <td>2015</td>\n",
       "      <td>Kim Hughes</td>\n",
       "      <td>Doctorate</td>\n",
       "      <td>Ph.D</td>\n",
       "      <td>Other</td>\n",
       "      <td>Diploma (Business Information Tech), Higher Diploma (Education), Ph.D (Internal Auditing), Bachelor (Accounting &amp; Finance), Masters (Taxation), Post Graduate Diploma (Accounting &amp; Finance)</td>\n",
       "      <td>BUS3406 - Work Related Learning\\nBUS4123 - Auditing\\nBUS4163 - Taxation\\nBUS1503 - Accounting for Managers</td>\n",
       "      <td>NaN</td>\n",
       "      <td>NaN</td>\n",
       "      <td>Industry &amp; Teaching experience</td>\n",
       "      <td>6</td>\n",
       "    </tr>\n",
       "    <tr>\n",
       "      <th>116</th>\n",
       "      <td>Cardiff</td>\n",
       "      <td>Business</td>\n",
       "      <td>&lt;2011</td>\n",
       "      <td>Harriet Mensah</td>\n",
       "      <td>Masters</td>\n",
       "      <td>MBA</td>\n",
       "      <td>Management</td>\n",
       "      <td>Certificate (Int'l Computer Driving License), Diploma (Business Computing), Higher Diploma (Graphic Arts), Certificate (CELTA), Master of Business Administrat (Total Quality Management), Diploma (Management)</td>\n",
       "      <td>LSH2903 - Community Service Learning\\nLSH2203 - Critical Thinking</td>\n",
       "      <td>Management</td>\n",
       "      <td>More than 5 years work experience</td>\n",
       "      <td>Industry &amp; Teaching experience</td>\n",
       "      <td>6</td>\n",
       "    </tr>\n",
       "    <tr>\n",
       "      <th>155</th>\n",
       "      <td>Belfast</td>\n",
       "      <td>Business</td>\n",
       "      <td>2012</td>\n",
       "      <td>Rob Jenkins</td>\n",
       "      <td>Masters</td>\n",
       "      <td>Other</td>\n",
       "      <td>Other</td>\n",
       "      <td>Higher Diploma (Computer Studies), Certificate (Adult Education), Post Graduate Diploma (Economics), Master of Professional Studies (Information Technology), Certificate (Adult &amp; Vocational Education), Post Graduate Certificate (Business), Bachelor (Arts), Bachelor (Business IT), Diploma (Computer Studies), Certificate (Adult Education), Master of Business Administrat (Marketing)</td>\n",
       "      <td>BUS3003 - Managing People &amp;Organisations\\nBUS4573 - Advanced Strategic Management\\nBUS1303 - Marketing\\nBUS4373 - Strategic HRM</td>\n",
       "      <td>Marketing , General Business</td>\n",
       "      <td>9 years Professional+ 5 years teaching</td>\n",
       "      <td>Industry &amp; Teaching experience</td>\n",
       "      <td>11</td>\n",
       "    </tr>\n",
       "    <tr>\n",
       "      <th>184</th>\n",
       "      <td>Leeds</td>\n",
       "      <td>Business</td>\n",
       "      <td>&lt;2011</td>\n",
       "      <td>Sean Woods</td>\n",
       "      <td>Doctorate</td>\n",
       "      <td>Ph.D</td>\n",
       "      <td>Marketing</td>\n",
       "      <td>Master of Business Administrat (Business Administration), Ph.D (E-Commerce), Bachelor of Science (Animal Science), Post Graduate Certificate (Educating/Teaching Adult), Master of Arts (Media Communications), Master of Arts (International Relation), Master of Arts (International Business)</td>\n",
       "      <td>BUS4163 - Taxation\\nBUS4353 - Int Human Resource Management\\nBUS2103 - Operations Management\\nBUS3203 - Strat Mgt Busi Simulation</td>\n",
       "      <td>General Business, International Business, E-Business</td>\n",
       "      <td>13 years professional prior work experience VP and COO St Charles drilling, 12 years teaching experience, PGCE-TTL, CAGS eCom, CAGS eBusn, Wharton GFD, CWD/PI (Groundwater Industry), Delta Mu Delta Publishing Excellence Award</td>\n",
       "      <td>Industry &amp; Teaching experience</td>\n",
       "      <td>7</td>\n",
       "    </tr>\n",
       "    <tr>\n",
       "      <th>275</th>\n",
       "      <td>Cambridge</td>\n",
       "      <td>Business</td>\n",
       "      <td>2012</td>\n",
       "      <td>Olu Ebenezer</td>\n",
       "      <td>Masters</td>\n",
       "      <td>MBA</td>\n",
       "      <td>Business Administration</td>\n",
       "      <td>Higher Diploma (Computer Integrated Management), Post Graduate Certificate (Further Education &amp; Training), Master of Business Administrat (Business Administration), Bachelor (Microbiology), Post Graduate Certificate (Education), Post Degree Certificate (Computerized Accounts)</td>\n",
       "      <td>BUS2003 - Business and Commercial Law\\nBSD2213 - Retail Customer Service\\nBSD1243 - Retail Operations</td>\n",
       "      <td>Management</td>\n",
       "      <td>More than 5 years work experience</td>\n",
       "      <td>Industry &amp; Teaching experience</td>\n",
       "      <td>6</td>\n",
       "    </tr>\n",
       "  </tbody>\n",
       "</table>\n",
       "</div>"
      ],
      "text/plain": [
       "      Location     Title Join Date      Reports To  \\\n",
       "78     Bristol  Business     <2011   Daphne Keaton   \n",
       "98     Bristol  Business      2015      Kim Hughes   \n",
       "116    Cardiff  Business     <2011  Harriet Mensah   \n",
       "155    Belfast  Business      2012     Rob Jenkins   \n",
       "184      Leeds  Business     <2011      Sean Woods   \n",
       "275  Cambridge  Business      2012    Olu Ebenezer   \n",
       "\n",
       "    Highest Qualification Level Highest Qualification  \\\n",
       "78                      Masters                   MBA   \n",
       "98                    Doctorate                  Ph.D   \n",
       "116                     Masters                   MBA   \n",
       "155                     Masters                 Other   \n",
       "184                   Doctorate                  Ph.D   \n",
       "275                     Masters                   MBA   \n",
       "\n",
       "                       Major  \\\n",
       "78                Management   \n",
       "98                     Other   \n",
       "116               Management   \n",
       "155                    Other   \n",
       "184                Marketing   \n",
       "275  Business Administration   \n",
       "\n",
       "                                                                                                                                                                                                                                                                                                                                                                    All Qualifications from Profile  \\\n",
       "78                                             Diploma (Bsn Adm-Transport & Logistics), Certificate (Occupational Health & Safety), Graduate Diploma (Vocational Education &Training), Master of Business (Operation Management), Certificate (Training & Assessment Systems), Bachelor of Commerce (Operation Management), Diploma (Marketing Management), Diploma (Assessment & Workplace Train.)   \n",
       "98                                                                                                                                                                                                     Diploma (Business Information Tech), Higher Diploma (Education), Ph.D (Internal Auditing), Bachelor (Accounting & Finance), Masters (Taxation), Post Graduate Diploma (Accounting & Finance)   \n",
       "116                                                                                                                                                                                 Certificate (Int'l Computer Driving License), Diploma (Business Computing), Higher Diploma (Graphic Arts), Certificate (CELTA), Master of Business Administrat (Total Quality Management), Diploma (Management)   \n",
       "155  Higher Diploma (Computer Studies), Certificate (Adult Education), Post Graduate Diploma (Economics), Master of Professional Studies (Information Technology), Certificate (Adult & Vocational Education), Post Graduate Certificate (Business), Bachelor (Arts), Bachelor (Business IT), Diploma (Computer Studies), Certificate (Adult Education), Master of Business Administrat (Marketing)   \n",
       "184                                                                                                Master of Business Administrat (Business Administration), Ph.D (E-Commerce), Bachelor of Science (Animal Science), Post Graduate Certificate (Educating/Teaching Adult), Master of Arts (Media Communications), Master of Arts (International Relation), Master of Arts (International Business)   \n",
       "275                                                                                                            Higher Diploma (Computer Integrated Management), Post Graduate Certificate (Further Education & Training), Master of Business Administrat (Business Administration), Bachelor (Microbiology), Post Graduate Certificate (Education), Post Degree Certificate (Computerized Accounts)   \n",
       "\n",
       "                                                                                                           Courses Taught- Term 201510  \\\n",
       "78                      BSD2013 - Introduction to Human Resource\\nBUS2103 - Operations Management\\nBUS3203 - Strat Mgt Busi Simulation   \n",
       "98                          BUS3406 - Work Related Learning\\nBUS4123 - Auditing\\nBUS4163 - Taxation\\nBUS1503 - Accounting for Managers   \n",
       "116                                                                  LSH2903 - Community Service Learning\\nLSH2203 - Critical Thinking   \n",
       "155    BUS3003 - Managing People &Organisations\\nBUS4573 - Advanced Strategic Management\\nBUS1303 - Marketing\\nBUS4373 - Strategic HRM   \n",
       "184  BUS4163 - Taxation\\nBUS4353 - Int Human Resource Management\\nBUS2103 - Operations Management\\nBUS3203 - Strat Mgt Busi Simulation   \n",
       "275                              BUS2003 - Business and Commercial Law\\nBSD2213 - Retail Customer Service\\nBSD1243 - Retail Operations   \n",
       "\n",
       "                                     MAJOR TEACHING FIELD  \\\n",
       "78                                  Operations Management   \n",
       "98                                                    NaN   \n",
       "116                                            Management   \n",
       "155                         Marketing , General Business    \n",
       "184  General Business, International Business, E-Business   \n",
       "275                                            Management   \n",
       "\n",
       "                                                                                                         DOCUMENT OTHER PROFESSIONAL CERTIFICATION CRITIERA Five Years Work Experience Teaching Excellence Professional Certifications  \\\n",
       "78                                                                                                                                                      years of teaching experience: 7 years of professional/management experience: 9   \n",
       "98                                                                                                                                                                                                                                 NaN   \n",
       "116                                                                                                                                                                                                  More than 5 years work experience   \n",
       "155                                                                                                                                                                                            9 years Professional+ 5 years teaching    \n",
       "184  13 years professional prior work experience VP and COO St Charles drilling, 12 years teaching experience, PGCE-TTL, CAGS eCom, CAGS eBusn, Wharton GFD, CWD/PI (Groundwater Industry), Delta Mu Delta Publishing Excellence Award   \n",
       "275                                                                                                                                                                                                  More than 5 years work experience   \n",
       "\n",
       "                           Criteria  No. of Qualifications  \n",
       "78   Industry & Teaching experience                      8  \n",
       "98   Industry & Teaching experience                      6  \n",
       "116  Industry & Teaching experience                      6  \n",
       "155  Industry & Teaching experience                     11  \n",
       "184  Industry & Teaching experience                      7  \n",
       "275  Industry & Teaching experience                      6  "
      ]
     },
     "execution_count": 80,
     "metadata": {},
     "output_type": "execute_result"
    }
   ],
   "source": [
    "sis[sis['No. of Qualifications']>5]"
   ]
  },
  {
   "cell_type": "markdown",
   "id": "f0179e6f",
   "metadata": {},
   "source": [
    "* The number of qualifcations > 5 subset appears to be valid so I will retain these values"
   ]
  },
  {
   "cell_type": "code",
   "execution_count": 81,
   "id": "d3a1318e",
   "metadata": {},
   "outputs": [
    {
     "data": {
      "text/plain": [
       "2     0.452555\n",
       "3     0.259124\n",
       "4     0.116788\n",
       "1     0.087591\n",
       "5     0.062044\n",
       "6     0.010949\n",
       "8     0.003650\n",
       "11    0.003650\n",
       "7     0.003650\n",
       "Name: No. of Qualifications, dtype: float64"
      ]
     },
     "execution_count": 81,
     "metadata": {},
     "output_type": "execute_result"
    }
   ],
   "source": [
    "# Check frequency distribution of values\n",
    "noq_freq = sis['No. of Qualifications'].value_counts()/len(sis)\n",
    "noq_freq"
   ]
  },
  {
   "cell_type": "markdown",
   "id": "ded80cd5",
   "metadata": {},
   "source": []
  },
  {
   "cell_type": "code",
   "execution_count": 82,
   "id": "c6f70e67",
   "metadata": {},
   "outputs": [
    {
     "data": {
      "image/png": "[encoded data removed]",
      "text/plain": [
       "<Figure size 1080x720 with 1 Axes>"
      ]
     },
     "metadata": {
      "needs_background": "light"
     },
     "output_type": "display_data"
    }
   ],
   "source": [
    "# Visualise to determine what threshold to use\n",
    "fig = noq_freq.sort_values(ascending=False).plot.barh(figsize=(15,10))\n",
    "fig.axvline(x=0.05, color='red')\n",
    "fig.set_xlabel('% noq_freq')\n",
    "fig.set_ylabel('No. of Qualifications')\n",
    "fig.set_title('Low noq_freq Identification')\n",
    "plt.show()"
   ]
  },
  {
   "cell_type": "markdown",
   "id": "fef4eb18",
   "metadata": {},
   "source": [
    "With 5% as the threshold, I will group 'No of Qualifications' > 5 as '6+'"
   ]
  },
  {
   "cell_type": "code",
   "execution_count": 83,
   "id": "71421538",
   "metadata": {},
   "outputs": [],
   "source": [
    "sis['No. of Qualifications'].mask(sis['No. of Qualifications']>5, '6+', inplace=True)"
   ]
  },
  {
   "cell_type": "code",
   "execution_count": 84,
   "id": "6b5ba0fd",
   "metadata": {},
   "outputs": [
    {
     "data": {
      "text/plain": [
       "2     124\n",
       "3      71\n",
       "4      32\n",
       "1      24\n",
       "5      17\n",
       "6+      6\n",
       "Name: No. of Qualifications, dtype: int64"
      ]
     },
     "execution_count": 84,
     "metadata": {},
     "output_type": "execute_result"
    }
   ],
   "source": [
    "sis['No. of Qualifications'].value_counts()"
   ]
  },
  {
   "cell_type": "code",
   "execution_count": 85,
   "id": "6baf58ad",
   "metadata": {},
   "outputs": [
    {
     "data": {
      "text/plain": [
       "0"
      ]
     },
     "execution_count": 85,
     "metadata": {},
     "output_type": "execute_result"
    }
   ],
   "source": [
    "sis['No. of Qualifications'].isnull().sum()"
   ]
  },
  {
   "cell_type": "code",
   "execution_count": 86,
   "id": "d24f8bcf",
   "metadata": {},
   "outputs": [
    {
     "data": {
      "text/html": [
       "<div>\n",
       "<style scoped>\n",
       "    .dataframe tbody tr th:only-of-type {\n",
       "        vertical-align: middle;\n",
       "    }\n",
       "\n",
       "    .dataframe tbody tr th {\n",
       "        vertical-align: top;\n",
       "    }\n",
       "\n",
       "    .dataframe thead th {\n",
       "        text-align: right;\n",
       "    }\n",
       "</style>\n",
       "<table border=\"1\" class=\"dataframe\">\n",
       "  <thead>\n",
       "    <tr style=\"text-align: right;\">\n",
       "      <th></th>\n",
       "      <th>Location</th>\n",
       "      <th>Title</th>\n",
       "      <th>Join Date</th>\n",
       "      <th>Reports To</th>\n",
       "      <th>Highest Qualification Level</th>\n",
       "      <th>Highest Qualification</th>\n",
       "      <th>Major</th>\n",
       "      <th>All Qualifications from Profile</th>\n",
       "      <th>Courses Taught- Term 201510</th>\n",
       "      <th>MAJOR TEACHING FIELD</th>\n",
       "      <th>DOCUMENT OTHER PROFESSIONAL CERTIFICATION CRITIERA Five Years Work Experience Teaching Excellence Professional Certifications</th>\n",
       "      <th>Criteria</th>\n",
       "      <th>No. of Qualifications</th>\n",
       "    </tr>\n",
       "  </thead>\n",
       "  <tbody>\n",
       "    <tr>\n",
       "      <th>0</th>\n",
       "      <td>Liverpool</td>\n",
       "      <td>Business</td>\n",
       "      <td>&lt;2011</td>\n",
       "      <td>Abbas Houda</td>\n",
       "      <td>Masters</td>\n",
       "      <td>MA</td>\n",
       "      <td>Other</td>\n",
       "      <td>Bachelor of Science (Communications), Master of Arts (International Affairs), Master of Business Administrat (Business Administration)</td>\n",
       "      <td>BUS2403 - Innovation &amp; Entrepreneurship\\nBUS2003 - Business and Commercial Law\\nLSG2013 - Globalization, Media &amp; Soc\\nBUS1003 - Management and Leadership</td>\n",
       "      <td>Business Administration</td>\n",
       "      <td>10+ Years Small Business Ownership, 10+ Years SME Consulting, 10+ Years Corporate/Vocational Business Training, 8 Years Teaching Experience</td>\n",
       "      <td>Industry &amp; Teaching experience</td>\n",
       "      <td>3</td>\n",
       "    </tr>\n",
       "  </tbody>\n",
       "</table>\n",
       "</div>"
      ],
      "text/plain": [
       "    Location     Title Join Date   Reports To Highest Qualification Level  \\\n",
       "0  Liverpool  Business     <2011  Abbas Houda                     Masters   \n",
       "\n",
       "  Highest Qualification  Major  \\\n",
       "0                    MA  Other   \n",
       "\n",
       "                                                                                                          All Qualifications from Profile  \\\n",
       "0  Bachelor of Science (Communications), Master of Arts (International Affairs), Master of Business Administrat (Business Administration)   \n",
       "\n",
       "                                                                                                                                 Courses Taught- Term 201510  \\\n",
       "0  BUS2403 - Innovation & Entrepreneurship\\nBUS2003 - Business and Commercial Law\\nLSG2013 - Globalization, Media & Soc\\nBUS1003 - Management and Leadership   \n",
       "\n",
       "      MAJOR TEACHING FIELD  \\\n",
       "0  Business Administration   \n",
       "\n",
       "                 DOCUMENT OTHER PROFESSIONAL CERTIFICATION CRITIERA Five Years Work Experience Teaching Excellence Professional Certifications  \\\n",
       "0  10+ Years Small Business Ownership, 10+ Years SME Consulting, 10+ Years Corporate/Vocational Business Training, 8 Years Teaching Experience   \n",
       "\n",
       "                         Criteria No. of Qualifications  \n",
       "0  Industry & Teaching experience                     3  "
      ]
     },
     "execution_count": 86,
     "metadata": {},
     "output_type": "execute_result"
    }
   ],
   "source": [
    "sis.head(1)"
   ]
  },
  {
   "cell_type": "code",
   "execution_count": 87,
   "id": "a7ee4f1a",
   "metadata": {},
   "outputs": [
    {
     "data": {
      "text/plain": [
       "261"
      ]
     },
     "execution_count": 87,
     "metadata": {},
     "output_type": "execute_result"
    }
   ],
   "source": [
    "# Inspect 'Courses Taught- Term 201510' column\n",
    "sis['Courses Taught- Term 201510'].nunique()"
   ]
  },
  {
   "cell_type": "markdown",
   "id": "a7f8e0d5",
   "metadata": {},
   "source": [
    "Almost every value is unique in this column which is largely down to the inconsistency in formatting. Many records contain course codes, and many do not. Courses use different seperators such as line spaces, commas, the word 'and', as well as hyphons.\n",
    "\n",
    "The cardinality and consistency issues in this column make it a poor predictor for a ML model so I will drop this. The next column along, 'Major Teaching Field', will likely be more usable."
   ]
  },
  {
   "cell_type": "code",
   "execution_count": 88,
   "id": "7c4de285",
   "metadata": {},
   "outputs": [],
   "source": [
    "sis.drop('Courses Taught- Term 201510', axis=1, inplace=True)"
   ]
  },
  {
   "cell_type": "code",
   "execution_count": 89,
   "id": "40ca9743",
   "metadata": {},
   "outputs": [
    {
     "data": {
      "text/plain": [
       "General Business                                            19\n",
       "Management                                                  10\n",
       "Management                                                  10\n",
       "Accounting                                                   9\n",
       "HRM                                                          7\n",
       "                                                            ..\n",
       "Strategic Mgt, Supply chain, Innovation, Marketing           1\n",
       "HRM, Quality and Tourism                                     1\n",
       "Management Science                                           1\n",
       "Business Adminstration/Finance and Investment Management     1\n",
       "Financial Mgt, Project Mgt, Entrepreneurial Finance          1\n",
       "Name: MAJOR TEACHING FIELD, Length: 143, dtype: int64"
      ]
     },
     "execution_count": 89,
     "metadata": {},
     "output_type": "execute_result"
    }
   ],
   "source": [
    "sis['MAJOR TEACHING FIELD'].value_counts()"
   ]
  },
  {
   "cell_type": "markdown",
   "id": "ade8cc27",
   "metadata": {},
   "source": [
    "This column also has inconsistent formatting. However, 'MAJOR TEACHING FIELD' resembles the 'Major' column in terms of categories, so I will group values by common sub-strings and assign them to common categories.\n",
    "\n",
    "The column title 'MAJOR TEACHING FIELD' suggests the value should be singular so summarising teaching fields into a singular category also makes sense in this regard."
   ]
  },
  {
   "cell_type": "code",
   "execution_count": 90,
   "id": "e600dd09",
   "metadata": {},
   "outputs": [
    {
     "data": {
      "text/plain": [
       "array(['Business Administration', 'HRM', 'Economics', 'Accounting',\n",
       "       'Management', 'Management ', 'General Business'], dtype=object)"
      ]
     },
     "execution_count": 90,
     "metadata": {},
     "output_type": "execute_result"
    }
   ],
   "source": [
    "counts = sis['MAJOR TEACHING FIELD'].value_counts() \n",
    "valids = counts[counts>4].index\n",
    "\n",
    "sis['MAJOR TEACHING FIELD'][sis['MAJOR TEACHING FIELD'].isin(valids)].unique()"
   ]
  },
  {
   "cell_type": "markdown",
   "id": "a6d31f8a",
   "metadata": {},
   "source": [
    "Based on the above most common values, and the 'Major' column, I will use the following categories:\n",
    "* Business Administration (Includes General Business and other Business related teaching fields)\n",
    "* Management (Captures Management, HRM etc.)\n",
    "* Finance (Economics, Accounting etc.)\n",
    "* Other"
   ]
  },
  {
   "cell_type": "code",
   "execution_count": 91,
   "id": "160f622e",
   "metadata": {},
   "outputs": [],
   "source": [
    "mtf = sis['MAJOR TEACHING FIELD']\n",
    "\n",
    "mtf.mask(mtf.str.contains('Busines', case=False) == True, 'Business Administration', inplace=True)\n",
    "mtf.mask(mtf.str.contains('Manag', case=False) == True, 'Management', inplace=True)\n",
    "mtf.mask(mtf.str.contains('Mgt', case=False) == True, 'Management', inplace=True)\n",
    "mtf.mask(mtf.str.contains('Mgmt', case=False) == True, 'Management', inplace=True)\n",
    "mtf.mask(mtf.str.contains('HRM', case=False) == True, 'Management', inplace=True)\n",
    "mtf.mask(mtf.str.contains('Economics', case=False) == True, 'Finance', inplace=True)\n",
    "mtf.mask(mtf.str.contains('Account', case=False) == True, 'Finance', inplace=True)\n",
    "mtf.mask(mtf.str.contains('Finan', case=False) == True, 'Finance', inplace=True)"
   ]
  },
  {
   "cell_type": "code",
   "execution_count": 92,
   "id": "7474b51a",
   "metadata": {},
   "outputs": [
    {
     "data": {
      "text/plain": [
       "Business Administration                         86\n",
       "Management                                      79\n",
       "Finance                                         40\n",
       "Marketing                                        3\n",
       "Marketing                                        3\n",
       "Human Resources                                  2\n",
       "Commercial Law                                   1\n",
       "Entrepreneurship                                 1\n",
       "HR and Entrepreneurship                          1\n",
       "Law                                              1\n",
       "Human Resources                                  1\n",
       "Marketing and Strategy                           1\n",
       "Tourism, Marketing, Organisational Behaviour     1\n",
       "Corporate and Commercial Law                     1\n",
       "Quality and Organizational Behavior              1\n",
       "Maurice Hedwell                                  1\n",
       "International Marketing                          1\n",
       "More than 5 years work experience                1\n",
       "Name: MAJOR TEACHING FIELD, dtype: int64"
      ]
     },
     "execution_count": 92,
     "metadata": {},
     "output_type": "execute_result"
    }
   ],
   "source": [
    "mtf.value_counts()"
   ]
  },
  {
   "cell_type": "markdown",
   "id": "56e8fde0",
   "metadata": {},
   "source": [
    "Based on new value counts, I will create a category called 'Other' for anything outside the top 3 most frequent values"
   ]
  },
  {
   "cell_type": "code",
   "execution_count": 93,
   "id": "339d872a",
   "metadata": {},
   "outputs": [],
   "source": [
    "low_freq_mtf = mtf.value_counts()[mtf.value_counts() < 39].index\n",
    "mtf.replace(low_freq_mtf, 'Other', inplace=True)"
   ]
  },
  {
   "cell_type": "code",
   "execution_count": 94,
   "id": "38508fe3",
   "metadata": {},
   "outputs": [
    {
     "data": {
      "text/plain": [
       "Business Administration    86\n",
       "Management                 79\n",
       "Finance                    40\n",
       "Other                      20\n",
       "Name: MAJOR TEACHING FIELD, dtype: int64"
      ]
     },
     "execution_count": 94,
     "metadata": {},
     "output_type": "execute_result"
    }
   ],
   "source": [
    "mtf.value_counts()"
   ]
  },
  {
   "cell_type": "code",
   "execution_count": 95,
   "id": "e83c3873",
   "metadata": {},
   "outputs": [
    {
     "data": {
      "text/plain": [
       "49"
      ]
     },
     "execution_count": 95,
     "metadata": {},
     "output_type": "execute_result"
    }
   ],
   "source": [
    "# Now check null values\n",
    "mtf.isnull().sum()"
   ]
  },
  {
   "cell_type": "code",
   "execution_count": 96,
   "id": "3f6c6a30",
   "metadata": {},
   "outputs": [],
   "source": [
    "# As 'Major' and 'MAJOR TEACHING FIELD' use similar categories. Impute missing values using 'Major' column.\n",
    "mtf.fillna(sis['Major'], inplace=True)"
   ]
  },
  {
   "cell_type": "code",
   "execution_count": 97,
   "id": "6cc90ac0",
   "metadata": {},
   "outputs": [
    {
     "data": {
      "text/plain": [
       "0"
      ]
     },
     "execution_count": 97,
     "metadata": {},
     "output_type": "execute_result"
    }
   ],
   "source": [
    "mtf.isnull().sum()"
   ]
  },
  {
   "cell_type": "code",
   "execution_count": 98,
   "id": "152200de",
   "metadata": {},
   "outputs": [],
   "source": [
    "sis['MAJOR TEACHING FIELD'] = mtf"
   ]
  },
  {
   "cell_type": "markdown",
   "id": "ed092810",
   "metadata": {},
   "source": [
    "Now compare value_counts for each column. I expect these to be similar based on the assumption that people are likely to teach in the field in which the major."
   ]
  },
  {
   "cell_type": "code",
   "execution_count": 99,
   "id": "49c64a95",
   "metadata": {},
   "outputs": [
    {
     "data": {
      "image/png": "[encoded data removed]",
      "text/plain": [
       "<Figure size 720x576 with 1 Axes>"
      ]
     },
     "metadata": {
      "needs_background": "light"
     },
     "output_type": "display_data"
    }
   ],
   "source": [
    "maj_count = sis['Major'].value_counts()\n",
    "mtf_count = sis['MAJOR TEACHING FIELD'].value_counts()\n",
    "count_df = pd.DataFrame({'Major':maj_count, 'MAJOR TEACHING FIELD':mtf_count})\n",
    "\n",
    "ax = count_df.plot.bar(color=['SkyBlue', 'Salmon'],title = \"Major Value Counts Comparison\", figsize=(10,8))\n",
    "ax.set_xlabel('Major')\n",
    "ax.set_ylabel('Value counts')\n",
    "\n",
    "plt.xticks(rotation=60)\n",
    "\n",
    "plt.show()"
   ]
  },
  {
   "cell_type": "markdown",
   "id": "75124f69",
   "metadata": {},
   "source": [
    "Value counts for each bar is similar, but not identical. This indicates that some people teach in different fields to their major, or that they had more than one teaching field and their new teaching category is different to their major. \n",
    "\n",
    "I will retain both these of columns for ML model use."
   ]
  },
  {
   "cell_type": "code",
   "execution_count": 100,
   "id": "f41d0197",
   "metadata": {},
   "outputs": [],
   "source": [
    "sis.rename(columns={'MAJOR TEACHING FIELD':'Major Teaching Field'}, inplace=True)"
   ]
  },
  {
   "cell_type": "code",
   "execution_count": 101,
   "id": "454e1db2",
   "metadata": {
    "scrolled": true
   },
   "outputs": [
    {
     "data": {
      "text/html": [
       "<div>\n",
       "<style scoped>\n",
       "    .dataframe tbody tr th:only-of-type {\n",
       "        vertical-align: middle;\n",
       "    }\n",
       "\n",
       "    .dataframe tbody tr th {\n",
       "        vertical-align: top;\n",
       "    }\n",
       "\n",
       "    .dataframe thead th {\n",
       "        text-align: right;\n",
       "    }\n",
       "</style>\n",
       "<table border=\"1\" class=\"dataframe\">\n",
       "  <thead>\n",
       "    <tr style=\"text-align: right;\">\n",
       "      <th></th>\n",
       "      <th>Location</th>\n",
       "      <th>Title</th>\n",
       "      <th>Join Date</th>\n",
       "      <th>Reports To</th>\n",
       "      <th>Highest Qualification Level</th>\n",
       "      <th>Highest Qualification</th>\n",
       "      <th>Major</th>\n",
       "      <th>All Qualifications from Profile</th>\n",
       "      <th>Major Teaching Field</th>\n",
       "      <th>DOCUMENT OTHER PROFESSIONAL CERTIFICATION CRITIERA Five Years Work Experience Teaching Excellence Professional Certifications</th>\n",
       "      <th>Criteria</th>\n",
       "      <th>No. of Qualifications</th>\n",
       "    </tr>\n",
       "  </thead>\n",
       "  <tbody>\n",
       "    <tr>\n",
       "      <th>0</th>\n",
       "      <td>Liverpool</td>\n",
       "      <td>Business</td>\n",
       "      <td>&lt;2011</td>\n",
       "      <td>Abbas Houda</td>\n",
       "      <td>Masters</td>\n",
       "      <td>MA</td>\n",
       "      <td>Other</td>\n",
       "      <td>Bachelor of Science (Communications), Master of Arts (International Affairs), Master of Business Administrat (Business Administration)</td>\n",
       "      <td>Business Administration</td>\n",
       "      <td>10+ Years Small Business Ownership, 10+ Years SME Consulting, 10+ Years Corporate/Vocational Business Training, 8 Years Teaching Experience</td>\n",
       "      <td>Industry &amp; Teaching experience</td>\n",
       "      <td>3</td>\n",
       "    </tr>\n",
       "  </tbody>\n",
       "</table>\n",
       "</div>"
      ],
      "text/plain": [
       "    Location     Title Join Date   Reports To Highest Qualification Level  \\\n",
       "0  Liverpool  Business     <2011  Abbas Houda                     Masters   \n",
       "\n",
       "  Highest Qualification  Major  \\\n",
       "0                    MA  Other   \n",
       "\n",
       "                                                                                                          All Qualifications from Profile  \\\n",
       "0  Bachelor of Science (Communications), Master of Arts (International Affairs), Master of Business Administrat (Business Administration)   \n",
       "\n",
       "      Major Teaching Field  \\\n",
       "0  Business Administration   \n",
       "\n",
       "                 DOCUMENT OTHER PROFESSIONAL CERTIFICATION CRITIERA Five Years Work Experience Teaching Excellence Professional Certifications  \\\n",
       "0  10+ Years Small Business Ownership, 10+ Years SME Consulting, 10+ Years Corporate/Vocational Business Training, 8 Years Teaching Experience   \n",
       "\n",
       "                         Criteria No. of Qualifications  \n",
       "0  Industry & Teaching experience                     3  "
      ]
     },
     "execution_count": 101,
     "metadata": {},
     "output_type": "execute_result"
    }
   ],
   "source": [
    "sis.head(1)"
   ]
  },
  {
   "cell_type": "code",
   "execution_count": 102,
   "id": "a5f60913",
   "metadata": {},
   "outputs": [],
   "source": [
    "# Rename 'DOCUMENT OTHER....' column\n",
    "sis.rename(columns={'DOCUMENT OTHER PROFESSIONAL CERTIFICATION CRITIERA Five Years Work Experience Teaching Excellence Professional Certifications':'Experience'}, inplace=True)"
   ]
  },
  {
   "cell_type": "code",
   "execution_count": 103,
   "id": "19945842",
   "metadata": {},
   "outputs": [
    {
     "data": {
      "text/html": [
       "<div>\n",
       "<style scoped>\n",
       "    .dataframe tbody tr th:only-of-type {\n",
       "        vertical-align: middle;\n",
       "    }\n",
       "\n",
       "    .dataframe tbody tr th {\n",
       "        vertical-align: top;\n",
       "    }\n",
       "\n",
       "    .dataframe thead th {\n",
       "        text-align: right;\n",
       "    }\n",
       "</style>\n",
       "<table border=\"1\" class=\"dataframe\">\n",
       "  <thead>\n",
       "    <tr style=\"text-align: right;\">\n",
       "      <th></th>\n",
       "      <th>Location</th>\n",
       "      <th>Title</th>\n",
       "      <th>Join Date</th>\n",
       "      <th>Reports To</th>\n",
       "      <th>Highest Qualification Level</th>\n",
       "      <th>Highest Qualification</th>\n",
       "      <th>Major</th>\n",
       "      <th>All Qualifications from Profile</th>\n",
       "      <th>Major Teaching Field</th>\n",
       "      <th>Experience</th>\n",
       "      <th>Criteria</th>\n",
       "      <th>No. of Qualifications</th>\n",
       "    </tr>\n",
       "  </thead>\n",
       "  <tbody>\n",
       "    <tr>\n",
       "      <th>0</th>\n",
       "      <td>Liverpool</td>\n",
       "      <td>Business</td>\n",
       "      <td>&lt;2011</td>\n",
       "      <td>Abbas Houda</td>\n",
       "      <td>Masters</td>\n",
       "      <td>MA</td>\n",
       "      <td>Other</td>\n",
       "      <td>Bachelor of Science (Communications), Master of Arts (International Affairs), Master of Business Administrat (Business Administration)</td>\n",
       "      <td>Business Administration</td>\n",
       "      <td>10+ Years Small Business Ownership, 10+ Years SME Consulting, 10+ Years Corporate/Vocational Business Training, 8 Years Teaching Experience</td>\n",
       "      <td>Industry &amp; Teaching experience</td>\n",
       "      <td>3</td>\n",
       "    </tr>\n",
       "  </tbody>\n",
       "</table>\n",
       "</div>"
      ],
      "text/plain": [
       "    Location     Title Join Date   Reports To Highest Qualification Level  \\\n",
       "0  Liverpool  Business     <2011  Abbas Houda                     Masters   \n",
       "\n",
       "  Highest Qualification  Major  \\\n",
       "0                    MA  Other   \n",
       "\n",
       "                                                                                                          All Qualifications from Profile  \\\n",
       "0  Bachelor of Science (Communications), Master of Arts (International Affairs), Master of Business Administrat (Business Administration)   \n",
       "\n",
       "      Major Teaching Field  \\\n",
       "0  Business Administration   \n",
       "\n",
       "                                                                                                                                    Experience  \\\n",
       "0  10+ Years Small Business Ownership, 10+ Years SME Consulting, 10+ Years Corporate/Vocational Business Training, 8 Years Teaching Experience   \n",
       "\n",
       "                         Criteria No. of Qualifications  \n",
       "0  Industry & Teaching experience                     3  "
      ]
     },
     "execution_count": 103,
     "metadata": {},
     "output_type": "execute_result"
    }
   ],
   "source": [
    "sis.head(1)"
   ]
  },
  {
   "cell_type": "markdown",
   "id": "471aaad6",
   "metadata": {},
   "source": [
    "Data in the Experience column is unstructured so will be very difficult to prepare for ML model use. I will first inspect the 'Criteria' column and then revisit 'Experience'"
   ]
  },
  {
   "cell_type": "code",
   "execution_count": 104,
   "id": "41fa886b",
   "metadata": {},
   "outputs": [
    {
     "data": {
      "text/plain": [
       "Industry & Teaching experience                     221\n",
       "Certification                                       27\n",
       "Researcher                                          15\n",
       "Researcher/Curriculum Development                    4\n",
       "Certification/Curriculum Development                 3\n",
       "Trainee                                              2\n",
       "Certification/Researcher/Curriculum Development      1\n",
       "Certification/Researcher                             1\n",
       "Name: Criteria, dtype: int64"
      ]
     },
     "execution_count": 104,
     "metadata": {},
     "output_type": "execute_result"
    }
   ],
   "source": [
    "sis['Criteria'].value_counts()"
   ]
  },
  {
   "cell_type": "markdown",
   "id": "23af3220",
   "metadata": {},
   "source": [
    "There are 3 clear categories in this column.\n",
    "* Industry & Teaching experience\n",
    "* Certification\n",
    "* Researcher\n",
    "* Trainee\n",
    "\n",
    "I will amend outlier values to fit these categories. In the instance where Certification and researcher both appear in a value, whichever comes first will be used to categorise the value."
   ]
  },
  {
   "cell_type": "code",
   "execution_count": 105,
   "id": "dee94ae5",
   "metadata": {},
   "outputs": [],
   "source": [
    "sis['Criteria'].mask(sis['Criteria'].str.contains('Researcher/') == True, 'Researcher', inplace=True)\n",
    "sis['Criteria'].mask(sis['Criteria'].str.contains('Certification/') == True, 'Certification', inplace=True)"
   ]
  },
  {
   "cell_type": "code",
   "execution_count": 106,
   "id": "7cd7d7a9",
   "metadata": {},
   "outputs": [
    {
     "data": {
      "text/plain": [
       "Industry & Teaching experience    221\n",
       "Certification                      31\n",
       "Researcher                         20\n",
       "Trainee                             2\n",
       "Name: Criteria, dtype: int64"
      ]
     },
     "execution_count": 106,
     "metadata": {},
     "output_type": "execute_result"
    }
   ],
   "source": [
    "sis['Criteria'].value_counts()"
   ]
  },
  {
   "cell_type": "markdown",
   "id": "f06b77b8",
   "metadata": {},
   "source": [
    "As above, almost everyone experience through Industry & Teaching, Certification, or through research.\n",
    "The 'Experience' column contains data with details on years of experience. However, due to the unstructured and inconsistent format, as well as the large number of missing values, I will drop this column."
   ]
  },
  {
   "cell_type": "code",
   "execution_count": 107,
   "id": "21c2b049",
   "metadata": {},
   "outputs": [],
   "source": [
    "sis.drop('Experience', axis=1, inplace=True)"
   ]
  },
  {
   "cell_type": "markdown",
   "id": "99917cbf",
   "metadata": {},
   "source": [
    "### Now all columns have been reviewed. Review overall missing values and column cardinality"
   ]
  },
  {
   "cell_type": "code",
   "execution_count": 108,
   "id": "c1e18321",
   "metadata": {},
   "outputs": [
    {
     "data": {
      "text/plain": [
       "Location                           0\n",
       "Title                              0\n",
       "Join Date                          0\n",
       "Reports To                         0\n",
       "Highest Qualification Level        6\n",
       "Highest Qualification              6\n",
       "Major                              0\n",
       "All Qualifications from Profile    0\n",
       "Major Teaching Field               0\n",
       "Criteria                           0\n",
       "No. of Qualifications              0\n",
       "dtype: int64"
      ]
     },
     "execution_count": 108,
     "metadata": {},
     "output_type": "execute_result"
    }
   ],
   "source": [
    "sis.isnull().sum()"
   ]
  },
  {
   "cell_type": "code",
   "execution_count": 109,
   "id": "7ea01ebf",
   "metadata": {},
   "outputs": [
    {
     "data": {
      "text/html": [
       "<div>\n",
       "<style scoped>\n",
       "    .dataframe tbody tr th:only-of-type {\n",
       "        vertical-align: middle;\n",
       "    }\n",
       "\n",
       "    .dataframe tbody tr th {\n",
       "        vertical-align: top;\n",
       "    }\n",
       "\n",
       "    .dataframe thead th {\n",
       "        text-align: right;\n",
       "    }\n",
       "</style>\n",
       "<table border=\"1\" class=\"dataframe\">\n",
       "  <thead>\n",
       "    <tr style=\"text-align: right;\">\n",
       "      <th></th>\n",
       "      <th>Location</th>\n",
       "      <th>Title</th>\n",
       "      <th>Join Date</th>\n",
       "      <th>Reports To</th>\n",
       "      <th>Highest Qualification Level</th>\n",
       "      <th>Highest Qualification</th>\n",
       "      <th>Major</th>\n",
       "      <th>All Qualifications from Profile</th>\n",
       "      <th>Major Teaching Field</th>\n",
       "      <th>Criteria</th>\n",
       "      <th>No. of Qualifications</th>\n",
       "    </tr>\n",
       "  </thead>\n",
       "  <tbody>\n",
       "    <tr>\n",
       "      <th>19</th>\n",
       "      <td>Liverpool</td>\n",
       "      <td>Business</td>\n",
       "      <td>2015</td>\n",
       "      <td>Abbas Houda</td>\n",
       "      <td>NaN</td>\n",
       "      <td>NaN</td>\n",
       "      <td>Other</td>\n",
       "      <td>Post Graduate Diploma (Political Science), Masters (International Relation), Diploma (Physical Education), Masters (Business Management)</td>\n",
       "      <td>Business Administration</td>\n",
       "      <td>Industry &amp; Teaching experience</td>\n",
       "      <td>4</td>\n",
       "    </tr>\n",
       "    <tr>\n",
       "      <th>99</th>\n",
       "      <td>Bristol</td>\n",
       "      <td>Business</td>\n",
       "      <td>2015</td>\n",
       "      <td>Nick Omotayo</td>\n",
       "      <td>NaN</td>\n",
       "      <td>NaN</td>\n",
       "      <td>Other</td>\n",
       "      <td>Bachelor (Hospitality Management), Masters (Business)</td>\n",
       "      <td>Other</td>\n",
       "      <td>Industry &amp; Teaching experience</td>\n",
       "      <td>2</td>\n",
       "    </tr>\n",
       "    <tr>\n",
       "      <th>101</th>\n",
       "      <td>Bristol</td>\n",
       "      <td>Business</td>\n",
       "      <td>2015</td>\n",
       "      <td>Daphne Keaton</td>\n",
       "      <td>NaN</td>\n",
       "      <td>NaN</td>\n",
       "      <td>Other</td>\n",
       "      <td>Masters (Finance), Bachelor (Economics)</td>\n",
       "      <td>Other</td>\n",
       "      <td>Industry &amp; Teaching experience</td>\n",
       "      <td>2</td>\n",
       "    </tr>\n",
       "    <tr>\n",
       "      <th>245</th>\n",
       "      <td>Leicester</td>\n",
       "      <td>Business</td>\n",
       "      <td>2015</td>\n",
       "      <td>Olu Ebenezer</td>\n",
       "      <td>NaN</td>\n",
       "      <td>NaN</td>\n",
       "      <td>Other</td>\n",
       "      <td>Bachelor (Accounting), Masters (Business)</td>\n",
       "      <td>Finance</td>\n",
       "      <td>Industry &amp; Teaching experience</td>\n",
       "      <td>2</td>\n",
       "    </tr>\n",
       "    <tr>\n",
       "      <th>258</th>\n",
       "      <td>Cambridge</td>\n",
       "      <td>Business</td>\n",
       "      <td>2015</td>\n",
       "      <td>Olu Ebenezer</td>\n",
       "      <td>NaN</td>\n",
       "      <td>NaN</td>\n",
       "      <td>Other</td>\n",
       "      <td>Masters (Finance), Bachelor (Accounting &amp; Finance), Post Degree Certificate ()</td>\n",
       "      <td>Other</td>\n",
       "      <td>Industry &amp; Teaching experience</td>\n",
       "      <td>3</td>\n",
       "    </tr>\n",
       "    <tr>\n",
       "      <th>259</th>\n",
       "      <td>Cambridge</td>\n",
       "      <td>Business</td>\n",
       "      <td>2015</td>\n",
       "      <td>Olu Ebenezer</td>\n",
       "      <td>NaN</td>\n",
       "      <td>NaN</td>\n",
       "      <td>Other</td>\n",
       "      <td>Bachelor (English Language &amp; Literature), Masters (Computer Science), Ph.D (Computing)</td>\n",
       "      <td>Business Administration</td>\n",
       "      <td>Industry &amp; Teaching experience</td>\n",
       "      <td>3</td>\n",
       "    </tr>\n",
       "  </tbody>\n",
       "</table>\n",
       "</div>"
      ],
      "text/plain": [
       "      Location     Title Join Date     Reports To Highest Qualification Level  \\\n",
       "19   Liverpool  Business      2015    Abbas Houda                         NaN   \n",
       "99     Bristol  Business      2015   Nick Omotayo                         NaN   \n",
       "101    Bristol  Business      2015  Daphne Keaton                         NaN   \n",
       "245  Leicester  Business      2015   Olu Ebenezer                         NaN   \n",
       "258  Cambridge  Business      2015   Olu Ebenezer                         NaN   \n",
       "259  Cambridge  Business      2015   Olu Ebenezer                         NaN   \n",
       "\n",
       "    Highest Qualification  Major  \\\n",
       "19                    NaN  Other   \n",
       "99                    NaN  Other   \n",
       "101                   NaN  Other   \n",
       "245                   NaN  Other   \n",
       "258                   NaN  Other   \n",
       "259                   NaN  Other   \n",
       "\n",
       "                                                                                                              All Qualifications from Profile  \\\n",
       "19   Post Graduate Diploma (Political Science), Masters (International Relation), Diploma (Physical Education), Masters (Business Management)   \n",
       "99                                                                                      Bachelor (Hospitality Management), Masters (Business)   \n",
       "101                                                                                                   Masters (Finance), Bachelor (Economics)   \n",
       "245                                                                                                 Bachelor (Accounting), Masters (Business)   \n",
       "258                                                            Masters (Finance), Bachelor (Accounting & Finance), Post Degree Certificate ()   \n",
       "259                                                    Bachelor (English Language & Literature), Masters (Computer Science), Ph.D (Computing)   \n",
       "\n",
       "        Major Teaching Field                        Criteria  \\\n",
       "19   Business Administration  Industry & Teaching experience   \n",
       "99                     Other  Industry & Teaching experience   \n",
       "101                    Other  Industry & Teaching experience   \n",
       "245                  Finance  Industry & Teaching experience   \n",
       "258                    Other  Industry & Teaching experience   \n",
       "259  Business Administration  Industry & Teaching experience   \n",
       "\n",
       "    No. of Qualifications  \n",
       "19                      4  \n",
       "99                      2  \n",
       "101                     2  \n",
       "245                     2  \n",
       "258                     3  \n",
       "259                     3  "
      ]
     },
     "execution_count": 109,
     "metadata": {},
     "output_type": "execute_result"
    }
   ],
   "source": [
    "# Review 6 missing values above\n",
    "sis[sis['Highest Qualification Level'].isnull()]"
   ]
  },
  {
   "cell_type": "markdown",
   "id": "7e1de20e",
   "metadata": {},
   "source": [
    "Use info in 'All Qualifications from Profile' to impute missing values"
   ]
  },
  {
   "cell_type": "code",
   "execution_count": 110,
   "id": "ae221bc6",
   "metadata": {},
   "outputs": [],
   "source": [
    "sis.at[19, 'Highest Qualification Level'] = 'Masters'\n",
    "sis.at[19, 'Highest Qualification'] = 'MBA'\n",
    "sis.at[99, 'Highest Qualification Level'] = 'Masters'\n",
    "sis.at[99, 'Highest Qualification'] = 'MBA'\n",
    "sis.at[101, 'Highest Qualification Level'] = 'Masters'\n",
    "sis.at[101, 'Highest Qualification'] = 'Other'\n",
    "sis.at[245, 'Highest Qualification Level'] = 'Masters'\n",
    "sis.at[245, 'Highest Qualification'] = 'MBA'\n",
    "sis.at[258, 'Highest Qualification Level'] = 'Masters'\n",
    "sis.at[258, 'Highest Qualification'] = 'Other'\n",
    "sis.at[259, 'Highest Qualification Level'] = 'Masters'\n",
    "sis.at[259, 'Highest Qualification'] = 'MSc'"
   ]
  },
  {
   "cell_type": "code",
   "execution_count": 111,
   "id": "c5ae3b07",
   "metadata": {},
   "outputs": [
    {
     "data": {
      "text/plain": [
       "Location                           0\n",
       "Title                              0\n",
       "Join Date                          0\n",
       "Reports To                         0\n",
       "Highest Qualification Level        0\n",
       "Highest Qualification              0\n",
       "Major                              0\n",
       "All Qualifications from Profile    0\n",
       "Major Teaching Field               0\n",
       "Criteria                           0\n",
       "No. of Qualifications              0\n",
       "dtype: int64"
      ]
     },
     "execution_count": 111,
     "metadata": {},
     "output_type": "execute_result"
    }
   ],
   "source": [
    "sis.isnull().sum()"
   ]
  },
  {
   "cell_type": "code",
   "execution_count": 112,
   "id": "471b9cfc",
   "metadata": {},
   "outputs": [
    {
     "data": {
      "text/plain": [
       "Text(0.5, 1.0, 'Cardinality')"
      ]
     },
     "execution_count": 112,
     "metadata": {},
     "output_type": "execute_result"
    },
    {
     "data": {
      "image/png": "[encoded data removed]",
      "text/plain": [
       "<Figure size 864x432 with 1 Axes>"
      ]
     },
     "metadata": {
      "needs_background": "light"
     },
     "output_type": "display_data"
    }
   ],
   "source": [
    "# Visualise new column cardinality in a bar chart\n",
    "sis.nunique().plot.bar(figsize=(12,6))\n",
    "plt.ylabel('Number of unique categories')\n",
    "plt.xlabel('Variables')\n",
    "plt.title('Cardinality')"
   ]
  },
  {
   "cell_type": "code",
   "execution_count": 113,
   "id": "7358f756",
   "metadata": {},
   "outputs": [],
   "source": [
    "# Drop 'All Qualifications from Profile' as this is no longer needed\n",
    "sis.drop('All Qualifications from Profile', axis=1, inplace=True)"
   ]
  },
  {
   "cell_type": "code",
   "execution_count": 114,
   "id": "6970387f",
   "metadata": {},
   "outputs": [
    {
     "data": {
      "text/plain": [
       "Text(0.5, 1.0, 'Cardinality')"
      ]
     },
     "execution_count": 114,
     "metadata": {},
     "output_type": "execute_result"
    },
    {
     "data": {
      "image/png": "[encoded data removed]",
      "text/plain": [
       "<Figure size 864x432 with 1 Axes>"
      ]
     },
     "metadata": {
      "needs_background": "light"
     },
     "output_type": "display_data"
    }
   ],
   "source": [
    "# Visualise new column cardinality in a bar chart\n",
    "sis.nunique().plot.bar(figsize=(12,6))\n",
    "plt.ylabel('Number of unique categories')\n",
    "plt.xlabel('Variables')\n",
    "plt.title('Cardinality')"
   ]
  },
  {
   "cell_type": "markdown",
   "id": "1445e51a",
   "metadata": {},
   "source": [
    "### Data missing values and cardinality issues has now been reviewed\n",
    "* Next I need to consider data types so the data can be preprocessed for ML model use"
   ]
  },
  {
   "cell_type": "code",
   "execution_count": 115,
   "id": "adf0829a",
   "metadata": {},
   "outputs": [
    {
     "data": {
      "text/plain": [
       "Location                       object\n",
       "Title                          object\n",
       "Join Date                      object\n",
       "Reports To                     object\n",
       "Highest Qualification Level    object\n",
       "Highest Qualification          object\n",
       "Major                          object\n",
       "Major Teaching Field           object\n",
       "Criteria                       object\n",
       "No. of Qualifications          object\n",
       "dtype: object"
      ]
     },
     "execution_count": 115,
     "metadata": {},
     "output_type": "execute_result"
    }
   ],
   "source": [
    "sis.dtypes"
   ]
  },
  {
   "cell_type": "markdown",
   "id": "bd480e2f",
   "metadata": {},
   "source": [
    "dtypes are all 'object'. This means I will need to use a categorical encoding tool."
   ]
  },
  {
   "cell_type": "code",
   "execution_count": 116,
   "id": "e7a6ea4c",
   "metadata": {},
   "outputs": [
    {
     "data": {
      "text/plain": [
       "Location                       16\n",
       "Title                           2\n",
       "Join Date                       7\n",
       "Reports To                     15\n",
       "Highest Qualification Level     3\n",
       "Highest Qualification           6\n",
       "Major                           6\n",
       "Major Teaching Field            5\n",
       "Criteria                        4\n",
       "No. of Qualifications           6\n",
       "dtype: int64"
      ]
     },
     "execution_count": 116,
     "metadata": {},
     "output_type": "execute_result"
    }
   ],
   "source": [
    "sis.nunique()"
   ]
  },
  {
   "cell_type": "code",
   "execution_count": 117,
   "id": "d0c0a643",
   "metadata": {},
   "outputs": [
    {
     "data": {
      "text/plain": [
       "70"
      ]
     },
     "execution_count": 117,
     "metadata": {},
     "output_type": "execute_result"
    }
   ],
   "source": [
    "sis.nunique().sum()"
   ]
  },
  {
   "cell_type": "markdown",
   "id": "12572d4b",
   "metadata": {},
   "source": [
    "* The 'sis' data only has 270 rows. \n",
    "* Despite working to reduce cardinality, there are still 70 unique values across all columns.\n",
    "* There is not enough data to One Hot Encode every column, and there is not information to One Hot Encode a specific subset as we do not know which ML model will be used, or for what purpose.\n",
    "* I will use the sklearn LabelEncoder library to convert my categorical data into numerical data"
   ]
  },
  {
   "cell_type": "code",
   "execution_count": 118,
   "id": "2f13f78f",
   "metadata": {},
   "outputs": [],
   "source": [
    "# Import LabelEncoder\n",
    "from sklearn.preprocessing import LabelEncoder"
   ]
  },
  {
   "cell_type": "code",
   "execution_count": 119,
   "id": "9e364e8c",
   "metadata": {},
   "outputs": [],
   "source": [
    "# First save un-encoded clean data to csv before encoding\n",
    "#sis.to_csv('SIS_clean')"
   ]
  },
  {
   "cell_type": "code",
   "execution_count": 120,
   "id": "0b0be36a",
   "metadata": {},
   "outputs": [
    {
     "data": {
      "text/plain": [
       "Index(['Location', 'Title', 'Join Date', 'Reports To',\n",
       "       'Highest Qualification Level', 'Highest Qualification', 'Major',\n",
       "       'Major Teaching Field', 'Criteria', 'No. of Qualifications'],\n",
       "      dtype='object')"
      ]
     },
     "execution_count": 120,
     "metadata": {},
     "output_type": "execute_result"
    }
   ],
   "source": [
    "sis.columns"
   ]
  },
  {
   "cell_type": "code",
   "execution_count": 121,
   "id": "110383cf",
   "metadata": {},
   "outputs": [],
   "source": [
    "# No. of Qualifications is already a number so doesn't need to be encoded\n",
    "cols = ['Location', 'Title', 'Join Date', 'Reports To',\n",
    "       'Highest Qualification Level', 'Highest Qualification', 'Major',\n",
    "       'Major Teaching Field', 'Criteria']"
   ]
  },
  {
   "cell_type": "code",
   "execution_count": 122,
   "id": "fa74c708",
   "metadata": {},
   "outputs": [
    {
     "data": {
      "text/html": [
       "<div>\n",
       "<style scoped>\n",
       "    .dataframe tbody tr th:only-of-type {\n",
       "        vertical-align: middle;\n",
       "    }\n",
       "\n",
       "    .dataframe tbody tr th {\n",
       "        vertical-align: top;\n",
       "    }\n",
       "\n",
       "    .dataframe thead th {\n",
       "        text-align: right;\n",
       "    }\n",
       "</style>\n",
       "<table border=\"1\" class=\"dataframe\">\n",
       "  <thead>\n",
       "    <tr style=\"text-align: right;\">\n",
       "      <th></th>\n",
       "      <th>Location</th>\n",
       "      <th>Title</th>\n",
       "      <th>Join Date</th>\n",
       "      <th>Reports To</th>\n",
       "      <th>Highest Qualification Level</th>\n",
       "      <th>Highest Qualification</th>\n",
       "      <th>Major</th>\n",
       "      <th>Major Teaching Field</th>\n",
       "      <th>Criteria</th>\n",
       "      <th>No. of Qualifications</th>\n",
       "    </tr>\n",
       "  </thead>\n",
       "  <tbody>\n",
       "    <tr>\n",
       "      <th>0</th>\n",
       "      <td>Liverpool</td>\n",
       "      <td>Business</td>\n",
       "      <td>&lt;2011</td>\n",
       "      <td>Abbas Houda</td>\n",
       "      <td>Masters</td>\n",
       "      <td>MA</td>\n",
       "      <td>Other</td>\n",
       "      <td>Business Administration</td>\n",
       "      <td>Industry &amp; Teaching experience</td>\n",
       "      <td>3</td>\n",
       "    </tr>\n",
       "    <tr>\n",
       "      <th>1</th>\n",
       "      <td>Liverpool</td>\n",
       "      <td>Business</td>\n",
       "      <td>&lt;2011</td>\n",
       "      <td>Abbas Houda</td>\n",
       "      <td>Masters</td>\n",
       "      <td>MSc</td>\n",
       "      <td>Business Administration</td>\n",
       "      <td>Business Administration</td>\n",
       "      <td>Certification</td>\n",
       "      <td>3</td>\n",
       "    </tr>\n",
       "    <tr>\n",
       "      <th>2</th>\n",
       "      <td>Liverpool</td>\n",
       "      <td>Business</td>\n",
       "      <td>&lt;2011</td>\n",
       "      <td>Abbas Houda</td>\n",
       "      <td>Masters</td>\n",
       "      <td>MBA</td>\n",
       "      <td>Marketing</td>\n",
       "      <td>Management</td>\n",
       "      <td>Industry &amp; Teaching experience</td>\n",
       "      <td>5</td>\n",
       "    </tr>\n",
       "    <tr>\n",
       "      <th>3</th>\n",
       "      <td>Liverpool</td>\n",
       "      <td>Business</td>\n",
       "      <td>2016</td>\n",
       "      <td>Abbas Houda</td>\n",
       "      <td>Doctorate</td>\n",
       "      <td>Ph.D</td>\n",
       "      <td>Management</td>\n",
       "      <td>Management</td>\n",
       "      <td>Researcher</td>\n",
       "      <td>2</td>\n",
       "    </tr>\n",
       "    <tr>\n",
       "      <th>4</th>\n",
       "      <td>London</td>\n",
       "      <td>Business</td>\n",
       "      <td>2016</td>\n",
       "      <td>Tony Emmanuel</td>\n",
       "      <td>Doctorate</td>\n",
       "      <td>Ph.D</td>\n",
       "      <td>Business Administration</td>\n",
       "      <td>Business Administration</td>\n",
       "      <td>Researcher</td>\n",
       "      <td>2</td>\n",
       "    </tr>\n",
       "  </tbody>\n",
       "</table>\n",
       "</div>"
      ],
      "text/plain": [
       "    Location     Title Join Date     Reports To Highest Qualification Level  \\\n",
       "0  Liverpool  Business     <2011    Abbas Houda                     Masters   \n",
       "1  Liverpool  Business     <2011    Abbas Houda                     Masters   \n",
       "2  Liverpool  Business     <2011    Abbas Houda                     Masters   \n",
       "3  Liverpool  Business      2016    Abbas Houda                   Doctorate   \n",
       "4     London  Business      2016  Tony Emmanuel                   Doctorate   \n",
       "\n",
       "  Highest Qualification                    Major     Major Teaching Field  \\\n",
       "0                    MA                    Other  Business Administration   \n",
       "1                   MSc  Business Administration  Business Administration   \n",
       "2                   MBA                Marketing               Management   \n",
       "3                  Ph.D               Management               Management   \n",
       "4                  Ph.D  Business Administration  Business Administration   \n",
       "\n",
       "                         Criteria No. of Qualifications  \n",
       "0  Industry & Teaching experience                     3  \n",
       "1                   Certification                     3  \n",
       "2  Industry & Teaching experience                     5  \n",
       "3                      Researcher                     2  \n",
       "4                      Researcher                     2  "
      ]
     },
     "execution_count": 122,
     "metadata": {},
     "output_type": "execute_result"
    }
   ],
   "source": [
    "sis.head()"
   ]
  },
  {
   "cell_type": "code",
   "execution_count": 123,
   "id": "cad4798f",
   "metadata": {},
   "outputs": [],
   "source": [
    "le = LabelEncoder()\n",
    "\n",
    "for feature in cols:\n",
    "    sis[feature] = le.fit_transform(sis[feature].astype(str))"
   ]
  },
  {
   "cell_type": "code",
   "execution_count": 124,
   "id": "a508ebaa",
   "metadata": {},
   "outputs": [
    {
     "data": {
      "text/html": [
       "<div>\n",
       "<style scoped>\n",
       "    .dataframe tbody tr th:only-of-type {\n",
       "        vertical-align: middle;\n",
       "    }\n",
       "\n",
       "    .dataframe tbody tr th {\n",
       "        vertical-align: top;\n",
       "    }\n",
       "\n",
       "    .dataframe thead th {\n",
       "        text-align: right;\n",
       "    }\n",
       "</style>\n",
       "<table border=\"1\" class=\"dataframe\">\n",
       "  <thead>\n",
       "    <tr style=\"text-align: right;\">\n",
       "      <th></th>\n",
       "      <th>Location</th>\n",
       "      <th>Title</th>\n",
       "      <th>Join Date</th>\n",
       "      <th>Reports To</th>\n",
       "      <th>Highest Qualification Level</th>\n",
       "      <th>Highest Qualification</th>\n",
       "      <th>Major</th>\n",
       "      <th>Major Teaching Field</th>\n",
       "      <th>Criteria</th>\n",
       "      <th>No. of Qualifications</th>\n",
       "    </tr>\n",
       "  </thead>\n",
       "  <tbody>\n",
       "    <tr>\n",
       "      <th>0</th>\n",
       "      <td>11</td>\n",
       "      <td>0</td>\n",
       "      <td>6</td>\n",
       "      <td>0</td>\n",
       "      <td>2</td>\n",
       "      <td>1</td>\n",
       "      <td>5</td>\n",
       "      <td>0</td>\n",
       "      <td>1</td>\n",
       "      <td>3</td>\n",
       "    </tr>\n",
       "    <tr>\n",
       "      <th>1</th>\n",
       "      <td>11</td>\n",
       "      <td>0</td>\n",
       "      <td>6</td>\n",
       "      <td>0</td>\n",
       "      <td>2</td>\n",
       "      <td>3</td>\n",
       "      <td>0</td>\n",
       "      <td>0</td>\n",
       "      <td>0</td>\n",
       "      <td>3</td>\n",
       "    </tr>\n",
       "    <tr>\n",
       "      <th>2</th>\n",
       "      <td>11</td>\n",
       "      <td>0</td>\n",
       "      <td>6</td>\n",
       "      <td>0</td>\n",
       "      <td>2</td>\n",
       "      <td>2</td>\n",
       "      <td>4</td>\n",
       "      <td>2</td>\n",
       "      <td>1</td>\n",
       "      <td>5</td>\n",
       "    </tr>\n",
       "    <tr>\n",
       "      <th>3</th>\n",
       "      <td>11</td>\n",
       "      <td>0</td>\n",
       "      <td>5</td>\n",
       "      <td>0</td>\n",
       "      <td>1</td>\n",
       "      <td>5</td>\n",
       "      <td>3</td>\n",
       "      <td>2</td>\n",
       "      <td>2</td>\n",
       "      <td>2</td>\n",
       "    </tr>\n",
       "    <tr>\n",
       "      <th>4</th>\n",
       "      <td>12</td>\n",
       "      <td>0</td>\n",
       "      <td>5</td>\n",
       "      <td>14</td>\n",
       "      <td>1</td>\n",
       "      <td>5</td>\n",
       "      <td>0</td>\n",
       "      <td>0</td>\n",
       "      <td>2</td>\n",
       "      <td>2</td>\n",
       "    </tr>\n",
       "  </tbody>\n",
       "</table>\n",
       "</div>"
      ],
      "text/plain": [
       "   Location  Title  Join Date  Reports To  Highest Qualification Level  \\\n",
       "0        11      0          6           0                            2   \n",
       "1        11      0          6           0                            2   \n",
       "2        11      0          6           0                            2   \n",
       "3        11      0          5           0                            1   \n",
       "4        12      0          5          14                            1   \n",
       "\n",
       "   Highest Qualification  Major  Major Teaching Field  Criteria  \\\n",
       "0                      1      5                     0         1   \n",
       "1                      3      0                     0         0   \n",
       "2                      2      4                     2         1   \n",
       "3                      5      3                     2         2   \n",
       "4                      5      0                     0         2   \n",
       "\n",
       "  No. of Qualifications  \n",
       "0                     3  \n",
       "1                     3  \n",
       "2                     5  \n",
       "3                     2  \n",
       "4                     2  "
      ]
     },
     "execution_count": 124,
     "metadata": {},
     "output_type": "execute_result"
    }
   ],
   "source": [
    "sis.head()"
   ]
  },
  {
   "cell_type": "code",
   "execution_count": 125,
   "id": "e65ef849",
   "metadata": {},
   "outputs": [],
   "source": [
    "# Save encoded data to csv\n",
    "#sis.to_csv('SIS_clean_encoded')"
   ]
  }
 ],
 "metadata": {
  "kernelspec": {
   "display_name": "Python 3 (ipykernel)",
   "language": "python",
   "name": "python3"
  },
  "language_info": {
   "codemirror_mode": {
    "name": "ipython",
    "version": 3
   },
   "file_extension": ".py",
   "mimetype": "text/x-python",
   "name": "python",
   "nbconvert_exporter": "python",
   "pygments_lexer": "ipython3",
   "version": "3.11.7"
  }
 },
 "nbformat": 4,
 "nbformat_minor": 5
}
